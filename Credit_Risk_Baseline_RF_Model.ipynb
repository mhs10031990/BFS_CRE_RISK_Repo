{
 "cells": [
  {
   "cell_type": "markdown",
   "id": "ddbe6a7a",
   "metadata": {},
   "source": [
    "# Use Credit Risk Analytics Notebook Template"
   ]
  },
  {
   "cell_type": "code",
   "execution_count": 2,
   "id": "d8bd62d3",
   "metadata": {},
   "outputs": [],
   "source": [
    "from snowflake.snowpark import Session"
   ]
  },
  {
   "cell_type": "code",
   "execution_count": 3,
   "id": "32837b36",
   "metadata": {},
   "outputs": [],
   "source": [
    "import pandas as pd\n",
    "import numpy as np\n",
    "import matplotlib.pyplot as plt\n",
    "import matplotlib\n",
    "\n",
    "from sklearn.ensemble import RandomForestClassifier\n",
    "from sklearn.model_selection import StratifiedKFold\n",
    "from sklearn.metrics import roc_curve, auc\n",
    "\n",
    "%matplotlib inline\n",
    "matplotlib.rcParams.update({'font.size': 20})\n",
    "\n",
    "from fosforml.model_manager.snowflakesession import get_session\n",
    "my_session = get_session()"
   ]
  },
  {
   "cell_type": "code",
   "execution_count": 4,
   "id": "1bf87471-2602-4b6f-8340-4b3f5ed5320f",
   "metadata": {},
   "outputs": [],
   "source": [
    "table_name = 'CRA_APPLICATION_TRAIN_DETAILS'\n",
    "\n",
    "sf_df = my_session.sql(\"select * from {}\".format(table_name))\n",
    "application_train = sf_df.to_pandas()"
   ]
  },
  {
   "cell_type": "code",
   "execution_count": 5,
   "id": "e7f76ea5-9d2c-4150-9d77-f136a1c62cb0",
   "metadata": {},
   "outputs": [],
   "source": [
    "table_name = 'CRA_APPLICATION_TEST_DETAILS'\n",
    "\n",
    "sf_df = my_session.sql(\"select * from {}\".format(table_name))\n",
    "application_test = sf_df.to_pandas()"
   ]
  },
  {
   "cell_type": "code",
   "execution_count": 6,
   "id": "c21eb846-28a7-41bf-8e8b-8b31f9137c74",
   "metadata": {},
   "outputs": [],
   "source": [
    "table_name = 'CRA_BUREAU_DETAILS'\n",
    "\n",
    "sf_df = my_session.sql(\"select * from {}\".format(table_name))\n",
    "bureau = sf_df.to_pandas()"
   ]
  },
  {
   "cell_type": "code",
   "execution_count": 7,
   "id": "40e39ab3-9889-43fe-95f4-44a93d94ce07",
   "metadata": {},
   "outputs": [],
   "source": [
    "table_name = 'CRA_BUREAU_BALANCE_DETAILS'\n",
    "\n",
    "sf_df = my_session.sql(\"select * from {}\".format(table_name))\n",
    "bureau_balance = sf_df.to_pandas()"
   ]
  },
  {
   "cell_type": "code",
   "execution_count": 8,
   "id": "444d2fda-ca00-42fb-9576-bcb7d2e2706b",
   "metadata": {},
   "outputs": [],
   "source": [
    "table_name = 'CRA_CREDIT_CARD_BALANCE_DETAILS'\n",
    "\n",
    "sf_df = my_session.sql(\"select * from {}\".format(table_name))\n",
    "credit_card_balance = sf_df.to_pandas()"
   ]
  },
  {
   "cell_type": "code",
   "execution_count": 9,
   "id": "89a271e2-d2f2-4b5c-acc1-517031e4524f",
   "metadata": {},
   "outputs": [],
   "source": [
    "table_name = 'CRA_INSTALLMENTS_PAYMENTS_DETAILS'\n",
    "\n",
    "sf_df = my_session.sql(\"select * from {}\".format(table_name))\n",
    "installments_payments = sf_df.to_pandas()"
   ]
  },
  {
   "cell_type": "code",
   "execution_count": 10,
   "id": "985682a6-4a14-46fc-870b-47d74bae14a1",
   "metadata": {},
   "outputs": [],
   "source": [
    "table_name = 'CRA_PREVIOUS_APPLICATION_DETAILS'\n",
    "\n",
    "sf_df = my_session.sql(\"select * from {}\".format(table_name))\n",
    "previous_application = sf_df.to_pandas()"
   ]
  },
  {
   "cell_type": "code",
   "execution_count": 11,
   "id": "329da27e-4004-4172-9704-106756728e47",
   "metadata": {},
   "outputs": [],
   "source": [
    "table_name = 'CRA_POS_CASH_BALANCE_DETAILS'\n",
    "\n",
    "sf_df = my_session.sql(\"select * from {}\".format(table_name))\n",
    "POS_CASH_balance = sf_df.to_pandas()"
   ]
  },
  {
   "cell_type": "code",
   "execution_count": 12,
   "id": "8b65c096",
   "metadata": {},
   "outputs": [],
   "source": [
    "df = application_train.copy()\n",
    "df_bureau = bureau.copy()\n",
    "df_previous_app = previous_application.copy()\n",
    "df_installments = installments_payments.copy()"
   ]
  },
  {
   "cell_type": "code",
   "execution_count": 13,
   "id": "8f1a2832",
   "metadata": {
    "scrolled": true
   },
   "outputs": [
    {
     "data": {
      "text/html": [
       "<div>\n",
       "<style scoped>\n",
       "    .dataframe tbody tr th:only-of-type {\n",
       "        vertical-align: middle;\n",
       "    }\n",
       "\n",
       "    .dataframe tbody tr th {\n",
       "        vertical-align: top;\n",
       "    }\n",
       "\n",
       "    .dataframe thead th {\n",
       "        text-align: right;\n",
       "    }\n",
       "</style>\n",
       "<table border=\"1\" class=\"dataframe\">\n",
       "  <thead>\n",
       "    <tr style=\"text-align: right;\">\n",
       "      <th></th>\n",
       "      <th>SK_ID_CURR</th>\n",
       "      <th>BUREAU_MAX_DAYS_CREDIT</th>\n",
       "      <th>BUREAU_MAX_DAYS_CREDIT_ENDDATE</th>\n",
       "      <th>BUREAU_MAX_DAYS_ENDDATE_FACT</th>\n",
       "    </tr>\n",
       "  </thead>\n",
       "  <tbody>\n",
       "    <tr>\n",
       "      <th>244052</th>\n",
       "      <td>281619</td>\n",
       "      <td>-52.0</td>\n",
       "      <td>1044.0</td>\n",
       "      <td>-71.0</td>\n",
       "    </tr>\n",
       "    <tr>\n",
       "      <th>203408</th>\n",
       "      <td>111539</td>\n",
       "      <td>-779.0</td>\n",
       "      <td>-2246.0</td>\n",
       "      <td>-2246.0</td>\n",
       "    </tr>\n",
       "    <tr>\n",
       "      <th>149236</th>\n",
       "      <td>159075</td>\n",
       "      <td>-734.0</td>\n",
       "      <td>1092.0</td>\n",
       "      <td>NaN</td>\n",
       "    </tr>\n",
       "  </tbody>\n",
       "</table>\n",
       "</div>"
      ],
      "text/plain": [
       "        SK_ID_CURR  BUREAU_MAX_DAYS_CREDIT  BUREAU_MAX_DAYS_CREDIT_ENDDATE  \\\n",
       "244052      281619                   -52.0                          1044.0   \n",
       "203408      111539                  -779.0                         -2246.0   \n",
       "149236      159075                  -734.0                          1092.0   \n",
       "\n",
       "        BUREAU_MAX_DAYS_ENDDATE_FACT  \n",
       "244052                         -71.0  \n",
       "203408                       -2246.0  \n",
       "149236                           NaN  "
      ]
     },
     "execution_count": 13,
     "metadata": {},
     "output_type": "execute_result"
    }
   ],
   "source": [
    "key = 'SK_ID_CURR'\n",
    "bureau_cols = ['DAYS_CREDIT', 'DAYS_CREDIT_ENDDATE', 'DAYS_ENDDATE_FACT']\n",
    "bureau_cols_max = ['BUREAU_MAX_' + c for c in bureau_cols]\n",
    "\n",
    "df = pd.merge(\n",
    "    left=df,\n",
    "    right=df_bureau[[key] + bureau_cols].groupby(key).max().rename(\n",
    "        columns=dict(zip(bureau_cols, bureau_cols_max))),\n",
    "    left_on=key,\n",
    "    right_index=True, \n",
    "    how='left'\n",
    ")\n",
    "\n",
    "# Example: sample of 3 loans\n",
    "df[[key] + bureau_cols_max].sample(3)"
   ]
  },
  {
   "cell_type": "code",
   "execution_count": 14,
   "id": "76207cfb",
   "metadata": {},
   "outputs": [
    {
     "data": {
      "text/html": [
       "<div>\n",
       "<style scoped>\n",
       "    .dataframe tbody tr th:only-of-type {\n",
       "        vertical-align: middle;\n",
       "    }\n",
       "\n",
       "    .dataframe tbody tr th {\n",
       "        vertical-align: top;\n",
       "    }\n",
       "\n",
       "    .dataframe thead th {\n",
       "        text-align: right;\n",
       "    }\n",
       "</style>\n",
       "<table border=\"1\" class=\"dataframe\">\n",
       "  <thead>\n",
       "    <tr style=\"text-align: right;\">\n",
       "      <th></th>\n",
       "      <th>SK_ID_CURR</th>\n",
       "      <th>SK_ID_PREV</th>\n",
       "      <th>AMT_PAYMENT</th>\n",
       "    </tr>\n",
       "  </thead>\n",
       "  <tbody>\n",
       "    <tr>\n",
       "      <th>663265</th>\n",
       "      <td>365597</td>\n",
       "      <td>2027447</td>\n",
       "      <td>14459.94</td>\n",
       "    </tr>\n",
       "    <tr>\n",
       "      <th>747827</th>\n",
       "      <td>365597</td>\n",
       "      <td>1459607</td>\n",
       "      <td>5489.73</td>\n",
       "    </tr>\n",
       "  </tbody>\n",
       "</table>\n",
       "</div>"
      ],
      "text/plain": [
       "        SK_ID_CURR  SK_ID_PREV  AMT_PAYMENT\n",
       "663265      365597     2027447     14459.94\n",
       "747827      365597     1459607      5489.73"
      ]
     },
     "execution_count": 14,
     "metadata": {},
     "output_type": "execute_result"
    }
   ],
   "source": [
    "key_prev = 'SK_ID_PREV'\n",
    "payment_cols = ['AMT_PAYMENT']\n",
    "\n",
    "# Min payment for all previous loans\n",
    "df_previous_app = pd.merge(\n",
    "    left=df_previous_app,\n",
    "    right=df_installments[[key_prev] + payment_cols].groupby(key_prev).min(),\n",
    "    left_on=key_prev,\n",
    "    right_index=True,\n",
    "    how='left'\n",
    ")\n",
    "\n",
    "# Example: SK_ID_CURR #365597\n",
    "df_previous_app[[key] + [key_prev] + payment_cols][df_previous_app.SK_ID_CURR == 365597]"
   ]
  },
  {
   "cell_type": "code",
   "execution_count": 15,
   "id": "a286b3c3",
   "metadata": {},
   "outputs": [
    {
     "data": {
      "text/plain": [
       "Index(['SK_ID_PREV', 'SK_ID_CURR', 'NAME_CONTRACT_TYPE', 'AMT_ANNUITY',\n",
       "       'AMT_APPLICATION', 'AMT_CREDIT', 'AMT_DOWN_PAYMENT', 'AMT_GOODS_PRICE',\n",
       "       'WEEKDAY_APPR_PROCESS_START', 'HOUR_APPR_PROCESS_START',\n",
       "       'FLAG_LAST_APPL_PER_CONTRACT', 'NFLAG_LAST_APPL_IN_DAY',\n",
       "       'RATE_DOWN_PAYMENT', 'RATE_INTEREST_PRIMARY',\n",
       "       'RATE_INTEREST_PRIVILEGED', 'NAME_CASH_LOAN_PURPOSE',\n",
       "       'NAME_CONTRACT_STATUS', 'DAYS_DECISION', 'NAME_PAYMENT_TYPE',\n",
       "       'CODE_REJECT_REASON', 'NAME_TYPE_SUITE', 'NAME_CLIENT_TYPE',\n",
       "       'NAME_GOODS_CATEGORY', 'NAME_PORTFOLIO', 'NAME_PRODUCT_TYPE',\n",
       "       'CHANNEL_TYPE', 'SELLERPLACE_AREA', 'NAME_SELLER_INDUSTRY',\n",
       "       'CNT_PAYMENT', 'NAME_YIELD_GROUP', 'PRODUCT_COMBINATION',\n",
       "       'DAYS_FIRST_DRAWING', 'DAYS_FIRST_DUE', 'DAYS_LAST_DUE_1ST_VERSION',\n",
       "       'DAYS_LAST_DUE', 'DAYS_TERMINATION', 'NFLAG_INSURED_ON_APPROVAL',\n",
       "       'CREATED_BY', 'CREATED_AT', 'AMT_PAYMENT'],\n",
       "      dtype='object')"
      ]
     },
     "execution_count": 15,
     "metadata": {},
     "output_type": "execute_result"
    }
   ],
   "source": [
    "df_previous_app.columns"
   ]
  },
  {
   "cell_type": "code",
   "execution_count": 16,
   "id": "e1025dd4",
   "metadata": {},
   "outputs": [
    {
     "data": {
      "text/html": [
       "<div>\n",
       "<style scoped>\n",
       "    .dataframe tbody tr th:only-of-type {\n",
       "        vertical-align: middle;\n",
       "    }\n",
       "\n",
       "    .dataframe tbody tr th {\n",
       "        vertical-align: top;\n",
       "    }\n",
       "\n",
       "    .dataframe thead th {\n",
       "        text-align: right;\n",
       "    }\n",
       "</style>\n",
       "<table border=\"1\" class=\"dataframe\">\n",
       "  <thead>\n",
       "    <tr style=\"text-align: right;\">\n",
       "      <th></th>\n",
       "      <th>SK_ID_CURR</th>\n",
       "      <th>PREV_SUM_MIN_AMT_PAYMENT</th>\n",
       "      <th>PREV_MEAN_MIN_AMT_PAYMENT</th>\n",
       "    </tr>\n",
       "  </thead>\n",
       "  <tbody>\n",
       "    <tr>\n",
       "      <th>132014</th>\n",
       "      <td>365597</td>\n",
       "      <td>19949.67</td>\n",
       "      <td>9974.835</td>\n",
       "    </tr>\n",
       "  </tbody>\n",
       "</table>\n",
       "</div>"
      ],
      "text/plain": [
       "        SK_ID_CURR  PREV_SUM_MIN_AMT_PAYMENT  PREV_MEAN_MIN_AMT_PAYMENT\n",
       "132014      365597                  19949.67                   9974.835"
      ]
     },
     "execution_count": 16,
     "metadata": {},
     "output_type": "execute_result"
    }
   ],
   "source": [
    "key = 'SK_ID_CURR'\n",
    "prev_agg_cols = ['PREV_SUM_MIN_AMT_PAYMENT', 'PREV_MEAN_MIN_AMT_PAYMENT']\n",
    "\n",
    "# Sum and mean of minimum payments across all previous loans\n",
    "df_prev_agg = df_previous_app[[key] + payment_cols].groupby(key).agg(['sum', 'mean']);\n",
    "df_prev_agg.columns = prev_agg_cols\n",
    "\n",
    "df = pd.merge(\n",
    "    left=df,\n",
    "    right=df_prev_agg,\n",
    "    left_on=key,\n",
    "    right_index=True,\n",
    "    how='left'\n",
    ")\n",
    "\n",
    "# Example: SK_ID_CURR #365597\n",
    "df[[key] + prev_agg_cols][df.SK_ID_CURR == 365597]"
   ]
  },
  {
   "cell_type": "code",
   "execution_count": 17,
   "id": "2549ed62",
   "metadata": {},
   "outputs": [
    {
     "data": {
      "text/html": [
       "<div>\n",
       "<style scoped>\n",
       "    .dataframe tbody tr th:only-of-type {\n",
       "        vertical-align: middle;\n",
       "    }\n",
       "\n",
       "    .dataframe tbody tr th {\n",
       "        vertical-align: top;\n",
       "    }\n",
       "\n",
       "    .dataframe thead th {\n",
       "        text-align: right;\n",
       "    }\n",
       "</style>\n",
       "<table border=\"1\" class=\"dataframe\">\n",
       "  <thead>\n",
       "    <tr style=\"text-align: right;\">\n",
       "      <th></th>\n",
       "      <th>132014</th>\n",
       "    </tr>\n",
       "  </thead>\n",
       "  <tbody>\n",
       "    <tr>\n",
       "      <th>EXT_SOURCE_1</th>\n",
       "      <td>0.589340</td>\n",
       "    </tr>\n",
       "    <tr>\n",
       "      <th>EXT_SOURCE_2</th>\n",
       "      <td>0.507737</td>\n",
       "    </tr>\n",
       "    <tr>\n",
       "      <th>EXT_SOURCE_3</th>\n",
       "      <td>0.710674</td>\n",
       "    </tr>\n",
       "    <tr>\n",
       "      <th>DAYS_BIRTH</th>\n",
       "      <td>-10240.000000</td>\n",
       "    </tr>\n",
       "    <tr>\n",
       "      <th>AMT_CREDIT</th>\n",
       "      <td>152820.000000</td>\n",
       "    </tr>\n",
       "    <tr>\n",
       "      <th>AMT_ANNUITY</th>\n",
       "      <td>15241.500000</td>\n",
       "    </tr>\n",
       "    <tr>\n",
       "      <th>DAYS_EMPLOYED</th>\n",
       "      <td>-543.000000</td>\n",
       "    </tr>\n",
       "    <tr>\n",
       "      <th>AMT_GOODS_PRICE</th>\n",
       "      <td>135000.000000</td>\n",
       "    </tr>\n",
       "    <tr>\n",
       "      <th>DAYS_ID_PUBLISH</th>\n",
       "      <td>-355.000000</td>\n",
       "    </tr>\n",
       "    <tr>\n",
       "      <th>OWN_CAR_AGE</th>\n",
       "      <td>3.000000</td>\n",
       "    </tr>\n",
       "    <tr>\n",
       "      <th>BUREAU_MAX_DAYS_CREDIT</th>\n",
       "      <td>-36.000000</td>\n",
       "    </tr>\n",
       "    <tr>\n",
       "      <th>BUREAU_MAX_DAYS_CREDIT_ENDDATE</th>\n",
       "      <td>56.000000</td>\n",
       "    </tr>\n",
       "    <tr>\n",
       "      <th>BUREAU_MAX_DAYS_ENDDATE_FACT</th>\n",
       "      <td>-909.000000</td>\n",
       "    </tr>\n",
       "    <tr>\n",
       "      <th>PREV_SUM_MIN_AMT_PAYMENT</th>\n",
       "      <td>19949.670000</td>\n",
       "    </tr>\n",
       "    <tr>\n",
       "      <th>PREV_MEAN_MIN_AMT_PAYMENT</th>\n",
       "      <td>9974.835000</td>\n",
       "    </tr>\n",
       "  </tbody>\n",
       "</table>\n",
       "</div>"
      ],
      "text/plain": [
       "                                       132014\n",
       "EXT_SOURCE_1                         0.589340\n",
       "EXT_SOURCE_2                         0.507737\n",
       "EXT_SOURCE_3                         0.710674\n",
       "DAYS_BIRTH                      -10240.000000\n",
       "AMT_CREDIT                      152820.000000\n",
       "AMT_ANNUITY                      15241.500000\n",
       "DAYS_EMPLOYED                     -543.000000\n",
       "AMT_GOODS_PRICE                 135000.000000\n",
       "DAYS_ID_PUBLISH                   -355.000000\n",
       "OWN_CAR_AGE                          3.000000\n",
       "BUREAU_MAX_DAYS_CREDIT             -36.000000\n",
       "BUREAU_MAX_DAYS_CREDIT_ENDDATE      56.000000\n",
       "BUREAU_MAX_DAYS_ENDDATE_FACT      -909.000000\n",
       "PREV_SUM_MIN_AMT_PAYMENT         19949.670000\n",
       "PREV_MEAN_MIN_AMT_PAYMENT         9974.835000"
      ]
     },
     "execution_count": 17,
     "metadata": {},
     "output_type": "execute_result"
    }
   ],
   "source": [
    "base_cols = ['EXT_SOURCE_1', 'EXT_SOURCE_2', 'EXT_SOURCE_3',\n",
    "                'DAYS_BIRTH', 'AMT_CREDIT', 'AMT_ANNUITY',\n",
    "                'DAYS_EMPLOYED', 'AMT_GOODS_PRICE', 'DAYS_ID_PUBLISH',\n",
    "                'OWN_CAR_AGE'\n",
    "               ]\n",
    "feature_cols = base_cols + bureau_cols_max + prev_agg_cols\n",
    "y = df.TARGET\n",
    "X = df[feature_cols]\n",
    "X = X.fillna(value=X.mean())\n",
    "\n",
    "# Example: SK_ID_CURR #365597\n",
    "X[df.SK_ID_CURR == 365597].transpose()"
   ]
  },
  {
   "cell_type": "code",
   "execution_count": 18,
   "id": "2bf0c62a",
   "metadata": {},
   "outputs": [],
   "source": [
    "clf = RandomForestClassifier(\n",
    "    n_estimators=50,\n",
    "    criterion='gini',\n",
    "    max_depth=5,\n",
    "    min_samples_split=2,\n",
    "    min_samples_leaf=1,\n",
    "    min_weight_fraction_leaf=0.0,\n",
    "    max_features='sqrt',\n",
    "    max_leaf_nodes=None,\n",
    "    min_impurity_decrease=0.0,\n",
    "    bootstrap=True,\n",
    "    oob_score=False,\n",
    "    n_jobs=-1,\n",
    "    random_state=0,\n",
    "    verbose=0,\n",
    "    warm_start=False,\n",
    "    class_weight='balanced'\n",
    ")"
   ]
  },
  {
   "cell_type": "code",
   "execution_count": 19,
   "id": "310a686b",
   "metadata": {},
   "outputs": [],
   "source": [
    "def plot_roc_curve(fprs, tprs):\n",
    "    \"\"\"Plot the Receiver Operating Characteristic from a list\n",
    "    of true positive rates and false positive rates.\"\"\"\n",
    "    \n",
    "    # Initialize useful lists + the plot axes.\n",
    "    tprs_interp = []\n",
    "    aucs = []\n",
    "    mean_fpr = np.linspace(0, 1, 100)\n",
    "    f, ax = plt.subplots(figsize=(14,10))\n",
    "    \n",
    "    # Plot ROC for each K-Fold + compute AUC scores.\n",
    "    for i, (fpr, tpr) in enumerate(zip(fprs, tprs)):\n",
    "        tprs_interp.append(np.interp(mean_fpr, fpr, tpr))\n",
    "        tprs_interp[-1][0] = 0.0\n",
    "        roc_auc = auc(fpr, tpr)\n",
    "        aucs.append(roc_auc)\n",
    "        ax.plot(fpr, tpr, lw=1, alpha=0.3,\n",
    "                 label='ROC fold %d (AUC = %0.2f)' % (i, roc_auc))\n",
    "        \n",
    "    # Plot the luck line.\n",
    "    plt.plot([0, 1], [0, 1], linestyle='--', lw=2, color='r',\n",
    "             label='Luck', alpha=.8)\n",
    "    \n",
    "    # Plot the mean ROC.\n",
    "    mean_tpr = np.mean(tprs_interp, axis=0)\n",
    "    mean_tpr[-1] = 1.0\n",
    "    mean_auc = auc(mean_fpr, mean_tpr)\n",
    "    std_auc = np.std(aucs)\n",
    "    ax.plot(mean_fpr, mean_tpr, color='b',\n",
    "             label=r'Mean ROC (AUC = %0.2f $\\pm$ %0.2f)' % (mean_auc, std_auc),\n",
    "             lw=2, alpha=.8)\n",
    "    \n",
    "    # Plot the standard deviation around the mean ROC.\n",
    "    std_tpr = np.std(tprs_interp, axis=0)\n",
    "    tprs_upper = np.minimum(mean_tpr + std_tpr, 1)\n",
    "    tprs_lower = np.maximum(mean_tpr - std_tpr, 0)\n",
    "    ax.fill_between(mean_fpr, tprs_lower, tprs_upper, color='grey', alpha=.2,\n",
    "                     label=r'$\\pm$ 1 std. dev.')\n",
    "    \n",
    "    # Fine tune and show the plot.\n",
    "    ax.set_xlim([-0.05, 1.05])\n",
    "    ax.set_ylim([-0.05, 1.05])\n",
    "    ax.set_xlabel('False Positive Rate')\n",
    "    ax.set_ylabel('True Positive Rate')\n",
    "    ax.set_title('Receiver operating characteristic')\n",
    "    ax.legend(loc=\"lower right\")\n",
    "    plt.show()\n",
    "    return (f, ax)\n",
    "\n",
    "def compute_roc_auc(index):\n",
    "    y_predict = clf.predict_proba(X.iloc[index])[:,1]\n",
    "    fpr, tpr, thresholds = roc_curve(y.iloc[index], y_predict)\n",
    "    auc_score = auc(fpr, tpr)\n",
    "    return fpr, tpr, auc_score"
   ]
  },
  {
   "cell_type": "code",
   "execution_count": null,
   "id": "6709b7fc",
   "metadata": {},
   "outputs": [],
   "source": [
    "cv = StratifiedKFold(n_splits=5, random_state=123, shuffle=True)\n",
    "results = pd.DataFrame(columns=['training_score', 'test_score'])\n",
    "fprs, tprs, scores = [], [], []\n",
    "    \n",
    "for (train, test), i in zip(cv.split(X, y), range(5)):\n",
    "    clf.fit(X.loc[train], y.loc[train])\n",
    "    _, _, auc_score_train = compute_roc_auc(train)\n",
    "    fpr, tpr, auc_score = compute_roc_auc(test)\n",
    "    scores.append((auc_score_train, auc_score))\n",
    "    fprs.append(fpr)\n",
    "    tprs.append(tpr)\n",
    "\n",
    "plot_roc_curve(fprs, tprs);\n",
    "pd.DataFrame(scores, columns=['AUC Train', 'AUC Test'])"
   ]
  }
 ],
 "metadata": {
  "kernelspec": {
   "display_name": "Python 3 (ipykernel)",
   "language": "python",
   "name": "python3"
  },
  "language_info": {
   "codemirror_mode": {
    "name": "ipython",
    "version": 3
   },
   "file_extension": ".py",
   "mimetype": "text/x-python",
   "name": "python",
   "nbconvert_exporter": "python",
   "pygments_lexer": "ipython3",
   "version": "3.9.19"
  }
 },
 "nbformat": 4,
 "nbformat_minor": 5
}
