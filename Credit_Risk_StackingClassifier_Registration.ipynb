{
 "cells": [
  {
   "cell_type": "markdown",
   "id": "c2a362d7",
   "metadata": {},
   "source": [
    "# Use Credit Risk Analytics Notebook Template"
   ]
  },
  {
   "cell_type": "code",
   "execution_count": 1,
   "id": "32837b36",
   "metadata": {},
   "outputs": [],
   "source": [
    "from snowflake.snowpark import Session\n",
    "from snowflake.connector.pandas_tools import write_pandas\n",
    "# Data Science Libs\n",
    "import pandas as pd\n",
    "import numpy as np\n",
    "from scipy.stats import skew\n",
    "import xgboost as xgb\n",
    "from sklearn.model_selection import KFold\n",
    "from sklearn.ensemble import ExtraTreesClassifier\n",
    "from sklearn.ensemble import RandomForestClassifier\n",
    "from sklearn.metrics import mean_squared_error, recall_score, precision_score, f1_score, roc_auc_score, confusion_matrix\n",
    "from sklearn.linear_model import LogisticRegression\n",
    "from math import sqrt\n",
    "from sklearn.metrics import roc_auc_score\n",
    "from sklearn.model_selection import KFold\n",
    "from catboost import CatBoostClassifier\n",
    "import gc\n",
    "\n",
    "# FosforML to register Model on FDC\n",
    "from fosforml.model_manager.snowflakesession import get_session\n",
    "my_session = get_session()\n",
    "\n",
    "from joblib import dump, load\n",
    "import requests"
   ]
  },
  {
   "cell_type": "code",
   "execution_count": 2,
   "id": "b8078d4c",
   "metadata": {},
   "outputs": [],
   "source": [
    "NFOLDS = 3\n",
    "SEED = 0\n",
    "NROWS = None"
   ]
  },
  {
   "cell_type": "code",
   "execution_count": 3,
   "id": "6715cd94-30e4-4177-91b5-e486508e30b1",
   "metadata": {},
   "outputs": [],
   "source": [
    "table_name = 'CRA_APPLICATION_TRAIN_DETAILS'\n",
    "\n",
    "sf_df = my_session.sql(\"select * from {}\".format(table_name))\n",
    "application_train_sf = sf_df.to_pandas()"
   ]
  },
  {
   "cell_type": "code",
   "execution_count": 4,
   "id": "11216818-6d50-4f0e-84f3-2c32b78bcdd6",
   "metadata": {},
   "outputs": [],
   "source": [
    "table_name = 'CRA_APPLICATION_TEST_DETAILS'\n",
    "\n",
    "sf_df = my_session.sql(\"select * from {}\".format(table_name))\n",
    "application_test_sf = sf_df.to_pandas()"
   ]
  },
  {
   "cell_type": "code",
   "execution_count": 5,
   "id": "df0486a9-9749-43c8-aa8b-2c64f0da8b3b",
   "metadata": {},
   "outputs": [],
   "source": [
    "table_name = 'CRA_PREVIOUS_APPLICATION_DETAILS'\n",
    "\n",
    "sf_df = my_session.sql(\"select * from {}\".format(table_name))\n",
    "previous_application_sf = sf_df.to_pandas()"
   ]
  },
  {
   "cell_type": "code",
   "execution_count": 60,
   "id": "8ebc2b66",
   "metadata": {},
   "outputs": [],
   "source": [
    "#application_train_sf  = snowflake.get_dataframe(\"CRA_APPLICATION_TRAIN_DETAILS\")\n",
    "#application_test_sf  = snowflake.get_dataframe(\"CRA_APPLICATION_TEST_DETAILS\")\n",
    "#previous_application_sf  = snowflake.get_dataframe(\"CRA_PREVIOUS_APPLICATION_DETAILS\")"
   ]
  },
  {
   "cell_type": "markdown",
   "id": "bd0b4b30",
   "metadata": {},
   "source": [
    "# Convert Snowflake data into Pandas dataframes"
   ]
  },
  {
   "cell_type": "code",
   "execution_count": 6,
   "id": "8b65c096",
   "metadata": {},
   "outputs": [],
   "source": [
    "data = application_train_sf.copy()\n",
    "test = application_test_sf.copy()\n",
    "prev = previous_application_sf.copy()"
   ]
  },
  {
   "cell_type": "code",
   "execution_count": 7,
   "id": "07ded794",
   "metadata": {},
   "outputs": [],
   "source": [
    "data.drop(['CREATED_BY','CREATED_AT'], axis=1, inplace=True)\n",
    "test.drop(['CREATED_BY','CREATED_AT'], axis=1, inplace=True)\n",
    "prev.drop(['CREATED_BY','CREATED_AT'], axis=1, inplace=True)"
   ]
  },
  {
   "cell_type": "code",
   "execution_count": 8,
   "id": "8f1a2832",
   "metadata": {
    "scrolled": true
   },
   "outputs": [],
   "source": [
    "categorical_feats = [\n",
    "    f for f in data.columns if data[f].dtype == 'object'\n",
    "]"
   ]
  },
  {
   "cell_type": "code",
   "execution_count": 9,
   "id": "a9f1651c",
   "metadata": {},
   "outputs": [],
   "source": [
    "for f_ in categorical_feats:\n",
    "    data[f_], indexer = pd.factorize(data[f_])\n",
    "    test[f_] = indexer.get_indexer(test[f_])"
   ]
  },
  {
   "cell_type": "code",
   "execution_count": 10,
   "id": "d7d8cf18",
   "metadata": {},
   "outputs": [],
   "source": [
    "gc.enable()\n",
    "\n",
    "y_train = data['TARGET']\n",
    "del data['TARGET']"
   ]
  },
  {
   "cell_type": "code",
   "execution_count": 11,
   "id": "a77babae",
   "metadata": {},
   "outputs": [],
   "source": [
    "prev_cat_features = [\n",
    "    f_ for f_ in prev.columns if prev[f_].dtype == 'object'\n",
    "]\n",
    "for f_ in prev_cat_features:\n",
    "    prev[f_], _ = pd.factorize(prev[f_])"
   ]
  },
  {
   "cell_type": "code",
   "execution_count": 12,
   "id": "8f752203",
   "metadata": {},
   "outputs": [],
   "source": [
    "avg_prev = prev.groupby('SK_ID_CURR').mean()\n",
    "cnt_prev = prev[['SK_ID_CURR', 'SK_ID_PREV']].groupby('SK_ID_CURR').count()\n",
    "avg_prev['nb_app'] = cnt_prev['SK_ID_PREV']\n",
    "del avg_prev['SK_ID_PREV']"
   ]
  },
  {
   "cell_type": "code",
   "execution_count": 13,
   "id": "87527ee2",
   "metadata": {},
   "outputs": [],
   "source": [
    "x_train = data.merge(right=avg_prev.reset_index(), how='left', on='SK_ID_CURR')\n",
    "x_test = test.merge(right=avg_prev.reset_index(), how='left', on='SK_ID_CURR')\n",
    "\n",
    "x_train = x_train.fillna(0)\n",
    "x_test= x_test.fillna(0)\n",
    "\n",
    "ntrain = x_train.shape[0]\n",
    "ntest = x_test.shape[0]"
   ]
  },
  {
   "cell_type": "code",
   "execution_count": 14,
   "id": "93e01200",
   "metadata": {},
   "outputs": [],
   "source": [
    "excluded_feats = ['SK_ID_CURR']\n",
    "features = [f_ for f_ in x_train.columns if f_ not in excluded_feats]"
   ]
  },
  {
   "cell_type": "code",
   "execution_count": 15,
   "id": "3d847db3",
   "metadata": {},
   "outputs": [],
   "source": [
    "x_train = x_train[features]\n",
    "x_test = x_test[features]\n",
    "\n",
    "kf = KFold(n_splits = NFOLDS, shuffle=True, random_state=SEED)"
   ]
  },
  {
   "cell_type": "code",
   "execution_count": 16,
   "id": "9ab19ee5",
   "metadata": {},
   "outputs": [],
   "source": [
    "class SklearnWrapper(object):\n",
    "    def __init__(self, clf, seed=0, params=None):\n",
    "        params['random_state'] = seed\n",
    "        self.clf = clf(**params)\n",
    "\n",
    "    def train(self, x_train, y_train):\n",
    "        self.clf.fit(x_train, y_train)\n",
    "\n",
    "    def predict(self, x):\n",
    "        return self.clf.predict(x)\n",
    "\n",
    "    def predict_proba(self, x):\n",
    "        return self.clf.predict_proba(x)[:,1]"
   ]
  },
  {
   "cell_type": "code",
   "execution_count": 17,
   "id": "3a44758c",
   "metadata": {},
   "outputs": [],
   "source": [
    "class CatboostWrapper(object):\n",
    "    def __init__(self, clf, seed=0, params=None):\n",
    "        params['random_seed'] = seed\n",
    "        self.clf = clf(**params)\n",
    "\n",
    "    def train(self, x_train, y_train):\n",
    "        self.clf.fit(x_train, y_train)\n",
    "\n",
    "    def predict(self, x):\n",
    "        return self.clf.predict(x)\n",
    "    \n",
    "    def predict_proba(self, x):\n",
    "        return self.clf.predict_proba(x)[:,1]"
   ]
  },
  {
   "cell_type": "code",
   "execution_count": 18,
   "id": "6a3a5d8b",
   "metadata": {},
   "outputs": [],
   "source": [
    "class XgbWrapper(object):\n",
    "    def __init__(self, seed=0, params=None):\n",
    "        self.param = params\n",
    "        self.param['seed'] = seed\n",
    "        self.nrounds = params.pop('nrounds', 250)\n",
    "\n",
    "    def train(self, x_train, y_train):\n",
    "        dtrain = xgb.DMatrix(x_train, label=y_train)\n",
    "        self.gbdt = xgb.train(self.param, dtrain, self.nrounds)\n",
    "\n",
    "    def predict(self, x):\n",
    "        return self.gbdt.predict(xgb.DMatrix(x))\n",
    "    \n",
    "    def predict_proba(self, x):\n",
    "        return self.gbdt.predict_proba(xgb.DMatrix(x))[:,1]"
   ]
  },
  {
   "cell_type": "code",
   "execution_count": 19,
   "id": "604c71ce",
   "metadata": {},
   "outputs": [],
   "source": [
    "def get_oof(clf):\n",
    "    oof_train = np.zeros((ntrain,))\n",
    "    oof_test = np.zeros((ntest,))\n",
    "    oof_test_skf = np.empty((NFOLDS, ntest))\n",
    "\n",
    "    for i, (train_index, test_index) in enumerate(kf.split(x_train)):\n",
    "        x_tr = x_train.loc[train_index]\n",
    "        y_tr = y_train.loc[train_index]\n",
    "        x_te = x_train.loc[test_index]\n",
    "\n",
    "        clf.train(x_tr, y_tr)\n",
    "\n",
    "        oof_train[test_index] = clf.predict(x_te)\n",
    "        oof_test_skf[i, :] = clf.predict(x_test)\n",
    "\n",
    "    oof_test[:] = oof_test_skf.mean(axis=0)\n",
    "    return oof_train.reshape(-1, 1), oof_test.reshape(-1, 1)"
   ]
  },
  {
   "cell_type": "code",
   "execution_count": 20,
   "id": "ff5f6e63",
   "metadata": {},
   "outputs": [],
   "source": [
    "et_params = {\n",
    "    'n_jobs': 16,\n",
    "    'n_estimators': 200,\n",
    "    'max_features': 0.5,\n",
    "    'max_depth': 12,\n",
    "    'min_samples_leaf': 2,\n",
    "    'random_state':0\n",
    "}"
   ]
  },
  {
   "cell_type": "code",
   "execution_count": 21,
   "id": "9ee53240",
   "metadata": {},
   "outputs": [],
   "source": [
    "rf_params = {\n",
    "    'n_jobs': 16,\n",
    "    'n_estimators': 200,\n",
    "    'max_features': 0.2,\n",
    "    'max_depth': 12,\n",
    "    'min_samples_leaf': 2,\n",
    "    'random_state':0\n",
    "}"
   ]
  },
  {
   "cell_type": "code",
   "execution_count": 22,
   "id": "78415a71",
   "metadata": {},
   "outputs": [],
   "source": [
    "xgb_params = {\n",
    "    'seed': 0,\n",
    "    'colsample_bytree': 0.7,\n",
    "    'silent': 1,\n",
    "    'subsample': 0.7,\n",
    "    'learning_rate': 0.075,\n",
    "    'objective': 'binary:logistic',\n",
    "    'max_depth': 4,\n",
    "    'num_parallel_tree': 1,\n",
    "    'min_child_weight': 1,\n",
    "    'nrounds': 200\n",
    "}"
   ]
  },
  {
   "cell_type": "code",
   "execution_count": 23,
   "id": "14272538",
   "metadata": {},
   "outputs": [],
   "source": [
    "catboost_params = {\n",
    "    'iterations': 200,\n",
    "    'learning_rate': 0.5,\n",
    "    'depth': 3,\n",
    "    'l2_leaf_reg': 40,\n",
    "    'bootstrap_type': 'Bernoulli',\n",
    "    'subsample': 0.7,\n",
    "    'scale_pos_weight': 5,\n",
    "    'eval_metric': 'AUC',\n",
    "    'od_type': 'Iter',\n",
    "    'allow_writing_files': False,\n",
    "    'random_seed':0\n",
    "}"
   ]
  },
  {
   "cell_type": "code",
   "execution_count": 24,
   "id": "cb755482",
   "metadata": {},
   "outputs": [],
   "source": [
    "xg = XgbWrapper(seed=SEED, params=xgb_params)\n",
    "et = SklearnWrapper(clf=ExtraTreesClassifier, seed=SEED, params=et_params)\n",
    "rf = SklearnWrapper(clf=RandomForestClassifier, seed=SEED, params=rf_params)\n",
    "cb = CatboostWrapper(clf= CatBoostClassifier, seed = SEED, params=catboost_params)"
   ]
  },
  {
   "cell_type": "markdown",
   "id": "35afc22b",
   "metadata": {},
   "source": [
    "# XGBoost Classifier"
   ]
  },
  {
   "cell_type": "code",
   "execution_count": 25,
   "id": "093fa990",
   "metadata": {
    "scrolled": true
   },
   "outputs": [
    {
     "name": "stdout",
     "output_type": "stream",
     "text": [
      "[04:41:03] WARNING: ../src/learner.cc:767: \n",
      "Parameters: { \"silent\" } are not used.\n",
      "\n",
      "[04:42:16] WARNING: ../src/learner.cc:767: \n",
      "Parameters: { \"silent\" } are not used.\n",
      "\n",
      "[04:43:29] WARNING: ../src/learner.cc:767: \n",
      "Parameters: { \"silent\" } are not used.\n",
      "\n"
     ]
    }
   ],
   "source": [
    "xg_oof_train, xg_oof_test = get_oof(xg)"
   ]
  },
  {
   "cell_type": "code",
   "execution_count": 26,
   "id": "88eaec74",
   "metadata": {},
   "outputs": [
    {
     "name": "stdout",
     "output_type": "stream",
     "text": [
      "[04:45:16] WARNING: ../src/learner.cc:767: \n",
      "Parameters: { \"silent\" } are not used.\n",
      "\n"
     ]
    }
   ],
   "source": [
    "param = xgb_params\n",
    "param['seed'] = 0\n",
    "nrounds = 250\n",
    "\n",
    "dtrain = xgb.DMatrix(x_train, label=y_train)\n",
    "gbdt = xgb.train(param, dtrain, nrounds)"
   ]
  },
  {
   "cell_type": "code",
   "execution_count": 82,
   "id": "13e63135",
   "metadata": {},
   "outputs": [],
   "source": [
    "#y_prob = gbdt.predict(xgb.DMatrix(x))\n",
    "#y_pred = np.round(y_prob)"
   ]
  },
  {
   "cell_type": "code",
   "execution_count": 27,
   "id": "c7c85f0f",
   "metadata": {},
   "outputs": [],
   "source": [
    "y_prob = gbdt.predict(xgb.DMatrix(x_train))"
   ]
  },
  {
   "cell_type": "code",
   "execution_count": 28,
   "id": "9007befd",
   "metadata": {},
   "outputs": [],
   "source": [
    "y_pred = np.round(y_prob)"
   ]
  },
  {
   "cell_type": "code",
   "execution_count": 29,
   "id": "f68b7eb8",
   "metadata": {},
   "outputs": [
    {
     "data": {
      "text/plain": [
       "array([0.0776754 , 0.0133677 , 0.05679303, ..., 0.1400755 , 0.05083345,\n",
       "       0.03295279], dtype=float32)"
      ]
     },
     "execution_count": 29,
     "metadata": {},
     "output_type": "execute_result"
    }
   ],
   "source": [
    "y_prob"
   ]
  },
  {
   "cell_type": "code",
   "execution_count": 30,
   "id": "8c44ca77",
   "metadata": {},
   "outputs": [
    {
     "data": {
      "text/plain": [
       "array([0., 0., 0., ..., 0., 0., 0.], dtype=float32)"
      ]
     },
     "execution_count": 30,
     "metadata": {},
     "output_type": "execute_result"
    }
   ],
   "source": [
    "y_pred"
   ]
  },
  {
   "cell_type": "code",
   "execution_count": 40,
   "id": "81b91929-c770-422a-b580-fa722781d277",
   "metadata": {},
   "outputs": [],
   "source": [
    "y_train_df = pd.DataFrame(y_train)\n",
    "y_pred_df = pd.DataFrame(y_pred, columns=['PREDICTION'])\n",
    "y_prob_df = pd.DataFrame(y_prob, columns=['PROBABILITY'])"
   ]
  },
  {
   "cell_type": "code",
   "execution_count": 43,
   "id": "166d0352-2629-480d-aba2-b6a06ebcff36",
   "metadata": {},
   "outputs": [
    {
     "data": {
      "text/plain": [
       "(pandas.core.frame.DataFrame,\n",
       " pandas.core.frame.DataFrame,\n",
       " pandas.core.frame.DataFrame,\n",
       " pandas.core.frame.DataFrame,\n",
       " pandas.core.frame.DataFrame)"
      ]
     },
     "execution_count": 43,
     "metadata": {},
     "output_type": "execute_result"
    }
   ],
   "source": [
    "type(x_train),type(x_test), type(y_train_df),type(y_pred_df), type(y_prob_df)"
   ]
  },
  {
   "cell_type": "code",
   "execution_count": 45,
   "id": "6af8ea0a-c9c5-4a03-8888-4d6d86f0de2d",
   "metadata": {},
   "outputs": [],
   "source": [
    "from fosforml import register_model"
   ]
  },
  {
   "cell_type": "code",
   "execution_count": 46,
   "id": "2aef2bd4-1ed3-409c-b05e-cec052bd8d5a",
   "metadata": {},
   "outputs": [
    {
     "ename": "Exception",
     "evalue": "Failed to get model performance metrics. 'feature_names'",
     "output_type": "error",
     "traceback": [
      "\u001b[0;31m---------------------------------------------------------------------------\u001b[0m",
      "\u001b[0;31mKeyError\u001b[0m                                  Traceback (most recent call last)",
      "File \u001b[0;32m/opt/conda/lib/python3.9/site-packages/fosforml/model_manager/model_registry.py:279\u001b[0m, in \u001b[0;36mModelRegistry.get_model_performance_metrics\u001b[0;34m(self, model, model_flavour, model_type, model_dataset_details)\u001b[0m\n\u001b[1;32m    278\u001b[0m sf_true_cn \u001b[38;5;241m=\u001b[39m [] ; sf_pred_cn \u001b[38;5;241m=\u001b[39m [] ; sf_pred_proba_cn \u001b[38;5;241m=\u001b[39m [] \n\u001b[0;32m--> 279\u001b[0m sf_input_cols \u001b[38;5;241m=\u001b[39m \u001b[43mmodel_dataset_details\u001b[49m\u001b[43m[\u001b[49m\u001b[38;5;124;43m'\u001b[39;49m\u001b[38;5;124;43mmetadata\u001b[39;49m\u001b[38;5;124;43m'\u001b[39;49m\u001b[43m]\u001b[49m\u001b[43m[\u001b[49m\u001b[38;5;124;43m'\u001b[39;49m\u001b[38;5;124;43mfeature_names\u001b[39;49m\u001b[38;5;124;43m'\u001b[39;49m\u001b[43m]\u001b[49m\n\u001b[1;32m    280\u001b[0m \u001b[38;5;28;01mif\u001b[39;00m model_flavour\u001b[38;5;241m.\u001b[39mlower() \u001b[38;5;241m==\u001b[39m ModelConstants\u001b[38;5;241m.\u001b[39msklearn_model_flavour \u001b[38;5;129;01mand\u001b[39;00m \u001b[38;5;28mstr\u001b[39m(\u001b[38;5;28mtype\u001b[39m(model))\u001b[38;5;241m.\u001b[39mfind(ModelConstants\u001b[38;5;241m.\u001b[39msklearn_model_flavour) \u001b[38;5;241m>\u001b[39m \u001b[38;5;241m0\u001b[39m:\n",
      "\u001b[0;31mKeyError\u001b[0m: 'feature_names'",
      "\nDuring handling of the above exception, another exception occurred:\n",
      "\u001b[0;31mException\u001b[0m                                 Traceback (most recent call last)",
      "Cell \u001b[0;32mIn[46], line 2\u001b[0m\n\u001b[1;32m      1\u001b[0m \u001b[38;5;66;03m## registering the model in Fosfor Insight Designer.\u001b[39;00m\n\u001b[0;32m----> 2\u001b[0m \u001b[43mregister_model\u001b[49m\u001b[43m(\u001b[49m\n\u001b[1;32m      3\u001b[0m \u001b[43m    \u001b[49m\u001b[43mmodel_obj\u001b[49m\u001b[38;5;241;43m=\u001b[39;49m\u001b[43mgbdt\u001b[49m\u001b[43m,\u001b[49m\u001b[43m \u001b[49m\n\u001b[1;32m      4\u001b[0m \u001b[43m    \u001b[49m\u001b[43msession\u001b[49m\u001b[38;5;241;43m=\u001b[39;49m\u001b[43mmy_session\u001b[49m\u001b[43m,\u001b[49m\n\u001b[1;32m      5\u001b[0m \u001b[43m    \u001b[49m\u001b[43mx_train\u001b[49m\u001b[38;5;241;43m=\u001b[39;49m\u001b[43mx_train\u001b[49m\u001b[43m,\u001b[49m\n\u001b[1;32m      6\u001b[0m \u001b[43m    \u001b[49m\u001b[43my_train\u001b[49m\u001b[38;5;241;43m=\u001b[39;49m\u001b[43my_train_df\u001b[49m\u001b[43m,\u001b[49m\n\u001b[1;32m      7\u001b[0m \u001b[43m    \u001b[49m\u001b[43mx_test\u001b[49m\u001b[38;5;241;43m=\u001b[39;49m\u001b[43mx_train\u001b[49m\u001b[43m,\u001b[49m\n\u001b[1;32m      8\u001b[0m \u001b[43m    \u001b[49m\u001b[43my_test\u001b[49m\u001b[38;5;241;43m=\u001b[39;49m\u001b[43my_train_df\u001b[49m\u001b[43m,\u001b[49m\n\u001b[1;32m      9\u001b[0m \u001b[43m    \u001b[49m\u001b[43my_pred\u001b[49m\u001b[38;5;241;43m=\u001b[39;49m\u001b[43my_pred_df\u001b[49m\u001b[43m,\u001b[49m\n\u001b[1;32m     10\u001b[0m \u001b[43m    \u001b[49m\u001b[43mprob\u001b[49m\u001b[38;5;241;43m=\u001b[39;49m\u001b[43my_prob_df\u001b[49m\u001b[43m,\u001b[49m\n\u001b[1;32m     11\u001b[0m \u001b[43m    \u001b[49m\u001b[43msource\u001b[49m\u001b[38;5;241;43m=\u001b[39;49m\u001b[38;5;124;43m\"\u001b[39;49m\u001b[38;5;124;43mNotebook\u001b[39;49m\u001b[38;5;124;43m\"\u001b[39;49m\u001b[43m,\u001b[49m\n\u001b[1;32m     12\u001b[0m \u001b[43m    \u001b[49m\u001b[43mdataset_name\u001b[49m\u001b[38;5;241;43m=\u001b[39;49m\u001b[38;5;124;43m\"\u001b[39;49m\u001b[38;5;124;43mCRA_APPLICATION_TRAIN_DETAILS\u001b[39;49m\u001b[38;5;124;43m\"\u001b[39;49m\u001b[43m,\u001b[49m\n\u001b[1;32m     13\u001b[0m \u001b[43m    \u001b[49m\u001b[43mdataset_source\u001b[49m\u001b[38;5;241;43m=\u001b[39;49m\u001b[38;5;124;43m\"\u001b[39;49m\u001b[38;5;124;43mSnowflake\u001b[39;49m\u001b[38;5;124;43m\"\u001b[39;49m\u001b[43m,\u001b[49m\n\u001b[1;32m     14\u001b[0m \u001b[43m    \u001b[49m\u001b[38;5;66;43;03m#dataset_source=\"InMemory\",\u001b[39;49;00m\n\u001b[1;32m     15\u001b[0m \u001b[43m    \u001b[49m\u001b[43mname\u001b[49m\u001b[38;5;241;43m=\u001b[39;49m\u001b[38;5;124;43m\"\u001b[39;49m\u001b[38;5;124;43mCredit_Risk_XGB_Classifier\u001b[39;49m\u001b[38;5;124;43m\"\u001b[39;49m\u001b[43m,\u001b[49m\n\u001b[1;32m     16\u001b[0m \u001b[43m    \u001b[49m\u001b[43mdescription\u001b[49m\u001b[38;5;241;43m=\u001b[39;49m\u001b[38;5;124;43m\"\u001b[39;49m\u001b[38;5;124;43mCredit Risk XGBoost Classification Model\u001b[39;49m\u001b[38;5;124;43m\"\u001b[39;49m\u001b[43m,\u001b[49m\n\u001b[1;32m     17\u001b[0m \u001b[43m    \u001b[49m\u001b[43mflavour\u001b[49m\u001b[38;5;241;43m=\u001b[39;49m\u001b[38;5;124;43m\"\u001b[39;49m\u001b[38;5;124;43msklearn\u001b[39;49m\u001b[38;5;124;43m\"\u001b[39;49m\u001b[43m,\u001b[49m\n\u001b[1;32m     18\u001b[0m \u001b[43m    \u001b[49m\u001b[43mmodel_type\u001b[49m\u001b[38;5;241;43m=\u001b[39;49m\u001b[38;5;124;43m\"\u001b[39;49m\u001b[38;5;124;43mclassification\u001b[39;49m\u001b[38;5;124;43m\"\u001b[39;49m\u001b[43m,\u001b[49m\n\u001b[1;32m     19\u001b[0m \u001b[43m    \u001b[49m\u001b[43mconda_dependencies\u001b[49m\u001b[38;5;241;43m=\u001b[39;49m\u001b[43m[\u001b[49m\u001b[38;5;124;43m\"\u001b[39;49m\u001b[38;5;124;43mscikit-learn==1.3.2\u001b[39;49m\u001b[38;5;124;43m\"\u001b[39;49m\u001b[43m]\u001b[49m\n\u001b[1;32m     20\u001b[0m \u001b[43m)\u001b[49m\n",
      "File \u001b[0;32m/opt/conda/lib/python3.9/site-packages/fosforml/api.py:111\u001b[0m, in \u001b[0;36mregister_model\u001b[0;34m(model_obj, session, name, description, dataset_name, dataset_source, scoring_func, flavour, model_type, snowflake_df, conda_dependencies, x_train, y_train, x_test, y_test, y_pred, y_prob, prediction_column, target_column, pretty_output, metadata, source, connection_configs, **kwargs)\u001b[0m\n\u001b[1;32m    109\u001b[0m \u001b[38;5;66;03m# register model\u001b[39;00m\n\u001b[1;32m    110\u001b[0m model_registry \u001b[38;5;241m=\u001b[39m ModelRegistry(session\u001b[38;5;241m=\u001b[39msession,connection_params\u001b[38;5;241m=\u001b[39mconnection_params)\n\u001b[0;32m--> 111\u001b[0m reg_status,response \u001b[38;5;241m=\u001b[39m \u001b[43mmodel_registry\u001b[49m\u001b[38;5;241;43m.\u001b[39;49m\u001b[43mregister_model\u001b[49m\u001b[43m(\u001b[49m\n\u001b[1;32m    112\u001b[0m \u001b[43m    \u001b[49m\u001b[43mmodel\u001b[49m\u001b[38;5;241;43m=\u001b[39;49m\u001b[43mmodel_obj\u001b[49m\u001b[43m,\u001b[49m\n\u001b[1;32m    113\u001b[0m \u001b[43m    \u001b[49m\u001b[43mscore\u001b[49m\u001b[38;5;241;43m=\u001b[39;49m\u001b[38;5;28;43;01mNone\u001b[39;49;00m\u001b[43m,\u001b[49m\n\u001b[1;32m    114\u001b[0m \u001b[43m    \u001b[49m\u001b[43mmodel_name\u001b[49m\u001b[38;5;241;43m=\u001b[39;49m\u001b[43mmodel_name\u001b[49m\u001b[43m,\u001b[49m\n\u001b[1;32m    115\u001b[0m \u001b[43m    \u001b[49m\u001b[43mdataset_name\u001b[49m\u001b[38;5;241;43m=\u001b[39;49m\u001b[43mdataset_name\u001b[49m\u001b[43m,\u001b[49m\n\u001b[1;32m    116\u001b[0m \u001b[43m    \u001b[49m\u001b[43mdataset_source\u001b[49m\u001b[38;5;241;43m=\u001b[39;49m\u001b[43mdataset_source\u001b[49m\u001b[43m,\u001b[49m\n\u001b[1;32m    117\u001b[0m \u001b[43m    \u001b[49m\u001b[43mconda_dependencies\u001b[49m\u001b[38;5;241;43m=\u001b[39;49m\u001b[43mconda_dependencies\u001b[49m\u001b[43m,\u001b[49m\n\u001b[1;32m    118\u001b[0m \u001b[43m    \u001b[49m\u001b[43mdescription\u001b[49m\u001b[38;5;241;43m=\u001b[39;49m\u001b[43mdescription\u001b[49m\u001b[43m,\u001b[49m\n\u001b[1;32m    119\u001b[0m \u001b[43m    \u001b[49m\u001b[43mmodel_flavour\u001b[49m\u001b[38;5;241;43m=\u001b[39;49m\u001b[43mflavour\u001b[49m\u001b[43m,\u001b[49m\n\u001b[1;32m    120\u001b[0m \u001b[43m    \u001b[49m\u001b[43mmodel_type\u001b[49m\u001b[38;5;241;43m=\u001b[39;49m\u001b[43mmodel_type\u001b[49m\u001b[43m,\u001b[49m\n\u001b[1;32m    121\u001b[0m \u001b[43m    \u001b[49m\u001b[43msf_input_dataframe\u001b[49m\u001b[38;5;241;43m=\u001b[39;49m\u001b[43msnowflake_df\u001b[49m\u001b[43m,\u001b[49m\n\u001b[1;32m    122\u001b[0m \u001b[43m    \u001b[49m\u001b[43mx_train\u001b[49m\u001b[38;5;241;43m=\u001b[39;49m\u001b[43mx_train\u001b[49m\u001b[43m,\u001b[49m\n\u001b[1;32m    123\u001b[0m \u001b[43m    \u001b[49m\u001b[43my_train\u001b[49m\u001b[38;5;241;43m=\u001b[39;49m\u001b[43my_train\u001b[49m\u001b[43m,\u001b[49m\n\u001b[1;32m    124\u001b[0m \u001b[43m    \u001b[49m\u001b[43mx_test\u001b[49m\u001b[38;5;241;43m=\u001b[39;49m\u001b[43mx_test\u001b[49m\u001b[43m,\u001b[49m\n\u001b[1;32m    125\u001b[0m \u001b[43m    \u001b[49m\u001b[43my_test\u001b[49m\u001b[38;5;241;43m=\u001b[39;49m\u001b[43my_test\u001b[49m\u001b[43m,\u001b[49m\n\u001b[1;32m    126\u001b[0m \u001b[43m    \u001b[49m\u001b[43my_pred\u001b[49m\u001b[38;5;241;43m=\u001b[39;49m\u001b[43my_pred\u001b[49m\u001b[43m,\u001b[49m\n\u001b[1;32m    127\u001b[0m \u001b[43m    \u001b[49m\u001b[43mprob\u001b[49m\u001b[38;5;241;43m=\u001b[39;49m\u001b[43my_prob\u001b[49m\u001b[43m,\u001b[49m\n\u001b[1;32m    128\u001b[0m \u001b[43m    \u001b[49m\u001b[43mprediction_column\u001b[49m\u001b[38;5;241;43m=\u001b[39;49m\u001b[43mprediction_column\u001b[49m\u001b[43m,\u001b[49m\n\u001b[1;32m    129\u001b[0m \u001b[43m    \u001b[49m\u001b[43mtarget_column\u001b[49m\u001b[38;5;241;43m=\u001b[39;49m\u001b[43mtarget_column\u001b[49m\u001b[43m,\u001b[49m\n\u001b[1;32m    130\u001b[0m \u001b[43m    \u001b[49m\u001b[43mpython_version\u001b[49m\u001b[38;5;241;43m=\u001b[39;49m\u001b[38;5;124;43mf\u001b[39;49m\u001b[38;5;124;43m\"\u001b[39;49m\u001b[38;5;132;43;01m{\u001b[39;49;00m\u001b[43msys\u001b[49m\u001b[38;5;241;43m.\u001b[39;49m\u001b[43mversion_info\u001b[49m\u001b[38;5;241;43m.\u001b[39;49m\u001b[43mmajor\u001b[49m\u001b[38;5;132;43;01m}\u001b[39;49;00m\u001b[38;5;124;43m.\u001b[39;49m\u001b[38;5;132;43;01m{\u001b[39;49;00m\u001b[43msys\u001b[49m\u001b[38;5;241;43m.\u001b[39;49m\u001b[43mversion_info\u001b[49m\u001b[38;5;241;43m.\u001b[39;49m\u001b[43mminor\u001b[49m\u001b[38;5;132;43;01m}\u001b[39;49;00m\u001b[38;5;124;43m\"\u001b[39;49m\u001b[43m,\u001b[49m\n\u001b[1;32m    131\u001b[0m \u001b[43m    \u001b[49m\u001b[43msource\u001b[49m\u001b[38;5;241;43m=\u001b[39;49m\u001b[43msource\u001b[49m\u001b[43m,\u001b[49m\n\u001b[1;32m    132\u001b[0m \u001b[43m    \u001b[49m\u001b[43mmetadata\u001b[49m\u001b[38;5;241;43m=\u001b[39;49m\u001b[43mmetadata\u001b[49m\n\u001b[1;32m    133\u001b[0m \u001b[43m\u001b[49m\u001b[43m)\u001b[49m\n\u001b[1;32m    135\u001b[0m \u001b[38;5;28;01mreturn\u001b[39;00m response\n",
      "File \u001b[0;32m/opt/conda/lib/python3.9/site-packages/fosforml/model_manager/model_registry.py:53\u001b[0m, in \u001b[0;36mModelRegistry.register_model\u001b[0;34m(self, model, score, model_name, dataset_name, dataset_source, description, conda_dependencies, model_flavour, model_type, sf_input_dataframe, x_train, y_train, x_test, y_test, y_pred, prob, python_version, source, metadata, prediction_column, target_column)\u001b[0m\n\u001b[1;32m     50\u001b[0m \u001b[38;5;28;01mif\u001b[39;00m versioning_errors:\n\u001b[1;32m     51\u001b[0m     \u001b[38;5;28;01mreturn\u001b[39;00m \u001b[38;5;28;01mFalse\u001b[39;00m,model_version\n\u001b[0;32m---> 53\u001b[0m metrics_errors,metrics \u001b[38;5;241m=\u001b[39m \u001b[38;5;28;43mself\u001b[39;49m\u001b[38;5;241;43m.\u001b[39;49m\u001b[43mget_model_metrics\u001b[49m\u001b[43m(\u001b[49m\n\u001b[1;32m     54\u001b[0m \u001b[43m                                \u001b[49m\u001b[43msource\u001b[49m\u001b[38;5;241;43m=\u001b[39;49m\u001b[43msource\u001b[49m\u001b[43m,\u001b[49m\n\u001b[1;32m     55\u001b[0m \u001b[43m                                \u001b[49m\u001b[43mmodel\u001b[49m\u001b[38;5;241;43m=\u001b[39;49m\u001b[43mmodel\u001b[49m\u001b[43m,\u001b[49m\n\u001b[1;32m     56\u001b[0m \u001b[43m                                \u001b[49m\u001b[43msession\u001b[49m\u001b[38;5;241;43m=\u001b[39;49m\u001b[38;5;28;43mself\u001b[39;49m\u001b[38;5;241;43m.\u001b[39;49m\u001b[43msnowflake_session\u001b[49m\u001b[43m,\u001b[49m\n\u001b[1;32m     57\u001b[0m \u001b[43m                                \u001b[49m\u001b[43mmetadata\u001b[49m\u001b[38;5;241;43m=\u001b[39;49m\u001b[43mmetadata\u001b[49m\u001b[43m,\u001b[49m\n\u001b[1;32m     58\u001b[0m \u001b[43m                                \u001b[49m\u001b[43mmodel_type\u001b[49m\u001b[38;5;241;43m=\u001b[39;49m\u001b[43mmodel_type\u001b[49m\u001b[43m,\u001b[49m\n\u001b[1;32m     59\u001b[0m \u001b[43m                                \u001b[49m\u001b[43mmodel_flavour\u001b[49m\u001b[38;5;241;43m=\u001b[39;49m\u001b[43mmodel_flavour\u001b[49m\u001b[43m,\u001b[49m\n\u001b[1;32m     60\u001b[0m \u001b[43m                                \u001b[49m\u001b[43mx_train\u001b[49m\u001b[38;5;241;43m=\u001b[39;49m\u001b[43mx_train\u001b[49m\u001b[43m,\u001b[49m\n\u001b[1;32m     61\u001b[0m \u001b[43m                                \u001b[49m\u001b[43my_train\u001b[49m\u001b[38;5;241;43m=\u001b[39;49m\u001b[43my_train\u001b[49m\u001b[43m,\u001b[49m\n\u001b[1;32m     62\u001b[0m \u001b[43m                                \u001b[49m\u001b[43mx_test\u001b[49m\u001b[38;5;241;43m=\u001b[39;49m\u001b[43mx_test\u001b[49m\u001b[43m,\u001b[49m\n\u001b[1;32m     63\u001b[0m \u001b[43m                                \u001b[49m\u001b[43my_test\u001b[49m\u001b[38;5;241;43m=\u001b[39;49m\u001b[43my_test\u001b[49m\u001b[43m,\u001b[49m\n\u001b[1;32m     64\u001b[0m \u001b[43m                                \u001b[49m\u001b[43my_pred\u001b[49m\u001b[38;5;241;43m=\u001b[39;49m\u001b[43my_pred\u001b[49m\u001b[43m,\u001b[49m\n\u001b[1;32m     65\u001b[0m \u001b[43m                                \u001b[49m\u001b[43mprob\u001b[49m\u001b[38;5;241;43m=\u001b[39;49m\u001b[43mprob\u001b[49m\u001b[43m,\u001b[49m\n\u001b[1;32m     66\u001b[0m \u001b[43m                                \u001b[49m\u001b[43msf_input_dataframe\u001b[49m\u001b[38;5;241;43m=\u001b[39;49m\u001b[43msf_input_dataframe\u001b[49m\u001b[43m,\u001b[49m\n\u001b[1;32m     67\u001b[0m \u001b[43m                                \u001b[49m\u001b[43mdataset_source\u001b[49m\u001b[38;5;241;43m=\u001b[39;49m\u001b[43mdataset_source\u001b[49m\u001b[43m,\u001b[49m\n\u001b[1;32m     68\u001b[0m \u001b[43m                                \u001b[49m\u001b[43mdataset_name\u001b[49m\u001b[38;5;241;43m=\u001b[39;49m\u001b[43mdataset_name\u001b[49m\u001b[43m,\u001b[49m\n\u001b[1;32m     69\u001b[0m \u001b[43m                                \u001b[49m\u001b[43mprediction_column\u001b[49m\u001b[38;5;241;43m=\u001b[39;49m\u001b[43mprediction_column\u001b[49m\u001b[43m,\u001b[49m\n\u001b[1;32m     70\u001b[0m \u001b[43m                                \u001b[49m\u001b[43mtarget_column\u001b[49m\u001b[38;5;241;43m=\u001b[39;49m\u001b[43mtarget_column\u001b[49m\n\u001b[1;32m     71\u001b[0m \u001b[43m                                \u001b[49m\u001b[43m)\u001b[49m\n\u001b[1;32m     72\u001b[0m \u001b[38;5;28;01mif\u001b[39;00m metrics_errors:\n\u001b[1;32m     73\u001b[0m     \u001b[38;5;28;01mreturn\u001b[39;00m \u001b[38;5;28;01mFalse\u001b[39;00m,metrics\n",
      "File \u001b[0;32m/opt/conda/lib/python3.9/site-packages/fosforml/model_manager/model_registry.py:237\u001b[0m, in \u001b[0;36mModelRegistry.get_model_metrics\u001b[0;34m(self, source, model, session, metadata, model_type, model_flavour, x_train, y_train, x_test, y_test, y_pred, prob, sf_input_dataframe, dataset_source, dataset_name, prediction_column, target_column)\u001b[0m\n\u001b[1;32m    233\u001b[0m     \u001b[38;5;28;01mreturn\u001b[39;00m \u001b[38;5;28;01mTrue\u001b[39;00m, model_dataset_details[\u001b[38;5;124m'\u001b[39m\u001b[38;5;124mmessage\u001b[39m\u001b[38;5;124m'\u001b[39m]\n\u001b[1;32m    235\u001b[0m metrics[\u001b[38;5;124m'\u001b[39m\u001b[38;5;124mdataset_details\u001b[39m\u001b[38;5;124m'\u001b[39m] \u001b[38;5;241m=\u001b[39m model_dataset_details[\u001b[38;5;124m'\u001b[39m\u001b[38;5;124mui_display\u001b[39m\u001b[38;5;124m'\u001b[39m] \u001b[38;5;28;01mif\u001b[39;00m \u001b[38;5;124m'\u001b[39m\u001b[38;5;124mui_display\u001b[39m\u001b[38;5;124m'\u001b[39m \u001b[38;5;129;01min\u001b[39;00m model_dataset_details \u001b[38;5;28;01melse\u001b[39;00m {}\n\u001b[0;32m--> 237\u001b[0m buildtime_metrics_errors,buildtime_metrics \u001b[38;5;241m=\u001b[39m \u001b[38;5;28;43mself\u001b[39;49m\u001b[38;5;241;43m.\u001b[39;49m\u001b[43mget_model_performance_metrics\u001b[49m\u001b[43m(\u001b[49m\u001b[43mmodel\u001b[49m\u001b[43m,\u001b[49m\n\u001b[1;32m    238\u001b[0m \u001b[43m                                                              \u001b[49m\u001b[43mmodel_flavour\u001b[49m\u001b[43m,\u001b[49m\n\u001b[1;32m    239\u001b[0m \u001b[43m                                                              \u001b[49m\u001b[43mmodel_type\u001b[49m\u001b[43m,\u001b[49m\n\u001b[1;32m    240\u001b[0m \u001b[43m                                                              \u001b[49m\u001b[43mmodel_dataset_details\u001b[49m\n\u001b[1;32m    241\u001b[0m \u001b[43m                                                              \u001b[49m\u001b[43m)\u001b[49m\n\u001b[1;32m    242\u001b[0m \u001b[38;5;28;01mif\u001b[39;00m buildtime_metrics_errors:\n\u001b[1;32m    243\u001b[0m     \u001b[38;5;28;01mreturn\u001b[39;00m \u001b[38;5;28;01mTrue\u001b[39;00m,buildtime_metrics[\u001b[38;5;124m'\u001b[39m\u001b[38;5;124mmessage\u001b[39m\u001b[38;5;124m'\u001b[39m]\n",
      "File \u001b[0;32m/opt/conda/lib/python3.9/site-packages/fosforml/model_manager/model_registry.py:328\u001b[0m, in \u001b[0;36mModelRegistry.get_model_performance_metrics\u001b[0;34m(self, model, model_flavour, model_type, model_dataset_details)\u001b[0m\n\u001b[1;32m    325\u001b[0m         \u001b[38;5;28;01mreturn\u001b[39;00m \u001b[38;5;28;01mTrue\u001b[39;00m,{\u001b[38;5;124m\"\u001b[39m\u001b[38;5;124mmessage\u001b[39m\u001b[38;5;124m\"\u001b[39m: \u001b[38;5;124m\"\u001b[39m\u001b[38;5;124mInvalid model type, please provide valid model type as classification or regression\u001b[39m\u001b[38;5;124m\"\u001b[39m} \n\u001b[1;32m    327\u001b[0m \u001b[38;5;28;01mexcept\u001b[39;00m \u001b[38;5;167;01mException\u001b[39;00m \u001b[38;5;28;01mas\u001b[39;00m msg:\n\u001b[0;32m--> 328\u001b[0m     \u001b[38;5;28;01mraise\u001b[39;00m \u001b[38;5;167;01mException\u001b[39;00m(\u001b[38;5;124mf\u001b[39m\u001b[38;5;124m\"\u001b[39m\u001b[38;5;124mFailed to get model performance metrics. \u001b[39m\u001b[38;5;132;01m{\u001b[39;00m\u001b[38;5;28mstr\u001b[39m(msg)\u001b[38;5;132;01m}\u001b[39;00m\u001b[38;5;124m\"\u001b[39m)\n",
      "\u001b[0;31mException\u001b[0m: Failed to get model performance metrics. 'feature_names'"
     ]
    }
   ],
   "source": [
    "## registering the model in Fosfor Insight Designer.\n",
    "register_model(\n",
    "    model_obj=gbdt, \n",
    "    session=my_session,\n",
    "    x_train=x_train,\n",
    "    y_train=y_train_df,\n",
    "    x_test=x_train,\n",
    "    y_test=y_train_df,\n",
    "    y_pred=y_pred_df,\n",
    "    prob=y_prob_df,\n",
    "    source=\"Notebook\",\n",
    "    dataset_name=\"CRA_APPLICATION_TRAIN_DETAILS\",\n",
    "    dataset_source=\"Snowflake\",\n",
    "    #dataset_source=\"InMemory\",\n",
    "    name=\"Credit_Risk_XGB_Classifier\",\n",
    "    description=\"Credit Risk XGBoost Classification Model\",\n",
    "    flavour=\"sklearn\",\n",
    "    model_type=\"classification\",\n",
    "    conda_dependencies=[\"scikit-learn==1.3.2\"]\n",
    ")"
   ]
  },
  {
   "cell_type": "code",
   "execution_count": 91,
   "id": "2b8ece8a",
   "metadata": {},
   "outputs": [
    {
     "name": "stdout",
     "output_type": "stream",
     "text": [
      "Calculating build time metrics\n",
      "\n",
      "Progress: ██████████████████████████████████████████████████████████████████████ 100.0%\n"
     ]
    },
    {
     "data": {
      "application/vnd.jupyter.widget-view+json": {
       "model_id": "7c1ade20a1714bc0b1fdd5a3a5a8ce52",
       "version_major": 2,
       "version_minor": 0
      },
      "text/plain": [
       "VBox(children=(HTML(value='<style>.grad_1{background: #2468a4;} .grad_2{ color:white; background: #2468a4;}</s…"
      ]
     },
     "metadata": {},
     "output_type": "display_data"
    }
   ],
   "source": [
    "## registering the model in Fosfor.\n",
    "model_reg = register_model(gbdt,\n",
    "               score, \n",
    "               name=\"Credit_Risk_XGB_Classifier\", \n",
    "               description=\"Credit Risk XGBoost Classification Model\",\n",
    "               flavour=MLModelFlavours.sklearn,\n",
    "               model_type=\"classification\",\n",
    "               #init_script=\"pip install snowflake-ml-python==1.0.11\",\n",
    "               init_script=\"\\\\n pip install fosforml \\\\n pip install fosforio[snowflake] \\\\n pip install seaborn \\\\n pip install plotly \\\\n pip install statsmodels \\\\n pip install xgboost \\\\n pip install catboost \\\\n pip install snowflake-connector-python[pandas]\",                           \n",
    "               y_true=y_train,\n",
    "               y_pred=y_pred,\n",
    "               prob=y_prob,\n",
    "               features=x_train.columns,\n",
    "               input_type=\"json\", \n",
    "               explain_ai=True,\n",
    "               x_train=x_train, \n",
    "               x_test=x_train, \n",
    "               y_train=y_train.tolist(),\n",
    "               y_test=y_train.tolist(),\n",
    "               feature_names=x_train.columns.tolist(),\n",
    "               original_features=x_train.columns.tolist(),\n",
    "               feature_ids=x_train.columns,\n",
    "               kyd=True, kyd_score = True)"
   ]
  },
  {
   "cell_type": "code",
   "execution_count": 51,
   "id": "48cc148c",
   "metadata": {},
   "outputs": [],
   "source": [
    "import pickle"
   ]
  },
  {
   "cell_type": "code",
   "execution_count": 53,
   "id": "f60a1ce2",
   "metadata": {},
   "outputs": [],
   "source": [
    "with open('./CreditRisk_XGBclassifier_v1.pkl', 'wb') as f:  # open a text file\n",
    "    pickle.dump(gbdt, f) # serialize the list"
   ]
  },
  {
   "cell_type": "code",
   "execution_count": 94,
   "id": "d485a220",
   "metadata": {},
   "outputs": [],
   "source": [
    "#with open('model_artifacts/CreditRisk_XGBclassifier_v1.pkl', 'wb') as f:  # open a text file\n",
    "#    pickle.dump(gbdt, f) # serialize the list"
   ]
  },
  {
   "cell_type": "markdown",
   "id": "24dcbb98",
   "metadata": {},
   "source": [
    "# RandomForest Classifier"
   ]
  },
  {
   "cell_type": "code",
   "execution_count": 54,
   "id": "bbfcb49f",
   "metadata": {},
   "outputs": [
    {
     "data": {
      "text/html": [
       "<style>#sk-container-id-1 {color: black;}#sk-container-id-1 pre{padding: 0;}#sk-container-id-1 div.sk-toggleable {background-color: white;}#sk-container-id-1 label.sk-toggleable__label {cursor: pointer;display: block;width: 100%;margin-bottom: 0;padding: 0.3em;box-sizing: border-box;text-align: center;}#sk-container-id-1 label.sk-toggleable__label-arrow:before {content: \"▸\";float: left;margin-right: 0.25em;color: #696969;}#sk-container-id-1 label.sk-toggleable__label-arrow:hover:before {color: black;}#sk-container-id-1 div.sk-estimator:hover label.sk-toggleable__label-arrow:before {color: black;}#sk-container-id-1 div.sk-toggleable__content {max-height: 0;max-width: 0;overflow: hidden;text-align: left;background-color: #f0f8ff;}#sk-container-id-1 div.sk-toggleable__content pre {margin: 0.2em;color: black;border-radius: 0.25em;background-color: #f0f8ff;}#sk-container-id-1 input.sk-toggleable__control:checked~div.sk-toggleable__content {max-height: 200px;max-width: 100%;overflow: auto;}#sk-container-id-1 input.sk-toggleable__control:checked~label.sk-toggleable__label-arrow:before {content: \"▾\";}#sk-container-id-1 div.sk-estimator input.sk-toggleable__control:checked~label.sk-toggleable__label {background-color: #d4ebff;}#sk-container-id-1 div.sk-label input.sk-toggleable__control:checked~label.sk-toggleable__label {background-color: #d4ebff;}#sk-container-id-1 input.sk-hidden--visually {border: 0;clip: rect(1px 1px 1px 1px);clip: rect(1px, 1px, 1px, 1px);height: 1px;margin: -1px;overflow: hidden;padding: 0;position: absolute;width: 1px;}#sk-container-id-1 div.sk-estimator {font-family: monospace;background-color: #f0f8ff;border: 1px dotted black;border-radius: 0.25em;box-sizing: border-box;margin-bottom: 0.5em;}#sk-container-id-1 div.sk-estimator:hover {background-color: #d4ebff;}#sk-container-id-1 div.sk-parallel-item::after {content: \"\";width: 100%;border-bottom: 1px solid gray;flex-grow: 1;}#sk-container-id-1 div.sk-label:hover label.sk-toggleable__label {background-color: #d4ebff;}#sk-container-id-1 div.sk-serial::before {content: \"\";position: absolute;border-left: 1px solid gray;box-sizing: border-box;top: 0;bottom: 0;left: 50%;z-index: 0;}#sk-container-id-1 div.sk-serial {display: flex;flex-direction: column;align-items: center;background-color: white;padding-right: 0.2em;padding-left: 0.2em;position: relative;}#sk-container-id-1 div.sk-item {position: relative;z-index: 1;}#sk-container-id-1 div.sk-parallel {display: flex;align-items: stretch;justify-content: center;background-color: white;position: relative;}#sk-container-id-1 div.sk-item::before, #sk-container-id-1 div.sk-parallel-item::before {content: \"\";position: absolute;border-left: 1px solid gray;box-sizing: border-box;top: 0;bottom: 0;left: 50%;z-index: -1;}#sk-container-id-1 div.sk-parallel-item {display: flex;flex-direction: column;z-index: 1;position: relative;background-color: white;}#sk-container-id-1 div.sk-parallel-item:first-child::after {align-self: flex-end;width: 50%;}#sk-container-id-1 div.sk-parallel-item:last-child::after {align-self: flex-start;width: 50%;}#sk-container-id-1 div.sk-parallel-item:only-child::after {width: 0;}#sk-container-id-1 div.sk-dashed-wrapped {border: 1px dashed gray;margin: 0 0.4em 0.5em 0.4em;box-sizing: border-box;padding-bottom: 0.4em;background-color: white;}#sk-container-id-1 div.sk-label label {font-family: monospace;font-weight: bold;display: inline-block;line-height: 1.2em;}#sk-container-id-1 div.sk-label-container {text-align: center;}#sk-container-id-1 div.sk-container {/* jupyter's `normalize.less` sets `[hidden] { display: none; }` but bootstrap.min.css set `[hidden] { display: none !important; }` so we also need the `!important` here to be able to override the default hidden behavior on the sphinx rendered scikit-learn.org. See: https://github.com/scikit-learn/scikit-learn/issues/21755 */display: inline-block !important;position: relative;}#sk-container-id-1 div.sk-text-repr-fallback {display: none;}</style><div id=\"sk-container-id-1\" class=\"sk-top-container\"><div class=\"sk-text-repr-fallback\"><pre>RandomForestClassifier(max_depth=12, max_features=0.2, min_samples_leaf=2,\n",
       "                       n_estimators=200, n_jobs=16, random_state=0)</pre><b>In a Jupyter environment, please rerun this cell to show the HTML representation or trust the notebook. <br />On GitHub, the HTML representation is unable to render, please try loading this page with nbviewer.org.</b></div><div class=\"sk-container\" hidden><div class=\"sk-item\"><div class=\"sk-estimator sk-toggleable\"><input class=\"sk-toggleable__control sk-hidden--visually\" id=\"sk-estimator-id-1\" type=\"checkbox\" checked><label for=\"sk-estimator-id-1\" class=\"sk-toggleable__label sk-toggleable__label-arrow\">RandomForestClassifier</label><div class=\"sk-toggleable__content\"><pre>RandomForestClassifier(max_depth=12, max_features=0.2, min_samples_leaf=2,\n",
       "                       n_estimators=200, n_jobs=16, random_state=0)</pre></div></div></div></div></div>"
      ],
      "text/plain": [
       "RandomForestClassifier(max_depth=12, max_features=0.2, min_samples_leaf=2,\n",
       "                       n_estimators=200, n_jobs=16, random_state=0)"
      ]
     },
     "execution_count": 54,
     "metadata": {},
     "output_type": "execute_result"
    }
   ],
   "source": [
    "RFC = RandomForestClassifier(**rf_params)\n",
    "RFC.fit(x_train, y_train)"
   ]
  },
  {
   "cell_type": "code",
   "execution_count": null,
   "id": "52da9fea",
   "metadata": {},
   "outputs": [],
   "source": [
    "y_pred = RFC.predict(x_train)"
   ]
  },
  {
   "cell_type": "code",
   "execution_count": null,
   "id": "24c96ff2",
   "metadata": {},
   "outputs": [],
   "source": [
    "y_prob = RFC.predict_proba(x_train)[:,1]"
   ]
  },
  {
   "cell_type": "code",
   "execution_count": null,
   "id": "fd7ab750",
   "metadata": {},
   "outputs": [],
   "source": [
    "y_pred"
   ]
  },
  {
   "cell_type": "code",
   "execution_count": null,
   "id": "706dc9ec",
   "metadata": {},
   "outputs": [],
   "source": [
    "y_prob"
   ]
  },
  {
   "cell_type": "code",
   "execution_count": null,
   "id": "be6ca5eb-7687-4c20-b549-7b287720e80d",
   "metadata": {},
   "outputs": [],
   "source": [
    "y_train_df = pd.DataFrame(y_train)\n",
    "y_pred_df = pd.DataFrame(y_pred, columns=['PREDICTION'])\n",
    "y_prob_df = pd.DataFrame(y_prob, columns=['PROBABILITY'])"
   ]
  },
  {
   "cell_type": "code",
   "execution_count": null,
   "id": "b6e8cd53-9b4b-4203-8305-9021d837c85a",
   "metadata": {},
   "outputs": [],
   "source": [
    "type(x_train),type(x_test), type(y_train_df),type(y_pred_df), type(y_prob_df)"
   ]
  },
  {
   "cell_type": "code",
   "execution_count": null,
   "id": "40c834af-c183-4cce-b2ce-89c2282cb6cf",
   "metadata": {},
   "outputs": [],
   "source": [
    "## registering the model in Fosfor Insight Designer.\n",
    "register_model(\n",
    "    model_obj=RFC, \n",
    "    session=my_session,\n",
    "    x_train=x_train,\n",
    "    y_train=y_train_df,\n",
    "    x_test=x_train,\n",
    "    y_test=y_train_df,\n",
    "    y_pred=y_pred_df,\n",
    "    prob=y_prob_df,\n",
    "    source=\"Notebook\",\n",
    "    dataset_name=\"CRA_APPLICATION_TRAIN_DETAILS\",\n",
    "    dataset_source=\"Snowflake\",\n",
    "    #dataset_source=\"InMemory\",\n",
    "    name=\"Credit_Risk_RandomForest_Classifier\",\n",
    "    description=\"Credit Risk RandomForest Classification Model\",\n",
    "    flavour=\"sklearn\",\n",
    "    model_type=\"classification\",\n",
    "    conda_dependencies=[\"scikit-learn==1.3.2\"]\n",
    ")"
   ]
  },
  {
   "cell_type": "code",
   "execution_count": null,
   "id": "3af8fe06",
   "metadata": {},
   "outputs": [],
   "source": [
    "with open('./Output/CreditRisk_RFclassifier_v1.pkl', 'wb') as f:  # open a text file\n",
    "    pickle.dump(RFC, f) # serialize the list"
   ]
  },
  {
   "cell_type": "code",
   "execution_count": null,
   "id": "4d22936c",
   "metadata": {},
   "outputs": [],
   "source": [
    "#with open('model_artifacts/CreditRisk_RFclassifier_v1.pkl', 'wb') as f:  # open a text file\n",
    "#    pickle.dump(RFC, f) # serialize the list"
   ]
  },
  {
   "cell_type": "markdown",
   "id": "e9b3973f",
   "metadata": {},
   "source": [
    "# Extra Tree Classifier"
   ]
  },
  {
   "cell_type": "code",
   "execution_count": null,
   "id": "69a6fa0d",
   "metadata": {},
   "outputs": [],
   "source": [
    "ETC = ExtraTreesClassifier(**et_params)\n",
    "ETC.fit(x_train, y_train)"
   ]
  },
  {
   "cell_type": "code",
   "execution_count": null,
   "id": "5c48cf77",
   "metadata": {},
   "outputs": [],
   "source": [
    "y_pred = ETC.predict(x_train)\n",
    "y_prob = ETC.predict_proba(x_train)[:,1]"
   ]
  },
  {
   "cell_type": "code",
   "execution_count": null,
   "id": "eea815ea",
   "metadata": {},
   "outputs": [],
   "source": [
    "y_pred"
   ]
  },
  {
   "cell_type": "code",
   "execution_count": null,
   "id": "86cad9dd",
   "metadata": {},
   "outputs": [],
   "source": [
    "y_prob"
   ]
  },
  {
   "cell_type": "code",
   "execution_count": null,
   "id": "5895e18f",
   "metadata": {},
   "outputs": [],
   "source": [
    "y_train_df = pd.DataFrame(y_train)\n",
    "y_pred_df = pd.DataFrame(y_pred, columns=['PREDICTION'])\n",
    "y_prob_df = pd.DataFrame(y_prob, columns=['PROBABILITY'])"
   ]
  },
  {
   "cell_type": "code",
   "execution_count": null,
   "id": "eb64b470",
   "metadata": {},
   "outputs": [],
   "source": [
    "type(x_train),type(x_test), type(y_train_df),type(y_pred_df), type(y_prob_df)"
   ]
  },
  {
   "cell_type": "code",
   "execution_count": null,
   "id": "508f0d1f",
   "metadata": {},
   "outputs": [],
   "source": [
    "## registering the model in Fosfor Insight Designer.\n",
    "register_model(\n",
    "    model_obj=ETC, \n",
    "    session=my_session,\n",
    "    x_train=x_train,\n",
    "    y_train=y_train_df,\n",
    "    x_test=x_train,\n",
    "    y_test=y_train_df,\n",
    "    y_pred=y_pred_df,\n",
    "    prob=y_prob_df,\n",
    "    source=\"Notebook\",\n",
    "    dataset_name=\"CRA_APPLICATION_TRAIN_DETAILS\",\n",
    "    dataset_source=\"Snowflake\",\n",
    "    #dataset_source=\"InMemory\",\n",
    "    name=\"Credit_Risk_ExtraTree_Classifier\",\n",
    "    description=\"Credit Risk ExtraTree Classification Model\",\n",
    "    flavour=\"sklearn\",\n",
    "    model_type=\"classification\",\n",
    "    conda_dependencies=[\"scikit-learn==1.3.2\"]\n",
    ")"
   ]
  },
  {
   "cell_type": "code",
   "execution_count": null,
   "id": "b40db2b3",
   "metadata": {
    "scrolled": true
   },
   "outputs": [],
   "source": [
    "## registering the model in Fosfor.\n",
    "model_reg = register_model(ETC,\n",
    "               score, \n",
    "               name=\"Credit_Risk_ExtraTree_Classifier\", \n",
    "               description=\"Credit Risk ExtraTree Classification Model\",\n",
    "               flavour=MLModelFlavours.sklearn,\n",
    "               model_type=\"classification\",\n",
    "               #init_script=\"pip install snowflake-ml-python==1.0.11\",\n",
    "               init_script=\"\\\\n pip install fosforml \\\\n pip install fosforio[snowflake] \\\\n pip install seaborn \\\\n pip install plotly \\\\n pip install statsmodels \\\\n pip install xgboost \\\\n pip install catboost \\\\n pip install snowflake-connector-python[pandas]\",                              \n",
    "               y_true=y_train,\n",
    "               y_pred=y_pred,\n",
    "               prob=y_prob,\n",
    "               features=x_train.columns,\n",
    "               input_type=\"json\", \n",
    "               explain_ai=True,\n",
    "               x_train=x_train, \n",
    "               x_test=x_train, \n",
    "               y_train=y_train.tolist(),\n",
    "               y_test=y_train.tolist(),\n",
    "               feature_names=x_train.columns.tolist(),\n",
    "               original_features=x_train.columns.tolist(),\n",
    "               feature_ids=x_train.columns,\n",
    "               kyd=True, kyd_score = True)"
   ]
  },
  {
   "cell_type": "code",
   "execution_count": null,
   "id": "6f43526f",
   "metadata": {},
   "outputs": [],
   "source": [
    "with open('./CreditRisk_ETclassifier_v1.pkl', 'wb') as f:  # open a text file\n",
    "    pickle.dump(ETC, f) # serialize the list"
   ]
  },
  {
   "cell_type": "code",
   "execution_count": null,
   "id": "b99735ab",
   "metadata": {},
   "outputs": [],
   "source": [
    "#with open('model_artifacts/CreditRisk_ETclassifier_v1.pkl', 'wb') as f:  # open a text file\n",
    "#    pickle.dump(ETC, f) # serialize the list"
   ]
  },
  {
   "cell_type": "markdown",
   "id": "11ce7ac8",
   "metadata": {},
   "source": [
    "# CATBoost Classifier"
   ]
  },
  {
   "cell_type": "code",
   "execution_count": null,
   "id": "e374b078",
   "metadata": {},
   "outputs": [],
   "source": [
    "CBC = CatBoostClassifier(**catboost_params)\n",
    "CBC.fit(x_train, y_train)"
   ]
  },
  {
   "cell_type": "code",
   "execution_count": null,
   "id": "8794e860",
   "metadata": {},
   "outputs": [],
   "source": [
    "y_pred = CBC.predict(x_train)\n",
    "y_prob = CBC.predict_proba(x_train)[:,1]"
   ]
  },
  {
   "cell_type": "code",
   "execution_count": null,
   "id": "064e3c7c",
   "metadata": {},
   "outputs": [],
   "source": [
    "y_pred"
   ]
  },
  {
   "cell_type": "code",
   "execution_count": null,
   "id": "0f73dc56",
   "metadata": {},
   "outputs": [],
   "source": [
    "y_prob"
   ]
  },
  {
   "cell_type": "code",
   "execution_count": null,
   "id": "5ea82d26",
   "metadata": {},
   "outputs": [],
   "source": [
    "y_train_df = pd.DataFrame(y_train)\n",
    "y_pred_df = pd.DataFrame(y_pred, columns=['PREDICTION'])\n",
    "y_prob_df = pd.DataFrame(y_prob, columns=['PROBABILITY'])"
   ]
  },
  {
   "cell_type": "code",
   "execution_count": null,
   "id": "8583889e",
   "metadata": {},
   "outputs": [],
   "source": [
    "type(x_train),type(x_test), type(y_train_df),type(y_pred_df), type(y_prob_df)"
   ]
  },
  {
   "cell_type": "code",
   "execution_count": null,
   "id": "2ec03f0a",
   "metadata": {},
   "outputs": [],
   "source": [
    "## registering the model in Fosfor Insight Designer.\n",
    "register_model(\n",
    "    model_obj=CBC, \n",
    "    session=my_session,\n",
    "    x_train=x_train,\n",
    "    y_train=y_train_df,\n",
    "    x_test=x_train,\n",
    "    y_test=y_train_df,\n",
    "    y_pred=y_pred_df,\n",
    "    prob=y_prob_df,\n",
    "    source=\"Notebook\",\n",
    "    dataset_name=\"CRA_APPLICATION_TRAIN_DETAILS\",\n",
    "    dataset_source=\"Snowflake\",\n",
    "    #dataset_source=\"InMemory\",\n",
    "    name=\"Credit_Risk_CATBoost_Classifier\",\n",
    "    description=\"Credit Risk CATBoost Classification Model\",\n",
    "    flavour=\"sklearn\",\n",
    "    model_type=\"classification\",\n",
    "    conda_dependencies=[\"scikit-learn==1.3.2\"]\n",
    ")"
   ]
  },
  {
   "cell_type": "code",
   "execution_count": null,
   "id": "e1f69e47",
   "metadata": {},
   "outputs": [],
   "source": [
    "## registering the model in Fosfor.\n",
    "model_reg = register_model(CBC,\n",
    "               score, \n",
    "               name=\"Credit_Risk_CATBoost_Classifier\", \n",
    "               description=\"Credit Risk CatBoost Classification Model\",\n",
    "               flavour=MLModelFlavours.sklearn,\n",
    "               model_type=\"classification\",\n",
    "               #init_script=\"pip install snowflake-ml-python==1.0.11\",\n",
    "               init_script=\"\\\\n pip install fosforml \\\\n pip install fosforio[snowflake] \\\\n pip install seaborn \\\\n pip install plotly \\\\n pip install statsmodels \\\\n pip install xgboost \\\\n pip install catboost \\\\n pip install snowflake-connector-python[pandas]\",                              \n",
    "               y_true=y_train,\n",
    "               y_pred=y_pred,\n",
    "               prob=y_prob,\n",
    "               features=x_train.columns,\n",
    "               input_type=\"json\", \n",
    "               explain_ai=True,\n",
    "               x_train=x_train, \n",
    "               x_test=x_train, \n",
    "               y_train=y_train.tolist(),\n",
    "               y_test=y_train.tolist(),\n",
    "               feature_names=x_train.columns.tolist(),\n",
    "               original_features=x_train.columns.tolist(),\n",
    "               feature_ids=x_train.columns,\n",
    "               kyd=True, kyd_score = True)"
   ]
  },
  {
   "cell_type": "code",
   "execution_count": null,
   "id": "6179acd1",
   "metadata": {},
   "outputs": [],
   "source": [
    "with open('./CreditRisk_CatBoostclassifier_v1.pkl', 'wb') as f:  # open a text file\n",
    "    pickle.dump(CBC, f) # serialize the list"
   ]
  },
  {
   "cell_type": "code",
   "execution_count": null,
   "id": "acc23d5c",
   "metadata": {},
   "outputs": [],
   "source": [
    "#with open('model_artifacts/CreditRisk_CatBoostclassifier_v1.pkl', 'wb') as f:  # open a text file\n",
    "#    pickle.dump(CBC, f) # serialize the list"
   ]
  },
  {
   "cell_type": "markdown",
   "id": "8b5ee9bf",
   "metadata": {},
   "source": [
    "# Version 1 of Stacking Classifier"
   ]
  },
  {
   "cell_type": "code",
   "execution_count": null,
   "id": "f9de51e9",
   "metadata": {},
   "outputs": [],
   "source": [
    "x_train_XGB = gbdt.predict(xgb.DMatrix(x_train))\n",
    "x_train_RFC = RFC.predict_proba(x_train)[:,1]\n",
    "x_train_ETC = ETC.predict_proba(x_train)[:,1]\n",
    "x_train_CBC = CBC.predict_proba(x_train)[:,1]"
   ]
  },
  {
   "cell_type": "code",
   "execution_count": null,
   "id": "b8874b70",
   "metadata": {},
   "outputs": [],
   "source": [
    "x_test_XGB = gbdt.predict(xgb.DMatrix(x_test))\n",
    "x_test_RFC = RFC.predict_proba(x_test)[:,1]\n",
    "x_test_ETC = ETC.predict_proba(x_test)[:,1]\n",
    "x_test_CBC = CBC.predict_proba(x_test)[:,1]"
   ]
  },
  {
   "cell_type": "code",
   "execution_count": null,
   "id": "f8883f7b",
   "metadata": {},
   "outputs": [],
   "source": [
    "x_train_XGBT = x_train_XGB.reshape(-1,1)\n",
    "x_train_RFCT = x_train_RFC.reshape(-1,1)\n",
    "x_train_ETCT = x_train_ETC.reshape(-1,1)\n",
    "x_train_CBCT = x_train_CBC.reshape(-1,1)"
   ]
  },
  {
   "cell_type": "code",
   "execution_count": null,
   "id": "29974030",
   "metadata": {},
   "outputs": [],
   "source": [
    "x_train_stk = np.concatenate((x_train_XGBT, x_train_RFCT, x_train_ETCT, x_train_CBCT),axis=1)"
   ]
  },
  {
   "cell_type": "code",
   "execution_count": null,
   "id": "5de8ff75",
   "metadata": {},
   "outputs": [],
   "source": [
    "x_train_stk.shape"
   ]
  },
  {
   "cell_type": "code",
   "execution_count": null,
   "id": "e4bdb968",
   "metadata": {},
   "outputs": [],
   "source": [
    "x_test_XGBT = x_test_XGB.reshape(-1,1)\n",
    "x_test_RFCT = x_test_RFC.reshape(-1,1)\n",
    "x_test_ETCT = x_test_ETC.reshape(-1,1)\n",
    "x_test_CBCT = x_test_CBC.reshape(-1,1)"
   ]
  },
  {
   "cell_type": "code",
   "execution_count": null,
   "id": "34abf5f0",
   "metadata": {},
   "outputs": [],
   "source": [
    "x_test_stk = np.concatenate((x_test_XGBT, x_test_RFCT, x_test_ETCT, x_test_CBCT),axis=1)\n",
    "x_test_stk.shape"
   ]
  },
  {
   "cell_type": "code",
   "execution_count": null,
   "id": "ac9a9b67",
   "metadata": {},
   "outputs": [],
   "source": [
    "RFC_Stack = RandomForestClassifier()\n",
    "RFC_Stack.fit(x_train_stk,y_train)"
   ]
  },
  {
   "cell_type": "code",
   "execution_count": null,
   "id": "6f3aa01f",
   "metadata": {},
   "outputs": [],
   "source": [
    "y_pred_stk = RFC_Stack.predict(x_train_stk)\n",
    "y_prob_stk = RFC_Stack.predict_proba(x_train_stk)[:,1]"
   ]
  },
  {
   "cell_type": "code",
   "execution_count": null,
   "id": "a24f7eac",
   "metadata": {},
   "outputs": [],
   "source": [
    "ytest_pred_stk = RFC_Stack.predict(x_test_stk)\n",
    "ytest_prob_stk = RFC_Stack.predict_proba(x_test_stk)[:,1]"
   ]
  },
  {
   "cell_type": "code",
   "execution_count": null,
   "id": "2bacd8eb",
   "metadata": {},
   "outputs": [],
   "source": [
    "ytest_pred_stk"
   ]
  },
  {
   "cell_type": "code",
   "execution_count": null,
   "id": "88f62f18",
   "metadata": {},
   "outputs": [],
   "source": [
    "ytest_prob_stk"
   ]
  },
  {
   "cell_type": "code",
   "execution_count": null,
   "id": "76efbe10",
   "metadata": {},
   "outputs": [],
   "source": [
    "y_train_df = pd.DataFrame(y_train)\n",
    "y_pred_df = pd.DataFrame(ytest_pred_stk, columns=['PREDICTION'])\n",
    "y_prob_df = pd.DataFrame(ytest_prob_stk, columns=['PROBABILITY'])"
   ]
  },
  {
   "cell_type": "code",
   "execution_count": null,
   "id": "c1fbcb01",
   "metadata": {},
   "outputs": [],
   "source": [
    "type(x_train_stk),type(y_train_df),type(y_pred_df), type(y_prob_df)"
   ]
  },
  {
   "cell_type": "code",
   "execution_count": null,
   "id": "d891d770",
   "metadata": {},
   "outputs": [],
   "source": [
    "## registering the model in Fosfor Insight Designer.\n",
    "register_model(\n",
    "    model_obj=RFC_Stack, \n",
    "    session=my_session,\n",
    "    x_train=x_train_stk,\n",
    "    y_train=y_train_df,\n",
    "    x_test=x_train_stk,\n",
    "    y_test=y_train_df,\n",
    "    y_pred=y_pred_df,\n",
    "    prob=y_prob_df,\n",
    "    source=\"Notebook\",\n",
    "    dataset_name=\"CRA_APPLICATION_TRAIN_DETAILS\",\n",
    "    dataset_source=\"Snowflake\",\n",
    "    #dataset_source=\"InMemory\",\n",
    "    name=\"Credit_Risk_StackedRF_Classifier\",\n",
    "    description=\"Credit Risk Stacked RF Classification Model\",\n",
    "    flavour=\"sklearn\",\n",
    "    model_type=\"classification\",\n",
    "    conda_dependencies=[\"scikit-learn==1.3.2\"]\n",
    ")"
   ]
  },
  {
   "cell_type": "code",
   "execution_count": null,
   "id": "8b9ab563",
   "metadata": {},
   "outputs": [],
   "source": [
    "## registering the model in Fosfor.\n",
    "model_reg = register_model(RFC_Stack,\n",
    "               score, \n",
    "               name=\"Credit_Risk_StackedRF_Classifier\", \n",
    "               description=\"Credit Risk Stacked RF Classification Model\",\n",
    "               flavour=MLModelFlavours.sklearn,\n",
    "               model_type=\"classification\",\n",
    "               #init_script=\"pip install snowflake-ml-python==1.0.11\",\n",
    "               init_script=\"\\\\n pip install fosforml \\\\n pip install fosforio[snowflake] \\\\n pip install seaborn \\\\n pip install plotly \\\\n pip install statsmodels \\\\n pip install xgboost \\\\n pip install catboost \\\\n pip install snowflake-connector-python[pandas]\",                              \n",
    "               y_true=y_train,\n",
    "               y_pred=y_pred,\n",
    "               prob=y_prob,\n",
    "               features=x_train.columns,\n",
    "               input_type=\"json\", \n",
    "               explain_ai=True,\n",
    "               x_train=x_train, \n",
    "               x_test=x_train, \n",
    "               y_train=y_train.tolist(),\n",
    "               y_test=y_train.tolist(),\n",
    "               feature_names=x_train.columns.tolist(),\n",
    "               original_features=x_train.columns.tolist(),\n",
    "               feature_ids=x_train.columns,\n",
    "               kyd=True, kyd_score = True)"
   ]
  },
  {
   "cell_type": "code",
   "execution_count": null,
   "id": "e9ffb188",
   "metadata": {},
   "outputs": [],
   "source": [
    "with open('/data/Output/CreditRisk_StackedRFclassifier_v1.pkl', 'wb') as f:  # open a text file\n",
    "    pickle.dump(RFC_Stack, f) # serialize the list"
   ]
  },
  {
   "cell_type": "code",
   "execution_count": null,
   "id": "04f8d862",
   "metadata": {},
   "outputs": [],
   "source": [
    "#with open('model_artifacts/CreditRisk_StackedRFclassifier_v1.pkl', 'wb') as f:  # open a text file\n",
    "#    pickle.dump(RFC_Stack, f) # serialize the list"
   ]
  },
  {
   "cell_type": "markdown",
   "id": "32881dd6",
   "metadata": {},
   "source": [
    "# Version 2 of Stacking Classifier"
   ]
  },
  {
   "cell_type": "code",
   "execution_count": null,
   "id": "63323bd6",
   "metadata": {},
   "outputs": [],
   "source": [
    "x_train_stk = np.concatenate((x_train_RFCT, x_train_ETCT, x_train_CBCT),axis=1)\n",
    "x_test_stk = np.concatenate(( x_test_RFCT, x_test_ETCT, x_test_CBCT),axis=1)\n",
    "\n",
    "RFC_Stack = RandomForestClassifier()\n",
    "RFC_Stack.fit(x_train_stk,y_train)\n",
    "\n",
    "y_pred_stk = RFC_Stack.predict(x_train_stk)\n",
    "y_prob_stk = RFC_Stack.predict_proba(x_train_stk)[:,1]\n",
    "\n",
    "ytest_pred_stk = RFC_Stack.predict(x_test_stk)\n",
    "ytest_prob_stk = RFC_Stack.predict_proba(x_test_stk)[:,1]\n",
    "\n",
    "y_pred_stk\n",
    "y_prob_stk"
   ]
  },
  {
   "cell_type": "code",
   "execution_count": null,
   "id": "7a629b03",
   "metadata": {},
   "outputs": [],
   "source": [
    "@scoring_func\n",
    "def score(model, request):\n",
    "    payload_dict = request.json[\"payload\"]\n",
    "    data = pd.DataFrame(payload_dict,index=[0])\n",
    "    \n",
    "    #data_XGB = gbdt.predict(xgb.DMatrix(data))\n",
    "    data_RFC = RFC.predict_proba(data)[:,1]\n",
    "    data_ETC = ETC.predict_proba(data)[:,1]\n",
    "    data_CBC = CBC.predict_proba(data)[:,1]\n",
    "    \n",
    "    #data_XGBT = data_XGB.reshape(-1,1)\n",
    "    data_RFCT = data_RFC.reshape(-1,1)\n",
    "    data_ETCT = data_ETC.reshape(-1,1)\n",
    "    data_CBCT = data_CBC.reshape(-1,1)\n",
    "    \n",
    "    #data = np.concatenate((data_XGBT, data_RFCT, data_ETCT, data_CBCT), axis=1)\n",
    "    data = np.concatenate((data_RFCT, data_ETCT, data_CBCT), axis=1)\n",
    "    \n",
    "    y_pred = model.predict(data)\n",
    "    y_prob = model.predict_proba(data)[:,1]\n",
    "    #temp_dict = {\"Prediction: \": np.round(y_pred), \"Probability: \": y_prob }\n",
    "    temp_dict = str([np.round(y_pred)[0], y_prob[0]])\n",
    "    return temp_dict"
   ]
  },
  {
   "cell_type": "code",
   "execution_count": null,
   "id": "6bb3a2ee",
   "metadata": {},
   "outputs": [],
   "source": [
    "## registering the model in Fosfor with correct output (y_pred_stk, y_prob_stk.\n",
    "model_reg = register_model(RFC_Stack,\n",
    "               score, \n",
    "               name=\"Credit_Risk_StackedRF_Classifier\", \n",
    "               description=\"Credit Risk Stacked RF Classification Model\",\n",
    "               flavour=MLModelFlavours.sklearn,\n",
    "               model_type=\"classification\",\n",
    "               #init_script=\"pip install snowflake-ml-python==1.0.11\",\n",
    "               init_script=\"\\\\n pip install fosforml \\\\n pip install fosforio[snowflake] \\\\n pip install seaborn \\\\n pip install plotly \\\\n pip install statsmodels \\\\n pip install xgboost \\\\n pip install catboost \\\\n pip install snowflake-connector-python[pandas]\",                              \n",
    "               y_true=y_train,\n",
    "               y_pred=y_pred_stk,\n",
    "               prob=y_prob_stk,\n",
    "               features=x_train.columns,\n",
    "               input_type=\"json\", \n",
    "               explain_ai=True,\n",
    "               x_train=x_train, \n",
    "               x_test=x_train, \n",
    "               y_train=y_train.tolist(),\n",
    "               y_test=y_train.tolist(),\n",
    "               feature_names=x_train.columns.tolist(),\n",
    "               original_features=x_train.columns.tolist(),\n",
    "               feature_ids=x_train.columns,\n",
    "               kyd=True, kyd_score = True)"
   ]
  },
  {
   "cell_type": "code",
   "execution_count": null,
   "id": "c4872330",
   "metadata": {},
   "outputs": [],
   "source": [
    "with open('/data/Output/CreditRisk_StackedRFclassifier_v2.pkl', 'wb') as f:  # open a text file\n",
    "    pickle.dump(RFC_Stack, f) # serialize the list"
   ]
  },
  {
   "cell_type": "code",
   "execution_count": null,
   "id": "76a8cee6",
   "metadata": {},
   "outputs": [],
   "source": [
    "#with open('model_artifacts/CreditRisk_StackedRFclassifier_v2.pkl', 'wb') as f:  # open a text file\n",
    "#    pickle.dump(RFC_Stack, f) # serialize the list"
   ]
  },
  {
   "cell_type": "markdown",
   "id": "a4076d63",
   "metadata": {},
   "source": [
    "# Create Sample Dataframe/Table for Monitoring Setup "
   ]
  },
  {
   "cell_type": "code",
   "execution_count": null,
   "id": "9f0a9fc3",
   "metadata": {},
   "outputs": [],
   "source": [
    "x_train.shape, y_train.shape, y_pred_stk.shape, y_prob_stk.shape"
   ]
  },
  {
   "cell_type": "code",
   "execution_count": null,
   "id": "8d67b509",
   "metadata": {
    "scrolled": true
   },
   "outputs": [],
   "source": [
    "x_test.shape ,  ytest_pred_stk.shape, ytest_prob_stk.shape"
   ]
  },
  {
   "cell_type": "code",
   "execution_count": null,
   "id": "c59e5800",
   "metadata": {
    "scrolled": true
   },
   "outputs": [],
   "source": [
    "type(x_train), type(y_train), type(y_pred_stk), type(y_prob_stk)"
   ]
  },
  {
   "cell_type": "code",
   "execution_count": null,
   "id": "ec4c3e27",
   "metadata": {},
   "outputs": [],
   "source": [
    "df_pred_stk = pd.DataFrame(y_pred_stk, columns=['Prediction'])"
   ]
  },
  {
   "cell_type": "code",
   "execution_count": null,
   "id": "ab859c3e",
   "metadata": {},
   "outputs": [],
   "source": [
    "df_prob_stk = pd.DataFrame(y_prob_stk, columns=['Probability'])"
   ]
  },
  {
   "cell_type": "code",
   "execution_count": null,
   "id": "599c9b14",
   "metadata": {},
   "outputs": [],
   "source": [
    "df_train = pd.DataFrame(y_train, columns=['TARGET'])"
   ]
  },
  {
   "cell_type": "code",
   "execution_count": null,
   "id": "37566685",
   "metadata": {},
   "outputs": [],
   "source": [
    "temp_df = pd.concat([x_train, df_train, df_pred_stk, df_prob_stk], axis=1)"
   ]
  },
  {
   "cell_type": "code",
   "execution_count": null,
   "id": "3918ed4a",
   "metadata": {},
   "outputs": [],
   "source": [
    "temp_df.to_csv('/data/Output/application_train_output.csv')"
   ]
  },
  {
   "cell_type": "code",
   "execution_count": null,
   "id": "c8b25721",
   "metadata": {},
   "outputs": [],
   "source": [
    "temp_df = pd.read_csv('/data/Output/application_train_output.csv')"
   ]
  },
  {
   "cell_type": "code",
   "execution_count": null,
   "id": "c26f53f5",
   "metadata": {},
   "outputs": [],
   "source": [
    "temp_df_1 = temp_df.sample(frac = 0.7)\n",
    "temp_df_2 = temp_df.drop(temp_df_1.index)"
   ]
  },
  {
   "cell_type": "code",
   "execution_count": null,
   "id": "9d8ac34c",
   "metadata": {
    "scrolled": true
   },
   "outputs": [],
   "source": [
    "print (temp_df.shape)\n",
    "print (temp_df_1.shape)\n",
    "print (temp_df_2.shape)"
   ]
  },
  {
   "cell_type": "code",
   "execution_count": null,
   "id": "f78dcb2d",
   "metadata": {},
   "outputs": [],
   "source": [
    "type(temp_df_1)"
   ]
  },
  {
   "cell_type": "code",
   "execution_count": null,
   "id": "f3af0e72",
   "metadata": {},
   "outputs": [],
   "source": [
    "<Suppose to fail here>"
   ]
  },
  {
   "cell_type": "code",
   "execution_count": null,
   "id": "ab2a0221",
   "metadata": {},
   "outputs": [],
   "source": [
    "df_model=session.createDataFrame(\n",
    "        temp_df_1.values.tolist(),\n",
    "        schema=temp_df_1.columns.tolist())\n",
    "df_model.write.mode(\"overwrite\").save_as_table(\"FDC_Banking_FS.PUBLIC.CRA_APPLICATION_OUTPUT_BATCH1\")"
   ]
  },
  {
   "cell_type": "code",
   "execution_count": null,
   "id": "ec564a48",
   "metadata": {},
   "outputs": [],
   "source": [
    "df_model=session.createDataFrame(\n",
    "        temp_df_2.values.tolist(),\n",
    "        schema=temp_df_2.columns.tolist())\n",
    "df_model.write.mode(\"overwrite\").save_as_table(\"FDC_Banking_FS.PUBLIC.CRA_APPLICATION_OUTPUT_BATCH2\")"
   ]
  }
 ],
 "metadata": {
  "kernelspec": {
   "display_name": "Python 3 (ipykernel)",
   "language": "python",
   "name": "python3"
  },
  "language_info": {
   "codemirror_mode": {
    "name": "ipython",
    "version": 3
   },
   "file_extension": ".py",
   "mimetype": "text/x-python",
   "name": "python",
   "nbconvert_exporter": "python",
   "pygments_lexer": "ipython3",
   "version": "3.9.19"
  }
 },
 "nbformat": 4,
 "nbformat_minor": 5
}
