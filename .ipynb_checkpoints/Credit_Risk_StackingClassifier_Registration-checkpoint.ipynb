{
 "cells": [
  {
   "cell_type": "markdown",
   "id": "c2a362d7",
   "metadata": {},
   "source": [
    "# Use Credit Risk Analytics Notebook Template"
   ]
  },
  {
   "cell_type": "code",
   "execution_count": 1,
   "id": "32837b36",
   "metadata": {},
   "outputs": [
    {
     "name": "stdout",
     "output_type": "stream",
     "text": [
      "Connection manager service url initialised to http://fdc-project-manager:80/project-manager\n",
      "If you need to update its value then update the variable CONNECTION_MANAGER_BASE_URL in os env.\n"
     ]
    },
    {
     "name": "stderr",
     "output_type": "stream",
     "text": [
      "/tmp/pip_packages/_distutils_hack/__init__.py:26: UserWarning: Setuptools is replacing distutils.\n",
      "  warnings.warn(\"Setuptools is replacing distutils.\")\n"
     ]
    }
   ],
   "source": [
    "from snowflake.snowpark import Session\n",
    "from snowflake.connector.pandas_tools import write_pandas\n",
    "# Data Science Libs\n",
    "import pandas as pd\n",
    "import numpy as np\n",
    "from scipy.stats import skew\n",
    "import xgboost as xgb\n",
    "from sklearn.model_selection import KFold\n",
    "from sklearn.ensemble import ExtraTreesClassifier\n",
    "from sklearn.ensemble import RandomForestClassifier\n",
    "from sklearn.metrics import mean_squared_error, recall_score, precision_score, f1_score, roc_auc_score, confusion_matrix\n",
    "from sklearn.linear_model import LogisticRegression\n",
    "from math import sqrt\n",
    "from sklearn.metrics import roc_auc_score\n",
    "from sklearn.model_selection import KFold\n",
    "from catboost import CatBoostClassifier\n",
    "import gc\n",
    "\n",
    "import configparser\n",
    "\n",
    "# FosforIO to read data from Snowflake\n",
    "from fosforio import snowflake\n",
    "# FosforML to register Model on FDC\n",
    "from joblib import dump, load\n",
    "from fosforml import *\n",
    "from fosforml.constants import MLModelFlavours\n",
    "import requests"
   ]
  },
  {
   "cell_type": "code",
   "execution_count": 2,
   "id": "b8078d4c",
   "metadata": {},
   "outputs": [],
   "source": [
    "NFOLDS = 3\n",
    "SEED = 0\n",
    "NROWS = None"
   ]
  },
  {
   "cell_type": "code",
   "execution_count": 3,
   "id": "3b65555c",
   "metadata": {},
   "outputs": [
    {
     "name": "stdout",
     "output_type": "stream",
     "text": [
      "Connection object created: <snowflake.connector.connection.SnowflakeConnection object at 0x7f0a80474f10>\n",
      "Please close the connection after use!\n"
     ]
    },
    {
     "data": {
      "text/plain": [
       "<snowflake.connector.connection.SnowflakeConnection at 0x7f0a80474f10>"
      ]
     },
     "execution_count": 3,
     "metadata": {},
     "output_type": "execute_result"
    }
   ],
   "source": [
    "# To get snowflake connection object with a default snowflake connection created by the user, if available.\n",
    "#snowflake.get_connection()\n",
    "\n",
    "# To get snowflake connection object with a specific connection name\n",
    "snowflake.get_connection(connection_name=\"FDC_Banking_FS_Snowflake\")"
   ]
  },
  {
   "cell_type": "code",
   "execution_count": 4,
   "id": "8ebc2b66",
   "metadata": {},
   "outputs": [],
   "source": [
    "application_train_sf  = snowflake.get_dataframe(\"CRA_APPLICATION_TRAIN_DETAILS\")\n",
    "application_test_sf  = snowflake.get_dataframe(\"CRA_APPLICATION_TEST_DETAILS\")\n",
    "previous_application_sf  = snowflake.get_dataframe(\"CRA_PREVIOUS_APPLICATION_DETAILS\")"
   ]
  },
  {
   "cell_type": "markdown",
   "id": "bd0b4b30",
   "metadata": {},
   "source": [
    "# Convert Snowflake data into Pandas dataframes"
   ]
  },
  {
   "cell_type": "code",
   "execution_count": 5,
   "id": "8b65c096",
   "metadata": {},
   "outputs": [],
   "source": [
    "data = application_train_sf.copy()\n",
    "test = application_test_sf.copy()\n",
    "prev = previous_application_sf.copy()"
   ]
  },
  {
   "cell_type": "code",
   "execution_count": 6,
   "id": "07ded794",
   "metadata": {},
   "outputs": [],
   "source": [
    "data.drop(['CREATED_BY','CREATED_AT'], axis=1, inplace=True)\n",
    "test.drop(['CREATED_BY','CREATED_AT'], axis=1, inplace=True)\n",
    "prev.drop(['CREATED_BY','CREATED_AT'], axis=1, inplace=True)"
   ]
  },
  {
   "cell_type": "code",
   "execution_count": 7,
   "id": "8f1a2832",
   "metadata": {
    "scrolled": true
   },
   "outputs": [],
   "source": [
    "categorical_feats = [\n",
    "    f for f in data.columns if data[f].dtype == 'object'\n",
    "]"
   ]
  },
  {
   "cell_type": "code",
   "execution_count": 8,
   "id": "a9f1651c",
   "metadata": {},
   "outputs": [],
   "source": [
    "for f_ in categorical_feats:\n",
    "    data[f_], indexer = pd.factorize(data[f_])\n",
    "    test[f_] = indexer.get_indexer(test[f_])"
   ]
  },
  {
   "cell_type": "code",
   "execution_count": 9,
   "id": "d7d8cf18",
   "metadata": {},
   "outputs": [],
   "source": [
    "gc.enable()\n",
    "\n",
    "y_train = data['TARGET']\n",
    "del data['TARGET']"
   ]
  },
  {
   "cell_type": "code",
   "execution_count": 10,
   "id": "a77babae",
   "metadata": {},
   "outputs": [],
   "source": [
    "prev_cat_features = [\n",
    "    f_ for f_ in prev.columns if prev[f_].dtype == 'object'\n",
    "]\n",
    "for f_ in prev_cat_features:\n",
    "    prev[f_], _ = pd.factorize(prev[f_])"
   ]
  },
  {
   "cell_type": "code",
   "execution_count": 11,
   "id": "8f752203",
   "metadata": {},
   "outputs": [],
   "source": [
    "avg_prev = prev.groupby('SK_ID_CURR').mean()\n",
    "cnt_prev = prev[['SK_ID_CURR', 'SK_ID_PREV']].groupby('SK_ID_CURR').count()\n",
    "avg_prev['nb_app'] = cnt_prev['SK_ID_PREV']\n",
    "del avg_prev['SK_ID_PREV']"
   ]
  },
  {
   "cell_type": "code",
   "execution_count": 12,
   "id": "87527ee2",
   "metadata": {},
   "outputs": [],
   "source": [
    "x_train = data.merge(right=avg_prev.reset_index(), how='left', on='SK_ID_CURR')\n",
    "x_test = test.merge(right=avg_prev.reset_index(), how='left', on='SK_ID_CURR')\n",
    "\n",
    "x_train = x_train.fillna(0)\n",
    "x_test= x_test.fillna(0)\n",
    "\n",
    "ntrain = x_train.shape[0]\n",
    "ntest = x_test.shape[0]"
   ]
  },
  {
   "cell_type": "code",
   "execution_count": 13,
   "id": "93e01200",
   "metadata": {},
   "outputs": [],
   "source": [
    "excluded_feats = ['SK_ID_CURR']\n",
    "features = [f_ for f_ in x_train.columns if f_ not in excluded_feats]"
   ]
  },
  {
   "cell_type": "code",
   "execution_count": 14,
   "id": "3d847db3",
   "metadata": {},
   "outputs": [],
   "source": [
    "x_train = x_train[features]\n",
    "x_test = x_test[features]\n",
    "\n",
    "kf = KFold(n_splits = NFOLDS, shuffle=True, random_state=SEED)"
   ]
  },
  {
   "cell_type": "code",
   "execution_count": 15,
   "id": "9ab19ee5",
   "metadata": {},
   "outputs": [],
   "source": [
    "class SklearnWrapper(object):\n",
    "    def __init__(self, clf, seed=0, params=None):\n",
    "        params['random_state'] = seed\n",
    "        self.clf = clf(**params)\n",
    "\n",
    "    def train(self, x_train, y_train):\n",
    "        self.clf.fit(x_train, y_train)\n",
    "\n",
    "    def predict(self, x):\n",
    "        return self.clf.predict(x)\n",
    "\n",
    "    def predict_proba(self, x):\n",
    "        return self.clf.predict_proba(x)[:,1]"
   ]
  },
  {
   "cell_type": "code",
   "execution_count": 16,
   "id": "3a44758c",
   "metadata": {},
   "outputs": [],
   "source": [
    "class CatboostWrapper(object):\n",
    "    def __init__(self, clf, seed=0, params=None):\n",
    "        params['random_seed'] = seed\n",
    "        self.clf = clf(**params)\n",
    "\n",
    "    def train(self, x_train, y_train):\n",
    "        self.clf.fit(x_train, y_train)\n",
    "\n",
    "    def predict(self, x):\n",
    "        return self.clf.predict(x)\n",
    "    \n",
    "    def predict_proba(self, x):\n",
    "        return self.clf.predict_proba(x)[:,1]"
   ]
  },
  {
   "cell_type": "code",
   "execution_count": 17,
   "id": "6a3a5d8b",
   "metadata": {},
   "outputs": [],
   "source": [
    "class XgbWrapper(object):\n",
    "    def __init__(self, seed=0, params=None):\n",
    "        self.param = params\n",
    "        self.param['seed'] = seed\n",
    "        self.nrounds = params.pop('nrounds', 250)\n",
    "\n",
    "    def train(self, x_train, y_train):\n",
    "        dtrain = xgb.DMatrix(x_train, label=y_train)\n",
    "        self.gbdt = xgb.train(self.param, dtrain, self.nrounds)\n",
    "\n",
    "    def predict(self, x):\n",
    "        return self.gbdt.predict(xgb.DMatrix(x))\n",
    "    \n",
    "    def predict_proba(self, x):\n",
    "        return self.gbdt.predict_proba(xgb.DMatrix(x))[:,1]"
   ]
  },
  {
   "cell_type": "code",
   "execution_count": 18,
   "id": "604c71ce",
   "metadata": {},
   "outputs": [],
   "source": [
    "def get_oof(clf):\n",
    "    oof_train = np.zeros((ntrain,))\n",
    "    oof_test = np.zeros((ntest,))\n",
    "    oof_test_skf = np.empty((NFOLDS, ntest))\n",
    "\n",
    "    for i, (train_index, test_index) in enumerate(kf.split(x_train)):\n",
    "        x_tr = x_train.loc[train_index]\n",
    "        y_tr = y_train.loc[train_index]\n",
    "        x_te = x_train.loc[test_index]\n",
    "\n",
    "        clf.train(x_tr, y_tr)\n",
    "\n",
    "        oof_train[test_index] = clf.predict(x_te)\n",
    "        oof_test_skf[i, :] = clf.predict(x_test)\n",
    "\n",
    "    oof_test[:] = oof_test_skf.mean(axis=0)\n",
    "    return oof_train.reshape(-1, 1), oof_test.reshape(-1, 1)"
   ]
  },
  {
   "cell_type": "code",
   "execution_count": 19,
   "id": "ff5f6e63",
   "metadata": {},
   "outputs": [],
   "source": [
    "et_params = {\n",
    "    'n_jobs': 16,\n",
    "    'n_estimators': 200,\n",
    "    'max_features': 0.5,\n",
    "    'max_depth': 12,\n",
    "    'min_samples_leaf': 2,\n",
    "    'random_state':0\n",
    "}"
   ]
  },
  {
   "cell_type": "code",
   "execution_count": 20,
   "id": "9ee53240",
   "metadata": {},
   "outputs": [],
   "source": [
    "rf_params = {\n",
    "    'n_jobs': 16,\n",
    "    'n_estimators': 200,\n",
    "    'max_features': 0.2,\n",
    "    'max_depth': 12,\n",
    "    'min_samples_leaf': 2,\n",
    "    'random_state':0\n",
    "}"
   ]
  },
  {
   "cell_type": "code",
   "execution_count": 21,
   "id": "78415a71",
   "metadata": {},
   "outputs": [],
   "source": [
    "xgb_params = {\n",
    "    'seed': 0,\n",
    "    'colsample_bytree': 0.7,\n",
    "    'silent': 1,\n",
    "    'subsample': 0.7,\n",
    "    'learning_rate': 0.075,\n",
    "    'objective': 'binary:logistic',\n",
    "    'max_depth': 4,\n",
    "    'num_parallel_tree': 1,\n",
    "    'min_child_weight': 1,\n",
    "    'nrounds': 200\n",
    "}"
   ]
  },
  {
   "cell_type": "code",
   "execution_count": 22,
   "id": "14272538",
   "metadata": {},
   "outputs": [],
   "source": [
    "catboost_params = {\n",
    "    'iterations': 200,\n",
    "    'learning_rate': 0.5,\n",
    "    'depth': 3,\n",
    "    'l2_leaf_reg': 40,\n",
    "    'bootstrap_type': 'Bernoulli',\n",
    "    'subsample': 0.7,\n",
    "    'scale_pos_weight': 5,\n",
    "    'eval_metric': 'AUC',\n",
    "    'od_type': 'Iter',\n",
    "    'allow_writing_files': False,\n",
    "    'random_seed':0\n",
    "}"
   ]
  },
  {
   "cell_type": "code",
   "execution_count": 23,
   "id": "cb755482",
   "metadata": {},
   "outputs": [],
   "source": [
    "#xg = XgbWrapper(seed=SEED, params=xgb_params)\n",
    "#et = SklearnWrapper(clf=ExtraTreesClassifier, seed=SEED, params=et_params)\n",
    "#rf = SklearnWrapper(clf=RandomForestClassifier, seed=SEED, params=rf_params)\n",
    "#cb = CatboostWrapper(clf= CatBoostClassifier, seed = SEED, params=catboost_params)"
   ]
  },
  {
   "cell_type": "markdown",
   "id": "35afc22b",
   "metadata": {},
   "source": [
    "# XGBoost Classifier"
   ]
  },
  {
   "cell_type": "code",
   "execution_count": 61,
   "id": "093fa990",
   "metadata": {},
   "outputs": [],
   "source": [
    "#xg_oof_train, xg_oof_test = get_oof(xg)"
   ]
  },
  {
   "cell_type": "code",
   "execution_count": 24,
   "id": "88eaec74",
   "metadata": {},
   "outputs": [
    {
     "name": "stdout",
     "output_type": "stream",
     "text": [
      "[10:11:47] WARNING: ../src/learner.cc:767: \n",
      "Parameters: { \"nrounds\", \"silent\" } are not used.\n",
      "\n"
     ]
    }
   ],
   "source": [
    "param = xgb_params\n",
    "param['seed'] = 0\n",
    "nrounds = 250\n",
    "\n",
    "dtrain = xgb.DMatrix(x_train, label=y_train)\n",
    "gbdt = xgb.train(param, dtrain, nrounds)"
   ]
  },
  {
   "cell_type": "code",
   "execution_count": null,
   "id": "13e63135",
   "metadata": {},
   "outputs": [],
   "source": [
    "#y_prob = gbdt.predict(xgb.DMatrix(x))\n",
    "#y_pred = np.round(y_prob)"
   ]
  },
  {
   "cell_type": "code",
   "execution_count": 25,
   "id": "c7c85f0f",
   "metadata": {},
   "outputs": [],
   "source": [
    "y_prob = gbdt.predict(xgb.DMatrix(x_train))"
   ]
  },
  {
   "cell_type": "code",
   "execution_count": 26,
   "id": "9007befd",
   "metadata": {},
   "outputs": [],
   "source": [
    "y_pred = np.round(y_prob)"
   ]
  },
  {
   "cell_type": "code",
   "execution_count": 27,
   "id": "f68b7eb8",
   "metadata": {},
   "outputs": [
    {
     "data": {
      "text/plain": [
       "array([0.10488835, 0.18760933, 0.03474117, ..., 0.01431217, 0.0234681 ,\n",
       "       0.17675298], dtype=float32)"
      ]
     },
     "execution_count": 27,
     "metadata": {},
     "output_type": "execute_result"
    }
   ],
   "source": [
    "y_prob"
   ]
  },
  {
   "cell_type": "code",
   "execution_count": 28,
   "id": "8c44ca77",
   "metadata": {},
   "outputs": [
    {
     "data": {
      "text/plain": [
       "array([0., 0., 0., ..., 0., 0., 0.], dtype=float32)"
      ]
     },
     "execution_count": 28,
     "metadata": {},
     "output_type": "execute_result"
    }
   ],
   "source": [
    "y_pred"
   ]
  },
  {
   "cell_type": "code",
   "execution_count": 29,
   "id": "c152d938",
   "metadata": {},
   "outputs": [],
   "source": [
    "@scoring_func\n",
    "def score(model, request):\n",
    "    payload_dict = request.json[\"payload\"]\n",
    "    data = pd.DataFrame(payload_dict,index=[0])\n",
    "    y_pred = model.predict(xgb.DMatrix(data))\n",
    "    #y_prob = model.predict_proba(xgb.DMatrix(data))[:,1]\n",
    "    temp_dict = {\"Prediction: \": np.round(y_pred), \"Probability: \": y_pred }\n",
    "    return temp_dict"
   ]
  },
  {
   "cell_type": "code",
   "execution_count": 30,
   "id": "58ec086d",
   "metadata": {},
   "outputs": [
    {
     "data": {
      "text/plain": [
       "{'NAME_CONTRACT_TYPE_x': 0.0,\n",
       " 'CODE_GENDER': 0.0,\n",
       " 'FLAG_OWN_CAR': 0.0,\n",
       " 'FLAG_OWN_REALTY': 0.0,\n",
       " 'CNT_CHILDREN': 2.0,\n",
       " 'AMT_INCOME_TOTAL': 450000.0,\n",
       " 'AMT_CREDIT_x': 450000.0,\n",
       " 'AMT_ANNUITY_x': 20979.0,\n",
       " 'AMT_GOODS_PRICE_x': 450000.0,\n",
       " 'NAME_TYPE_SUITE_x': 0.0,\n",
       " 'NAME_INCOME_TYPE': 0.0,\n",
       " 'NAME_EDUCATION_TYPE': 0.0,\n",
       " 'NAME_FAMILY_STATUS': 0.0,\n",
       " 'NAME_HOUSING_TYPE': 0.0,\n",
       " 'REGION_POPULATION_RELATIVE': 0.00733,\n",
       " 'DAYS_BIRTH': -10860.0,\n",
       " 'DAYS_EMPLOYED': -215.0,\n",
       " 'DAYS_REGISTRATION': -4606.0,\n",
       " 'DAYS_ID_PUBLISH': -3485.0,\n",
       " 'OWN_CAR_AGE': 6.0,\n",
       " 'FLAG_MOBIL': 1.0,\n",
       " 'FLAG_EMP_PHONE': 1.0,\n",
       " 'FLAG_WORK_PHONE': 0.0,\n",
       " 'FLAG_CONT_MOBILE': 1.0,\n",
       " 'FLAG_PHONE': 0.0,\n",
       " 'FLAG_EMAIL': 0.0,\n",
       " 'OCCUPATION_TYPE': 0.0,\n",
       " 'CNT_FAM_MEMBERS': 4.0,\n",
       " 'REGION_RATING_CLIENT': 2.0,\n",
       " 'REGION_RATING_CLIENT_W_CITY': 2.0,\n",
       " 'WEEKDAY_APPR_PROCESS_START_x': 0.0,\n",
       " 'HOUR_APPR_PROCESS_START_x': 10.0,\n",
       " 'REG_REGION_NOT_LIVE_REGION': 1.0,\n",
       " 'REG_REGION_NOT_WORK_REGION': 1.0,\n",
       " 'LIVE_REGION_NOT_WORK_REGION': 0.0,\n",
       " 'REG_CITY_NOT_LIVE_CITY': 1.0,\n",
       " 'REG_CITY_NOT_WORK_CITY': 1.0,\n",
       " 'LIVE_CITY_NOT_WORK_CITY': 1.0,\n",
       " 'ORGANIZATION_TYPE': 0.0,\n",
       " 'EXT_SOURCE_1': 0.0,\n",
       " 'EXT_SOURCE_2': 0.0,\n",
       " 'EXT_SOURCE_3': 0.4956658291397297,\n",
       " 'APARTMENTS_AVG': 0.0,\n",
       " 'BASEMENTAREA_AVG': 0.0,\n",
       " 'YEARS_BEGINEXPLUATATION_AVG': 0.0,\n",
       " 'YEARS_BUILD_AVG': 0.0,\n",
       " 'COMMONAREA_AVG': 0.0,\n",
       " 'ELEVATORS_AVG': 0.0,\n",
       " 'ENTRANCES_AVG': 0.0,\n",
       " 'FLOORSMAX_AVG': 0.0,\n",
       " 'FLOORSMIN_AVG': 0.0,\n",
       " 'LANDAREA_AVG': 0.0,\n",
       " 'LIVINGAPARTMENTS_AVG': 0.0,\n",
       " 'LIVINGAREA_AVG': 0.0,\n",
       " 'NONLIVINGAPARTMENTS_AVG': 0.0,\n",
       " 'NONLIVINGAREA_AVG': 0.0,\n",
       " 'APARTMENTS_MODE': 0.0,\n",
       " 'BASEMENTAREA_MODE': 0.0,\n",
       " 'YEARS_BEGINEXPLUATATION_MODE': 0.0,\n",
       " 'YEARS_BUILD_MODE': 0.0,\n",
       " 'COMMONAREA_MODE': 0.0,\n",
       " 'ELEVATORS_MODE': 0.0,\n",
       " 'ENTRANCES_MODE': 0.0,\n",
       " 'FLOORSMAX_MODE': 0.0,\n",
       " 'FLOORSMIN_MODE': 0.0,\n",
       " 'LANDAREA_MODE': 0.0,\n",
       " 'LIVINGAPARTMENTS_MODE': 0.0,\n",
       " 'LIVINGAREA_MODE': 0.0,\n",
       " 'NONLIVINGAPARTMENTS_MODE': 0.0,\n",
       " 'NONLIVINGAREA_MODE': 0.0,\n",
       " 'APARTMENTS_MEDI': 0.0,\n",
       " 'BASEMENTAREA_MEDI': 0.0,\n",
       " 'YEARS_BEGINEXPLUATATION_MEDI': 0.0,\n",
       " 'YEARS_BUILD_MEDI': 0.0,\n",
       " 'COMMONAREA_MEDI': 0.0,\n",
       " 'ELEVATORS_MEDI': 0.0,\n",
       " 'ENTRANCES_MEDI': 0.0,\n",
       " 'FLOORSMAX_MEDI': 0.0,\n",
       " 'FLOORSMIN_MEDI': 0.0,\n",
       " 'LANDAREA_MEDI': 0.0,\n",
       " 'LIVINGAPARTMENTS_MEDI': 0.0,\n",
       " 'LIVINGAREA_MEDI': 0.0,\n",
       " 'NONLIVINGAPARTMENTS_MEDI': 0.0,\n",
       " 'NONLIVINGAREA_MEDI': 0.0,\n",
       " 'FONDKAPREMONT_MODE': 0.0,\n",
       " 'HOUSETYPE_MODE': 0.0,\n",
       " 'TOTALAREA_MODE': 0.0,\n",
       " 'WALLSMATERIAL_MODE': 0.0,\n",
       " 'EMERGENCYSTATE_MODE': 0.0,\n",
       " 'OBS_30_CNT_SOCIAL_CIRCLE': 0.0,\n",
       " 'DEF_30_CNT_SOCIAL_CIRCLE': 0.0,\n",
       " 'OBS_60_CNT_SOCIAL_CIRCLE': 0.0,\n",
       " 'DEF_60_CNT_SOCIAL_CIRCLE': 0.0,\n",
       " 'DAYS_LAST_PHONE_CHANGE': -1929.0,\n",
       " 'FLAG_DOCUMENT_2': 0.0,\n",
       " 'FLAG_DOCUMENT_3': 0.0,\n",
       " 'FLAG_DOCUMENT_4': 0.0,\n",
       " 'FLAG_DOCUMENT_5': 1.0,\n",
       " 'FLAG_DOCUMENT_6': 0.0,\n",
       " 'FLAG_DOCUMENT_7': 0.0,\n",
       " 'FLAG_DOCUMENT_8': 0.0,\n",
       " 'FLAG_DOCUMENT_9': 0.0,\n",
       " 'FLAG_DOCUMENT_10': 0.0,\n",
       " 'FLAG_DOCUMENT_11': 0.0,\n",
       " 'FLAG_DOCUMENT_12': 0.0,\n",
       " 'FLAG_DOCUMENT_13': 0.0,\n",
       " 'FLAG_DOCUMENT_14': 0.0,\n",
       " 'FLAG_DOCUMENT_15': 0.0,\n",
       " 'FLAG_DOCUMENT_16': 0.0,\n",
       " 'FLAG_DOCUMENT_17': 0.0,\n",
       " 'FLAG_DOCUMENT_18': 0.0,\n",
       " 'FLAG_DOCUMENT_19': 0.0,\n",
       " 'FLAG_DOCUMENT_20': 0.0,\n",
       " 'FLAG_DOCUMENT_21': 0.0,\n",
       " 'AMT_REQ_CREDIT_BUREAU_HOUR': 0.0,\n",
       " 'AMT_REQ_CREDIT_BUREAU_DAY': 0.0,\n",
       " 'AMT_REQ_CREDIT_BUREAU_WEEK': 0.0,\n",
       " 'AMT_REQ_CREDIT_BUREAU_MON': 0.0,\n",
       " 'AMT_REQ_CREDIT_BUREAU_QRT': 0.0,\n",
       " 'AMT_REQ_CREDIT_BUREAU_YEAR': 1.0,\n",
       " 'NAME_CONTRACT_TYPE_y': 0.5,\n",
       " 'AMT_ANNUITY_y': 15801.22125,\n",
       " 'AMT_APPLICATION': 120978.0,\n",
       " 'AMT_CREDIT_y': 124837.875,\n",
       " 'AMT_DOWN_PAYMENT': 11587.5,\n",
       " 'AMT_GOODS_PRICE_y': 120978.0,\n",
       " 'WEEKDAY_APPR_PROCESS_START_y': 2.75,\n",
       " 'HOUR_APPR_PROCESS_START_y': 12.25,\n",
       " 'FLAG_LAST_APPL_PER_CONTRACT': 0.0,\n",
       " 'NFLAG_LAST_APPL_IN_DAY': 1.0,\n",
       " 'RATE_DOWN_PAYMENT': 0.1316497451749993,\n",
       " 'RATE_INTEREST_PRIMARY': 0.0,\n",
       " 'RATE_INTEREST_PRIVILEGED': 0.0,\n",
       " 'NAME_CASH_LOAN_PURPOSE': 0.5,\n",
       " 'NAME_CONTRACT_STATUS': 0.5,\n",
       " 'DAYS_DECISION': -1138.0,\n",
       " 'NAME_PAYMENT_TYPE': 0.0,\n",
       " 'CODE_REJECT_REASON': 2.0,\n",
       " 'NAME_TYPE_SUITE_y': 3.25,\n",
       " 'NAME_CLIENT_TYPE': 1.25,\n",
       " 'NAME_GOODS_CATEGORY': 5.5,\n",
       " 'NAME_PORTFOLIO': 1.0,\n",
       " 'NAME_PRODUCT_TYPE': 1.0,\n",
       " 'CHANNEL_TYPE': 0.0,\n",
       " 'SELLERPLACE_AREA': 132.25,\n",
       " 'NAME_SELLER_INDUSTRY': 0.5,\n",
       " 'CNT_PAYMENT': 10.5,\n",
       " 'NAME_YIELD_GROUP': 0.75,\n",
       " 'PRODUCT_COMBINATION': 8.25,\n",
       " 'DAYS_FIRST_DRAWING': 365243.0,\n",
       " 'DAYS_FIRST_DUE': -1472.0,\n",
       " 'DAYS_LAST_DUE_1ST_VERSION': -1142.0,\n",
       " 'DAYS_LAST_DUE': -1142.0,\n",
       " 'DAYS_TERMINATION': -1128.0,\n",
       " 'NFLAG_INSURED_ON_APPROVAL': 0.0,\n",
       " 'nb_app': 4.0}"
      ]
     },
     "execution_count": 30,
     "metadata": {},
     "output_type": "execute_result"
    }
   ],
   "source": [
    "payload  = x_train.iloc[0].to_dict()\n",
    "payload"
   ]
  },
  {
   "cell_type": "code",
   "execution_count": 31,
   "id": "fa9c9e97",
   "metadata": {},
   "outputs": [
    {
     "name": "stdout",
     "output_type": "stream",
     "text": [
      "{ \"payload\":  {'NAME_CONTRACT_TYPE_x': 0.0, 'CODE_GENDER': 0.0, 'FLAG_OWN_CAR': 0.0, 'FLAG_OWN_REALTY': 0.0, 'CNT_CHILDREN': 2.0, 'AMT_INCOME_TOTAL': 450000.0, 'AMT_CREDIT_x': 450000.0, 'AMT_ANNUITY_x': 20979.0, 'AMT_GOODS_PRICE_x': 450000.0, 'NAME_TYPE_SUITE_x': 0.0, 'NAME_INCOME_TYPE': 0.0, 'NAME_EDUCATION_TYPE': 0.0, 'NAME_FAMILY_STATUS': 0.0, 'NAME_HOUSING_TYPE': 0.0, 'REGION_POPULATION_RELATIVE': 0.00733, 'DAYS_BIRTH': -10860.0, 'DAYS_EMPLOYED': -215.0, 'DAYS_REGISTRATION': -4606.0, 'DAYS_ID_PUBLISH': -3485.0, 'OWN_CAR_AGE': 6.0, 'FLAG_MOBIL': 1.0, 'FLAG_EMP_PHONE': 1.0, 'FLAG_WORK_PHONE': 0.0, 'FLAG_CONT_MOBILE': 1.0, 'FLAG_PHONE': 0.0, 'FLAG_EMAIL': 0.0, 'OCCUPATION_TYPE': 0.0, 'CNT_FAM_MEMBERS': 4.0, 'REGION_RATING_CLIENT': 2.0, 'REGION_RATING_CLIENT_W_CITY': 2.0, 'WEEKDAY_APPR_PROCESS_START_x': 0.0, 'HOUR_APPR_PROCESS_START_x': 10.0, 'REG_REGION_NOT_LIVE_REGION': 1.0, 'REG_REGION_NOT_WORK_REGION': 1.0, 'LIVE_REGION_NOT_WORK_REGION': 0.0, 'REG_CITY_NOT_LIVE_CITY': 1.0, 'REG_CITY_NOT_WORK_CITY': 1.0, 'LIVE_CITY_NOT_WORK_CITY': 1.0, 'ORGANIZATION_TYPE': 0.0, 'EXT_SOURCE_1': 0.0, 'EXT_SOURCE_2': 0.0, 'EXT_SOURCE_3': 0.4956658291397297, 'APARTMENTS_AVG': 0.0, 'BASEMENTAREA_AVG': 0.0, 'YEARS_BEGINEXPLUATATION_AVG': 0.0, 'YEARS_BUILD_AVG': 0.0, 'COMMONAREA_AVG': 0.0, 'ELEVATORS_AVG': 0.0, 'ENTRANCES_AVG': 0.0, 'FLOORSMAX_AVG': 0.0, 'FLOORSMIN_AVG': 0.0, 'LANDAREA_AVG': 0.0, 'LIVINGAPARTMENTS_AVG': 0.0, 'LIVINGAREA_AVG': 0.0, 'NONLIVINGAPARTMENTS_AVG': 0.0, 'NONLIVINGAREA_AVG': 0.0, 'APARTMENTS_MODE': 0.0, 'BASEMENTAREA_MODE': 0.0, 'YEARS_BEGINEXPLUATATION_MODE': 0.0, 'YEARS_BUILD_MODE': 0.0, 'COMMONAREA_MODE': 0.0, 'ELEVATORS_MODE': 0.0, 'ENTRANCES_MODE': 0.0, 'FLOORSMAX_MODE': 0.0, 'FLOORSMIN_MODE': 0.0, 'LANDAREA_MODE': 0.0, 'LIVINGAPARTMENTS_MODE': 0.0, 'LIVINGAREA_MODE': 0.0, 'NONLIVINGAPARTMENTS_MODE': 0.0, 'NONLIVINGAREA_MODE': 0.0, 'APARTMENTS_MEDI': 0.0, 'BASEMENTAREA_MEDI': 0.0, 'YEARS_BEGINEXPLUATATION_MEDI': 0.0, 'YEARS_BUILD_MEDI': 0.0, 'COMMONAREA_MEDI': 0.0, 'ELEVATORS_MEDI': 0.0, 'ENTRANCES_MEDI': 0.0, 'FLOORSMAX_MEDI': 0.0, 'FLOORSMIN_MEDI': 0.0, 'LANDAREA_MEDI': 0.0, 'LIVINGAPARTMENTS_MEDI': 0.0, 'LIVINGAREA_MEDI': 0.0, 'NONLIVINGAPARTMENTS_MEDI': 0.0, 'NONLIVINGAREA_MEDI': 0.0, 'FONDKAPREMONT_MODE': 0.0, 'HOUSETYPE_MODE': 0.0, 'TOTALAREA_MODE': 0.0, 'WALLSMATERIAL_MODE': 0.0, 'EMERGENCYSTATE_MODE': 0.0, 'OBS_30_CNT_SOCIAL_CIRCLE': 0.0, 'DEF_30_CNT_SOCIAL_CIRCLE': 0.0, 'OBS_60_CNT_SOCIAL_CIRCLE': 0.0, 'DEF_60_CNT_SOCIAL_CIRCLE': 0.0, 'DAYS_LAST_PHONE_CHANGE': -1929.0, 'FLAG_DOCUMENT_2': 0.0, 'FLAG_DOCUMENT_3': 0.0, 'FLAG_DOCUMENT_4': 0.0, 'FLAG_DOCUMENT_5': 1.0, 'FLAG_DOCUMENT_6': 0.0, 'FLAG_DOCUMENT_7': 0.0, 'FLAG_DOCUMENT_8': 0.0, 'FLAG_DOCUMENT_9': 0.0, 'FLAG_DOCUMENT_10': 0.0, 'FLAG_DOCUMENT_11': 0.0, 'FLAG_DOCUMENT_12': 0.0, 'FLAG_DOCUMENT_13': 0.0, 'FLAG_DOCUMENT_14': 0.0, 'FLAG_DOCUMENT_15': 0.0, 'FLAG_DOCUMENT_16': 0.0, 'FLAG_DOCUMENT_17': 0.0, 'FLAG_DOCUMENT_18': 0.0, 'FLAG_DOCUMENT_19': 0.0, 'FLAG_DOCUMENT_20': 0.0, 'FLAG_DOCUMENT_21': 0.0, 'AMT_REQ_CREDIT_BUREAU_HOUR': 0.0, 'AMT_REQ_CREDIT_BUREAU_DAY': 0.0, 'AMT_REQ_CREDIT_BUREAU_WEEK': 0.0, 'AMT_REQ_CREDIT_BUREAU_MON': 0.0, 'AMT_REQ_CREDIT_BUREAU_QRT': 0.0, 'AMT_REQ_CREDIT_BUREAU_YEAR': 1.0, 'NAME_CONTRACT_TYPE_y': 0.5, 'AMT_ANNUITY_y': 15801.22125, 'AMT_APPLICATION': 120978.0, 'AMT_CREDIT_y': 124837.875, 'AMT_DOWN_PAYMENT': 11587.5, 'AMT_GOODS_PRICE_y': 120978.0, 'WEEKDAY_APPR_PROCESS_START_y': 2.75, 'HOUR_APPR_PROCESS_START_y': 12.25, 'FLAG_LAST_APPL_PER_CONTRACT': 0.0, 'NFLAG_LAST_APPL_IN_DAY': 1.0, 'RATE_DOWN_PAYMENT': 0.1316497451749993, 'RATE_INTEREST_PRIMARY': 0.0, 'RATE_INTEREST_PRIVILEGED': 0.0, 'NAME_CASH_LOAN_PURPOSE': 0.5, 'NAME_CONTRACT_STATUS': 0.5, 'DAYS_DECISION': -1138.0, 'NAME_PAYMENT_TYPE': 0.0, 'CODE_REJECT_REASON': 2.0, 'NAME_TYPE_SUITE_y': 3.25, 'NAME_CLIENT_TYPE': 1.25, 'NAME_GOODS_CATEGORY': 5.5, 'NAME_PORTFOLIO': 1.0, 'NAME_PRODUCT_TYPE': 1.0, 'CHANNEL_TYPE': 0.0, 'SELLERPLACE_AREA': 132.25, 'NAME_SELLER_INDUSTRY': 0.5, 'CNT_PAYMENT': 10.5, 'NAME_YIELD_GROUP': 0.75, 'PRODUCT_COMBINATION': 8.25, 'DAYS_FIRST_DRAWING': 365243.0, 'DAYS_FIRST_DUE': -1472.0, 'DAYS_LAST_DUE_1ST_VERSION': -1142.0, 'DAYS_LAST_DUE': -1142.0, 'DAYS_TERMINATION': -1128.0, 'NFLAG_INSURED_ON_APPROVAL': 0.0, 'nb_app': 4.0} }\n"
     ]
    }
   ],
   "source": [
    "print ('{ \"payload\": ', payload, \"}\")"
   ]
  },
  {
   "cell_type": "code",
   "execution_count": 32,
   "id": "3765ef37",
   "metadata": {},
   "outputs": [
    {
     "data": {
      "text/plain": [
       "{'Prediction: ': array([0.], dtype=float32),\n",
       " 'Probability: ': array([0.10488835], dtype=float32)}"
      ]
     },
     "execution_count": 32,
     "metadata": {},
     "output_type": "execute_result"
    }
   ],
   "source": [
    "req = requests.Request()\n",
    "req.json = {\"payload\":payload}\n",
    "y_req = req\n",
    "score(gbdt, y_req)"
   ]
  },
  {
   "cell_type": "code",
   "execution_count": 33,
   "id": "2b8ece8a",
   "metadata": {},
   "outputs": [
    {
     "name": "stdout",
     "output_type": "stream",
     "text": [
      "Calculating build time metrics\n",
      "\n",
      "Progress: ██████████████████████████████████████████████████████████████████████ 100.0%\n"
     ]
    },
    {
     "data": {
      "application/vnd.jupyter.widget-view+json": {
       "model_id": "1afb4533404347b2a0e62f11a61cbef1",
       "version_major": 2,
       "version_minor": 0
      },
      "text/plain": [
       "VBox(children=(HTML(value='<style>.grad_1{background: #2468a4;} .grad_2{ color:white; background: #2468a4;}</s…"
      ]
     },
     "metadata": {},
     "output_type": "display_data"
    }
   ],
   "source": [
    "## registering the model in Fosfor.\n",
    "model_reg = register_model(gbdt,\n",
    "               score, \n",
    "               name=\"Credit_Risk_XGB_Classifier\", \n",
    "               description=\"Credit Risk XGBoost Classification Model\",\n",
    "               flavour=MLModelFlavours.sklearn,\n",
    "               model_type=\"classification\",\n",
    "               init_script=\"pip install snowflake-ml-python==1.0.11\",\n",
    "               y_true=y_train,\n",
    "               y_pred=y_pred,\n",
    "               prob=y_prob,\n",
    "               features=x_train.columns,\n",
    "               input_type=\"json\", \n",
    "               explain_ai=True,\n",
    "               x_train=x_train, \n",
    "               x_test=x_train, \n",
    "               y_train=y_train.tolist(),\n",
    "               y_test=y_train.tolist(),\n",
    "               feature_names=x_train.columns.tolist(),\n",
    "               original_features=x_train.columns.tolist(),\n",
    "               feature_ids=x_train.columns,\n",
    "               kyd=True, kyd_score = True)"
   ]
  },
  {
   "cell_type": "code",
   "execution_count": 34,
   "id": "48cc148c",
   "metadata": {},
   "outputs": [],
   "source": [
    "import pickle"
   ]
  },
  {
   "cell_type": "code",
   "execution_count": 37,
   "id": "f60a1ce2",
   "metadata": {},
   "outputs": [],
   "source": [
    "with open('/data/Output/CreditRisk_XGBclassifier_v1.pkl', 'wb') as f:  # open a text file\n",
    "    pickle.dump(gbdt, f) # serialize the list"
   ]
  },
  {
   "cell_type": "code",
   "execution_count": 39,
   "id": "d485a220",
   "metadata": {},
   "outputs": [],
   "source": [
    "with open('model_artifacts/CreditRisk_XGBclassifier_v1.pkl', 'wb') as f:  # open a text file\n",
    "    pickle.dump(gbdt, f) # serialize the list"
   ]
  },
  {
   "cell_type": "markdown",
   "id": "24dcbb98",
   "metadata": {},
   "source": [
    "# RandomForest Classifier"
   ]
  },
  {
   "cell_type": "code",
   "execution_count": 40,
   "id": "bbfcb49f",
   "metadata": {},
   "outputs": [
    {
     "data": {
      "text/html": [
       "<style>#sk-container-id-1 {color: black;background-color: white;}#sk-container-id-1 pre{padding: 0;}#sk-container-id-1 div.sk-toggleable {background-color: white;}#sk-container-id-1 label.sk-toggleable__label {cursor: pointer;display: block;width: 100%;margin-bottom: 0;padding: 0.3em;box-sizing: border-box;text-align: center;}#sk-container-id-1 label.sk-toggleable__label-arrow:before {content: \"▸\";float: left;margin-right: 0.25em;color: #696969;}#sk-container-id-1 label.sk-toggleable__label-arrow:hover:before {color: black;}#sk-container-id-1 div.sk-estimator:hover label.sk-toggleable__label-arrow:before {color: black;}#sk-container-id-1 div.sk-toggleable__content {max-height: 0;max-width: 0;overflow: hidden;text-align: left;background-color: #f0f8ff;}#sk-container-id-1 div.sk-toggleable__content pre {margin: 0.2em;color: black;border-radius: 0.25em;background-color: #f0f8ff;}#sk-container-id-1 input.sk-toggleable__control:checked~div.sk-toggleable__content {max-height: 200px;max-width: 100%;overflow: auto;}#sk-container-id-1 input.sk-toggleable__control:checked~label.sk-toggleable__label-arrow:before {content: \"▾\";}#sk-container-id-1 div.sk-estimator input.sk-toggleable__control:checked~label.sk-toggleable__label {background-color: #d4ebff;}#sk-container-id-1 div.sk-label input.sk-toggleable__control:checked~label.sk-toggleable__label {background-color: #d4ebff;}#sk-container-id-1 input.sk-hidden--visually {border: 0;clip: rect(1px 1px 1px 1px);clip: rect(1px, 1px, 1px, 1px);height: 1px;margin: -1px;overflow: hidden;padding: 0;position: absolute;width: 1px;}#sk-container-id-1 div.sk-estimator {font-family: monospace;background-color: #f0f8ff;border: 1px dotted black;border-radius: 0.25em;box-sizing: border-box;margin-bottom: 0.5em;}#sk-container-id-1 div.sk-estimator:hover {background-color: #d4ebff;}#sk-container-id-1 div.sk-parallel-item::after {content: \"\";width: 100%;border-bottom: 1px solid gray;flex-grow: 1;}#sk-container-id-1 div.sk-label:hover label.sk-toggleable__label {background-color: #d4ebff;}#sk-container-id-1 div.sk-serial::before {content: \"\";position: absolute;border-left: 1px solid gray;box-sizing: border-box;top: 0;bottom: 0;left: 50%;z-index: 0;}#sk-container-id-1 div.sk-serial {display: flex;flex-direction: column;align-items: center;background-color: white;padding-right: 0.2em;padding-left: 0.2em;position: relative;}#sk-container-id-1 div.sk-item {position: relative;z-index: 1;}#sk-container-id-1 div.sk-parallel {display: flex;align-items: stretch;justify-content: center;background-color: white;position: relative;}#sk-container-id-1 div.sk-item::before, #sk-container-id-1 div.sk-parallel-item::before {content: \"\";position: absolute;border-left: 1px solid gray;box-sizing: border-box;top: 0;bottom: 0;left: 50%;z-index: -1;}#sk-container-id-1 div.sk-parallel-item {display: flex;flex-direction: column;z-index: 1;position: relative;background-color: white;}#sk-container-id-1 div.sk-parallel-item:first-child::after {align-self: flex-end;width: 50%;}#sk-container-id-1 div.sk-parallel-item:last-child::after {align-self: flex-start;width: 50%;}#sk-container-id-1 div.sk-parallel-item:only-child::after {width: 0;}#sk-container-id-1 div.sk-dashed-wrapped {border: 1px dashed gray;margin: 0 0.4em 0.5em 0.4em;box-sizing: border-box;padding-bottom: 0.4em;background-color: white;}#sk-container-id-1 div.sk-label label {font-family: monospace;font-weight: bold;display: inline-block;line-height: 1.2em;}#sk-container-id-1 div.sk-label-container {text-align: center;}#sk-container-id-1 div.sk-container {/* jupyter's `normalize.less` sets `[hidden] { display: none; }` but bootstrap.min.css set `[hidden] { display: none !important; }` so we also need the `!important` here to be able to override the default hidden behavior on the sphinx rendered scikit-learn.org. See: https://github.com/scikit-learn/scikit-learn/issues/21755 */display: inline-block !important;position: relative;}#sk-container-id-1 div.sk-text-repr-fallback {display: none;}</style><div id=\"sk-container-id-1\" class=\"sk-top-container\"><div class=\"sk-text-repr-fallback\"><pre>RandomForestClassifier(max_depth=12, max_features=0.2, min_samples_leaf=2,\n",
       "                       n_estimators=200, n_jobs=16, random_state=0)</pre><b>In a Jupyter environment, please rerun this cell to show the HTML representation or trust the notebook. <br />On GitHub, the HTML representation is unable to render, please try loading this page with nbviewer.org.</b></div><div class=\"sk-container\" hidden><div class=\"sk-item\"><div class=\"sk-estimator sk-toggleable\"><input class=\"sk-toggleable__control sk-hidden--visually\" id=\"sk-estimator-id-1\" type=\"checkbox\" checked><label for=\"sk-estimator-id-1\" class=\"sk-toggleable__label sk-toggleable__label-arrow\">RandomForestClassifier</label><div class=\"sk-toggleable__content\"><pre>RandomForestClassifier(max_depth=12, max_features=0.2, min_samples_leaf=2,\n",
       "                       n_estimators=200, n_jobs=16, random_state=0)</pre></div></div></div></div></div>"
      ],
      "text/plain": [
       "RandomForestClassifier(max_depth=12, max_features=0.2, min_samples_leaf=2,\n",
       "                       n_estimators=200, n_jobs=16, random_state=0)"
      ]
     },
     "execution_count": 40,
     "metadata": {},
     "output_type": "execute_result"
    }
   ],
   "source": [
    "RFC = RandomForestClassifier(**rf_params)\n",
    "RFC.fit(x_train, y_train)"
   ]
  },
  {
   "cell_type": "code",
   "execution_count": 41,
   "id": "52da9fea",
   "metadata": {},
   "outputs": [],
   "source": [
    "y_pred = RFC.predict(x_train)"
   ]
  },
  {
   "cell_type": "code",
   "execution_count": 42,
   "id": "24c96ff2",
   "metadata": {},
   "outputs": [],
   "source": [
    "y_prob = RFC.predict_proba(x_train)[:,1]"
   ]
  },
  {
   "cell_type": "code",
   "execution_count": 43,
   "id": "fd7ab750",
   "metadata": {},
   "outputs": [
    {
     "data": {
      "text/plain": [
       "array([0, 0, 0, ..., 0, 0, 0], dtype=int8)"
      ]
     },
     "execution_count": 43,
     "metadata": {},
     "output_type": "execute_result"
    }
   ],
   "source": [
    "y_pred"
   ]
  },
  {
   "cell_type": "code",
   "execution_count": 44,
   "id": "706dc9ec",
   "metadata": {},
   "outputs": [
    {
     "data": {
      "text/plain": [
       "array([0.14765435, 0.19342677, 0.04328996, ..., 0.02141991, 0.02572166,\n",
       "       0.17335446])"
      ]
     },
     "execution_count": 44,
     "metadata": {},
     "output_type": "execute_result"
    }
   ],
   "source": [
    "y_prob"
   ]
  },
  {
   "cell_type": "code",
   "execution_count": 45,
   "id": "01269a33",
   "metadata": {},
   "outputs": [],
   "source": [
    "@scoring_func\n",
    "def score(model, request):\n",
    "    payload_dict = request.json[\"payload\"]\n",
    "    data = pd.DataFrame(payload_dict,index=[0])\n",
    "    y_pred = model.predict(data)\n",
    "    y_prob = model.predict_proba(data)[:,1]\n",
    "    temp_dict = {\"Prediction: \": np.round(y_pred), \"Probability: \": y_prob }\n",
    "    return temp_dict"
   ]
  },
  {
   "cell_type": "code",
   "execution_count": 46,
   "id": "8f7126ad",
   "metadata": {},
   "outputs": [
    {
     "name": "stdout",
     "output_type": "stream",
     "text": [
      "{ \"payload\":  {'NAME_CONTRACT_TYPE_x': 0.0, 'CODE_GENDER': 0.0, 'FLAG_OWN_CAR': 0.0, 'FLAG_OWN_REALTY': 0.0, 'CNT_CHILDREN': 2.0, 'AMT_INCOME_TOTAL': 450000.0, 'AMT_CREDIT_x': 450000.0, 'AMT_ANNUITY_x': 20979.0, 'AMT_GOODS_PRICE_x': 450000.0, 'NAME_TYPE_SUITE_x': 0.0, 'NAME_INCOME_TYPE': 0.0, 'NAME_EDUCATION_TYPE': 0.0, 'NAME_FAMILY_STATUS': 0.0, 'NAME_HOUSING_TYPE': 0.0, 'REGION_POPULATION_RELATIVE': 0.00733, 'DAYS_BIRTH': -10860.0, 'DAYS_EMPLOYED': -215.0, 'DAYS_REGISTRATION': -4606.0, 'DAYS_ID_PUBLISH': -3485.0, 'OWN_CAR_AGE': 6.0, 'FLAG_MOBIL': 1.0, 'FLAG_EMP_PHONE': 1.0, 'FLAG_WORK_PHONE': 0.0, 'FLAG_CONT_MOBILE': 1.0, 'FLAG_PHONE': 0.0, 'FLAG_EMAIL': 0.0, 'OCCUPATION_TYPE': 0.0, 'CNT_FAM_MEMBERS': 4.0, 'REGION_RATING_CLIENT': 2.0, 'REGION_RATING_CLIENT_W_CITY': 2.0, 'WEEKDAY_APPR_PROCESS_START_x': 0.0, 'HOUR_APPR_PROCESS_START_x': 10.0, 'REG_REGION_NOT_LIVE_REGION': 1.0, 'REG_REGION_NOT_WORK_REGION': 1.0, 'LIVE_REGION_NOT_WORK_REGION': 0.0, 'REG_CITY_NOT_LIVE_CITY': 1.0, 'REG_CITY_NOT_WORK_CITY': 1.0, 'LIVE_CITY_NOT_WORK_CITY': 1.0, 'ORGANIZATION_TYPE': 0.0, 'EXT_SOURCE_1': 0.0, 'EXT_SOURCE_2': 0.0, 'EXT_SOURCE_3': 0.4956658291397297, 'APARTMENTS_AVG': 0.0, 'BASEMENTAREA_AVG': 0.0, 'YEARS_BEGINEXPLUATATION_AVG': 0.0, 'YEARS_BUILD_AVG': 0.0, 'COMMONAREA_AVG': 0.0, 'ELEVATORS_AVG': 0.0, 'ENTRANCES_AVG': 0.0, 'FLOORSMAX_AVG': 0.0, 'FLOORSMIN_AVG': 0.0, 'LANDAREA_AVG': 0.0, 'LIVINGAPARTMENTS_AVG': 0.0, 'LIVINGAREA_AVG': 0.0, 'NONLIVINGAPARTMENTS_AVG': 0.0, 'NONLIVINGAREA_AVG': 0.0, 'APARTMENTS_MODE': 0.0, 'BASEMENTAREA_MODE': 0.0, 'YEARS_BEGINEXPLUATATION_MODE': 0.0, 'YEARS_BUILD_MODE': 0.0, 'COMMONAREA_MODE': 0.0, 'ELEVATORS_MODE': 0.0, 'ENTRANCES_MODE': 0.0, 'FLOORSMAX_MODE': 0.0, 'FLOORSMIN_MODE': 0.0, 'LANDAREA_MODE': 0.0, 'LIVINGAPARTMENTS_MODE': 0.0, 'LIVINGAREA_MODE': 0.0, 'NONLIVINGAPARTMENTS_MODE': 0.0, 'NONLIVINGAREA_MODE': 0.0, 'APARTMENTS_MEDI': 0.0, 'BASEMENTAREA_MEDI': 0.0, 'YEARS_BEGINEXPLUATATION_MEDI': 0.0, 'YEARS_BUILD_MEDI': 0.0, 'COMMONAREA_MEDI': 0.0, 'ELEVATORS_MEDI': 0.0, 'ENTRANCES_MEDI': 0.0, 'FLOORSMAX_MEDI': 0.0, 'FLOORSMIN_MEDI': 0.0, 'LANDAREA_MEDI': 0.0, 'LIVINGAPARTMENTS_MEDI': 0.0, 'LIVINGAREA_MEDI': 0.0, 'NONLIVINGAPARTMENTS_MEDI': 0.0, 'NONLIVINGAREA_MEDI': 0.0, 'FONDKAPREMONT_MODE': 0.0, 'HOUSETYPE_MODE': 0.0, 'TOTALAREA_MODE': 0.0, 'WALLSMATERIAL_MODE': 0.0, 'EMERGENCYSTATE_MODE': 0.0, 'OBS_30_CNT_SOCIAL_CIRCLE': 0.0, 'DEF_30_CNT_SOCIAL_CIRCLE': 0.0, 'OBS_60_CNT_SOCIAL_CIRCLE': 0.0, 'DEF_60_CNT_SOCIAL_CIRCLE': 0.0, 'DAYS_LAST_PHONE_CHANGE': -1929.0, 'FLAG_DOCUMENT_2': 0.0, 'FLAG_DOCUMENT_3': 0.0, 'FLAG_DOCUMENT_4': 0.0, 'FLAG_DOCUMENT_5': 1.0, 'FLAG_DOCUMENT_6': 0.0, 'FLAG_DOCUMENT_7': 0.0, 'FLAG_DOCUMENT_8': 0.0, 'FLAG_DOCUMENT_9': 0.0, 'FLAG_DOCUMENT_10': 0.0, 'FLAG_DOCUMENT_11': 0.0, 'FLAG_DOCUMENT_12': 0.0, 'FLAG_DOCUMENT_13': 0.0, 'FLAG_DOCUMENT_14': 0.0, 'FLAG_DOCUMENT_15': 0.0, 'FLAG_DOCUMENT_16': 0.0, 'FLAG_DOCUMENT_17': 0.0, 'FLAG_DOCUMENT_18': 0.0, 'FLAG_DOCUMENT_19': 0.0, 'FLAG_DOCUMENT_20': 0.0, 'FLAG_DOCUMENT_21': 0.0, 'AMT_REQ_CREDIT_BUREAU_HOUR': 0.0, 'AMT_REQ_CREDIT_BUREAU_DAY': 0.0, 'AMT_REQ_CREDIT_BUREAU_WEEK': 0.0, 'AMT_REQ_CREDIT_BUREAU_MON': 0.0, 'AMT_REQ_CREDIT_BUREAU_QRT': 0.0, 'AMT_REQ_CREDIT_BUREAU_YEAR': 1.0, 'NAME_CONTRACT_TYPE_y': 0.5, 'AMT_ANNUITY_y': 15801.22125, 'AMT_APPLICATION': 120978.0, 'AMT_CREDIT_y': 124837.875, 'AMT_DOWN_PAYMENT': 11587.5, 'AMT_GOODS_PRICE_y': 120978.0, 'WEEKDAY_APPR_PROCESS_START_y': 2.75, 'HOUR_APPR_PROCESS_START_y': 12.25, 'FLAG_LAST_APPL_PER_CONTRACT': 0.0, 'NFLAG_LAST_APPL_IN_DAY': 1.0, 'RATE_DOWN_PAYMENT': 0.1316497451749993, 'RATE_INTEREST_PRIMARY': 0.0, 'RATE_INTEREST_PRIVILEGED': 0.0, 'NAME_CASH_LOAN_PURPOSE': 0.5, 'NAME_CONTRACT_STATUS': 0.5, 'DAYS_DECISION': -1138.0, 'NAME_PAYMENT_TYPE': 0.0, 'CODE_REJECT_REASON': 2.0, 'NAME_TYPE_SUITE_y': 3.25, 'NAME_CLIENT_TYPE': 1.25, 'NAME_GOODS_CATEGORY': 5.5, 'NAME_PORTFOLIO': 1.0, 'NAME_PRODUCT_TYPE': 1.0, 'CHANNEL_TYPE': 0.0, 'SELLERPLACE_AREA': 132.25, 'NAME_SELLER_INDUSTRY': 0.5, 'CNT_PAYMENT': 10.5, 'NAME_YIELD_GROUP': 0.75, 'PRODUCT_COMBINATION': 8.25, 'DAYS_FIRST_DRAWING': 365243.0, 'DAYS_FIRST_DUE': -1472.0, 'DAYS_LAST_DUE_1ST_VERSION': -1142.0, 'DAYS_LAST_DUE': -1142.0, 'DAYS_TERMINATION': -1128.0, 'NFLAG_INSURED_ON_APPROVAL': 0.0, 'nb_app': 4.0} }\n"
     ]
    }
   ],
   "source": [
    "payload  = x_train.iloc[0].to_dict()\n",
    "print ('{ \"payload\": ', payload, \"}\")"
   ]
  },
  {
   "cell_type": "code",
   "execution_count": 47,
   "id": "e0aa2fb1",
   "metadata": {},
   "outputs": [
    {
     "data": {
      "text/plain": [
       "{'Prediction: ': array([0], dtype=int8), 'Probability: ': array([0.14765435])}"
      ]
     },
     "execution_count": 47,
     "metadata": {},
     "output_type": "execute_result"
    }
   ],
   "source": [
    "req = requests.Request()\n",
    "req.json = {\"payload\":payload}\n",
    "y_req = req\n",
    "score(RFC, y_req)"
   ]
  },
  {
   "cell_type": "code",
   "execution_count": 48,
   "id": "8084fa0e",
   "metadata": {
    "scrolled": true
   },
   "outputs": [
    {
     "name": "stdout",
     "output_type": "stream",
     "text": [
      "Calculating build time metrics\n",
      "\n",
      "Progress: ██████████████████████████████████████████████████████████████████████ 100.0%\n"
     ]
    },
    {
     "data": {
      "application/vnd.jupyter.widget-view+json": {
       "model_id": "e52fb6ea0f004381a4823194a8cd3120",
       "version_major": 2,
       "version_minor": 0
      },
      "text/plain": [
       "VBox(children=(HTML(value='<style>.grad_1{background: #2468a4;} .grad_2{ color:white; background: #2468a4;}</s…"
      ]
     },
     "metadata": {},
     "output_type": "display_data"
    }
   ],
   "source": [
    "## registering the model in Fosfor.\n",
    "model_reg = register_model(RFC,\n",
    "               score, \n",
    "               name=\"Credit_Risk_RandomForest_Classifier\", \n",
    "               description=\"Credit Risk RandomForest Classification Model\",\n",
    "               flavour=MLModelFlavours.sklearn,\n",
    "               model_type=\"classification\",\n",
    "               init_script=\"pip install snowflake-ml-python==1.0.11\",\n",
    "               y_true=y_train,\n",
    "               y_pred=y_pred,\n",
    "               prob=y_prob,\n",
    "               features=x_train.columns,\n",
    "               input_type=\"json\", \n",
    "               explain_ai=True,\n",
    "               x_train=x_train, \n",
    "               x_test=x_train, \n",
    "               y_train=y_train.tolist(),\n",
    "               y_test=y_train.tolist(),\n",
    "               feature_names=x_train.columns.tolist(),\n",
    "               original_features=x_train.columns.tolist(),\n",
    "               feature_ids=x_train.columns,\n",
    "               kyd=True, kyd_score = True)"
   ]
  },
  {
   "cell_type": "code",
   "execution_count": 49,
   "id": "3af8fe06",
   "metadata": {},
   "outputs": [],
   "source": [
    "with open('/data/Output/CreditRisk_RFclassifier_v1.pkl', 'wb') as f:  # open a text file\n",
    "    pickle.dump(RFC, f) # serialize the list"
   ]
  },
  {
   "cell_type": "code",
   "execution_count": 50,
   "id": "4d22936c",
   "metadata": {},
   "outputs": [],
   "source": [
    "with open('model_artifacts/CreditRisk_RFclassifier_v1.pkl', 'wb') as f:  # open a text file\n",
    "    pickle.dump(RFC, f) # serialize the list"
   ]
  },
  {
   "cell_type": "markdown",
   "id": "e9b3973f",
   "metadata": {},
   "source": [
    "# Extra Tree Classifier"
   ]
  },
  {
   "cell_type": "code",
   "execution_count": 51,
   "id": "69a6fa0d",
   "metadata": {},
   "outputs": [
    {
     "data": {
      "text/html": [
       "<style>#sk-container-id-2 {color: black;background-color: white;}#sk-container-id-2 pre{padding: 0;}#sk-container-id-2 div.sk-toggleable {background-color: white;}#sk-container-id-2 label.sk-toggleable__label {cursor: pointer;display: block;width: 100%;margin-bottom: 0;padding: 0.3em;box-sizing: border-box;text-align: center;}#sk-container-id-2 label.sk-toggleable__label-arrow:before {content: \"▸\";float: left;margin-right: 0.25em;color: #696969;}#sk-container-id-2 label.sk-toggleable__label-arrow:hover:before {color: black;}#sk-container-id-2 div.sk-estimator:hover label.sk-toggleable__label-arrow:before {color: black;}#sk-container-id-2 div.sk-toggleable__content {max-height: 0;max-width: 0;overflow: hidden;text-align: left;background-color: #f0f8ff;}#sk-container-id-2 div.sk-toggleable__content pre {margin: 0.2em;color: black;border-radius: 0.25em;background-color: #f0f8ff;}#sk-container-id-2 input.sk-toggleable__control:checked~div.sk-toggleable__content {max-height: 200px;max-width: 100%;overflow: auto;}#sk-container-id-2 input.sk-toggleable__control:checked~label.sk-toggleable__label-arrow:before {content: \"▾\";}#sk-container-id-2 div.sk-estimator input.sk-toggleable__control:checked~label.sk-toggleable__label {background-color: #d4ebff;}#sk-container-id-2 div.sk-label input.sk-toggleable__control:checked~label.sk-toggleable__label {background-color: #d4ebff;}#sk-container-id-2 input.sk-hidden--visually {border: 0;clip: rect(1px 1px 1px 1px);clip: rect(1px, 1px, 1px, 1px);height: 1px;margin: -1px;overflow: hidden;padding: 0;position: absolute;width: 1px;}#sk-container-id-2 div.sk-estimator {font-family: monospace;background-color: #f0f8ff;border: 1px dotted black;border-radius: 0.25em;box-sizing: border-box;margin-bottom: 0.5em;}#sk-container-id-2 div.sk-estimator:hover {background-color: #d4ebff;}#sk-container-id-2 div.sk-parallel-item::after {content: \"\";width: 100%;border-bottom: 1px solid gray;flex-grow: 1;}#sk-container-id-2 div.sk-label:hover label.sk-toggleable__label {background-color: #d4ebff;}#sk-container-id-2 div.sk-serial::before {content: \"\";position: absolute;border-left: 1px solid gray;box-sizing: border-box;top: 0;bottom: 0;left: 50%;z-index: 0;}#sk-container-id-2 div.sk-serial {display: flex;flex-direction: column;align-items: center;background-color: white;padding-right: 0.2em;padding-left: 0.2em;position: relative;}#sk-container-id-2 div.sk-item {position: relative;z-index: 1;}#sk-container-id-2 div.sk-parallel {display: flex;align-items: stretch;justify-content: center;background-color: white;position: relative;}#sk-container-id-2 div.sk-item::before, #sk-container-id-2 div.sk-parallel-item::before {content: \"\";position: absolute;border-left: 1px solid gray;box-sizing: border-box;top: 0;bottom: 0;left: 50%;z-index: -1;}#sk-container-id-2 div.sk-parallel-item {display: flex;flex-direction: column;z-index: 1;position: relative;background-color: white;}#sk-container-id-2 div.sk-parallel-item:first-child::after {align-self: flex-end;width: 50%;}#sk-container-id-2 div.sk-parallel-item:last-child::after {align-self: flex-start;width: 50%;}#sk-container-id-2 div.sk-parallel-item:only-child::after {width: 0;}#sk-container-id-2 div.sk-dashed-wrapped {border: 1px dashed gray;margin: 0 0.4em 0.5em 0.4em;box-sizing: border-box;padding-bottom: 0.4em;background-color: white;}#sk-container-id-2 div.sk-label label {font-family: monospace;font-weight: bold;display: inline-block;line-height: 1.2em;}#sk-container-id-2 div.sk-label-container {text-align: center;}#sk-container-id-2 div.sk-container {/* jupyter's `normalize.less` sets `[hidden] { display: none; }` but bootstrap.min.css set `[hidden] { display: none !important; }` so we also need the `!important` here to be able to override the default hidden behavior on the sphinx rendered scikit-learn.org. See: https://github.com/scikit-learn/scikit-learn/issues/21755 */display: inline-block !important;position: relative;}#sk-container-id-2 div.sk-text-repr-fallback {display: none;}</style><div id=\"sk-container-id-2\" class=\"sk-top-container\"><div class=\"sk-text-repr-fallback\"><pre>ExtraTreesClassifier(max_depth=12, max_features=0.5, min_samples_leaf=2,\n",
       "                     n_estimators=200, n_jobs=16, random_state=0)</pre><b>In a Jupyter environment, please rerun this cell to show the HTML representation or trust the notebook. <br />On GitHub, the HTML representation is unable to render, please try loading this page with nbviewer.org.</b></div><div class=\"sk-container\" hidden><div class=\"sk-item\"><div class=\"sk-estimator sk-toggleable\"><input class=\"sk-toggleable__control sk-hidden--visually\" id=\"sk-estimator-id-2\" type=\"checkbox\" checked><label for=\"sk-estimator-id-2\" class=\"sk-toggleable__label sk-toggleable__label-arrow\">ExtraTreesClassifier</label><div class=\"sk-toggleable__content\"><pre>ExtraTreesClassifier(max_depth=12, max_features=0.5, min_samples_leaf=2,\n",
       "                     n_estimators=200, n_jobs=16, random_state=0)</pre></div></div></div></div></div>"
      ],
      "text/plain": [
       "ExtraTreesClassifier(max_depth=12, max_features=0.5, min_samples_leaf=2,\n",
       "                     n_estimators=200, n_jobs=16, random_state=0)"
      ]
     },
     "execution_count": 51,
     "metadata": {},
     "output_type": "execute_result"
    }
   ],
   "source": [
    "ETC = ExtraTreesClassifier(**et_params)\n",
    "ETC.fit(x_train, y_train)"
   ]
  },
  {
   "cell_type": "code",
   "execution_count": 52,
   "id": "5c48cf77",
   "metadata": {},
   "outputs": [],
   "source": [
    "y_pred = ETC.predict(x_train)\n",
    "y_prob = ETC.predict_proba(x_train)[:,1]"
   ]
  },
  {
   "cell_type": "code",
   "execution_count": 53,
   "id": "eea815ea",
   "metadata": {},
   "outputs": [
    {
     "data": {
      "text/plain": [
       "array([0, 0, 0, ..., 0, 0, 0], dtype=int8)"
      ]
     },
     "execution_count": 53,
     "metadata": {},
     "output_type": "execute_result"
    }
   ],
   "source": [
    "y_pred"
   ]
  },
  {
   "cell_type": "code",
   "execution_count": 54,
   "id": "86cad9dd",
   "metadata": {},
   "outputs": [
    {
     "data": {
      "text/plain": [
       "array([0.12784927, 0.14551793, 0.03972889, ..., 0.02458349, 0.02757475,\n",
       "       0.14668218])"
      ]
     },
     "execution_count": 54,
     "metadata": {},
     "output_type": "execute_result"
    }
   ],
   "source": [
    "y_prob"
   ]
  },
  {
   "cell_type": "code",
   "execution_count": 55,
   "id": "5895e18f",
   "metadata": {},
   "outputs": [],
   "source": [
    "@scoring_func\n",
    "def score(model, request):\n",
    "    payload_dict = request.json[\"payload\"]\n",
    "    data = pd.DataFrame(payload_dict,index=[0])\n",
    "    y_pred = model.predict(data)\n",
    "    y_prob = model.predict_proba(data)[:,1]\n",
    "    temp_dict = {\"Prediction: \": np.round(y_pred), \"Probability: \": y_prob }\n",
    "    return temp_dict"
   ]
  },
  {
   "cell_type": "code",
   "execution_count": 56,
   "id": "eb64b470",
   "metadata": {},
   "outputs": [
    {
     "name": "stdout",
     "output_type": "stream",
     "text": [
      "{ \"payload\":  {'NAME_CONTRACT_TYPE_x': 0.0, 'CODE_GENDER': 0.0, 'FLAG_OWN_CAR': 0.0, 'FLAG_OWN_REALTY': 0.0, 'CNT_CHILDREN': 2.0, 'AMT_INCOME_TOTAL': 450000.0, 'AMT_CREDIT_x': 450000.0, 'AMT_ANNUITY_x': 20979.0, 'AMT_GOODS_PRICE_x': 450000.0, 'NAME_TYPE_SUITE_x': 0.0, 'NAME_INCOME_TYPE': 0.0, 'NAME_EDUCATION_TYPE': 0.0, 'NAME_FAMILY_STATUS': 0.0, 'NAME_HOUSING_TYPE': 0.0, 'REGION_POPULATION_RELATIVE': 0.00733, 'DAYS_BIRTH': -10860.0, 'DAYS_EMPLOYED': -215.0, 'DAYS_REGISTRATION': -4606.0, 'DAYS_ID_PUBLISH': -3485.0, 'OWN_CAR_AGE': 6.0, 'FLAG_MOBIL': 1.0, 'FLAG_EMP_PHONE': 1.0, 'FLAG_WORK_PHONE': 0.0, 'FLAG_CONT_MOBILE': 1.0, 'FLAG_PHONE': 0.0, 'FLAG_EMAIL': 0.0, 'OCCUPATION_TYPE': 0.0, 'CNT_FAM_MEMBERS': 4.0, 'REGION_RATING_CLIENT': 2.0, 'REGION_RATING_CLIENT_W_CITY': 2.0, 'WEEKDAY_APPR_PROCESS_START_x': 0.0, 'HOUR_APPR_PROCESS_START_x': 10.0, 'REG_REGION_NOT_LIVE_REGION': 1.0, 'REG_REGION_NOT_WORK_REGION': 1.0, 'LIVE_REGION_NOT_WORK_REGION': 0.0, 'REG_CITY_NOT_LIVE_CITY': 1.0, 'REG_CITY_NOT_WORK_CITY': 1.0, 'LIVE_CITY_NOT_WORK_CITY': 1.0, 'ORGANIZATION_TYPE': 0.0, 'EXT_SOURCE_1': 0.0, 'EXT_SOURCE_2': 0.0, 'EXT_SOURCE_3': 0.4956658291397297, 'APARTMENTS_AVG': 0.0, 'BASEMENTAREA_AVG': 0.0, 'YEARS_BEGINEXPLUATATION_AVG': 0.0, 'YEARS_BUILD_AVG': 0.0, 'COMMONAREA_AVG': 0.0, 'ELEVATORS_AVG': 0.0, 'ENTRANCES_AVG': 0.0, 'FLOORSMAX_AVG': 0.0, 'FLOORSMIN_AVG': 0.0, 'LANDAREA_AVG': 0.0, 'LIVINGAPARTMENTS_AVG': 0.0, 'LIVINGAREA_AVG': 0.0, 'NONLIVINGAPARTMENTS_AVG': 0.0, 'NONLIVINGAREA_AVG': 0.0, 'APARTMENTS_MODE': 0.0, 'BASEMENTAREA_MODE': 0.0, 'YEARS_BEGINEXPLUATATION_MODE': 0.0, 'YEARS_BUILD_MODE': 0.0, 'COMMONAREA_MODE': 0.0, 'ELEVATORS_MODE': 0.0, 'ENTRANCES_MODE': 0.0, 'FLOORSMAX_MODE': 0.0, 'FLOORSMIN_MODE': 0.0, 'LANDAREA_MODE': 0.0, 'LIVINGAPARTMENTS_MODE': 0.0, 'LIVINGAREA_MODE': 0.0, 'NONLIVINGAPARTMENTS_MODE': 0.0, 'NONLIVINGAREA_MODE': 0.0, 'APARTMENTS_MEDI': 0.0, 'BASEMENTAREA_MEDI': 0.0, 'YEARS_BEGINEXPLUATATION_MEDI': 0.0, 'YEARS_BUILD_MEDI': 0.0, 'COMMONAREA_MEDI': 0.0, 'ELEVATORS_MEDI': 0.0, 'ENTRANCES_MEDI': 0.0, 'FLOORSMAX_MEDI': 0.0, 'FLOORSMIN_MEDI': 0.0, 'LANDAREA_MEDI': 0.0, 'LIVINGAPARTMENTS_MEDI': 0.0, 'LIVINGAREA_MEDI': 0.0, 'NONLIVINGAPARTMENTS_MEDI': 0.0, 'NONLIVINGAREA_MEDI': 0.0, 'FONDKAPREMONT_MODE': 0.0, 'HOUSETYPE_MODE': 0.0, 'TOTALAREA_MODE': 0.0, 'WALLSMATERIAL_MODE': 0.0, 'EMERGENCYSTATE_MODE': 0.0, 'OBS_30_CNT_SOCIAL_CIRCLE': 0.0, 'DEF_30_CNT_SOCIAL_CIRCLE': 0.0, 'OBS_60_CNT_SOCIAL_CIRCLE': 0.0, 'DEF_60_CNT_SOCIAL_CIRCLE': 0.0, 'DAYS_LAST_PHONE_CHANGE': -1929.0, 'FLAG_DOCUMENT_2': 0.0, 'FLAG_DOCUMENT_3': 0.0, 'FLAG_DOCUMENT_4': 0.0, 'FLAG_DOCUMENT_5': 1.0, 'FLAG_DOCUMENT_6': 0.0, 'FLAG_DOCUMENT_7': 0.0, 'FLAG_DOCUMENT_8': 0.0, 'FLAG_DOCUMENT_9': 0.0, 'FLAG_DOCUMENT_10': 0.0, 'FLAG_DOCUMENT_11': 0.0, 'FLAG_DOCUMENT_12': 0.0, 'FLAG_DOCUMENT_13': 0.0, 'FLAG_DOCUMENT_14': 0.0, 'FLAG_DOCUMENT_15': 0.0, 'FLAG_DOCUMENT_16': 0.0, 'FLAG_DOCUMENT_17': 0.0, 'FLAG_DOCUMENT_18': 0.0, 'FLAG_DOCUMENT_19': 0.0, 'FLAG_DOCUMENT_20': 0.0, 'FLAG_DOCUMENT_21': 0.0, 'AMT_REQ_CREDIT_BUREAU_HOUR': 0.0, 'AMT_REQ_CREDIT_BUREAU_DAY': 0.0, 'AMT_REQ_CREDIT_BUREAU_WEEK': 0.0, 'AMT_REQ_CREDIT_BUREAU_MON': 0.0, 'AMT_REQ_CREDIT_BUREAU_QRT': 0.0, 'AMT_REQ_CREDIT_BUREAU_YEAR': 1.0, 'NAME_CONTRACT_TYPE_y': 0.5, 'AMT_ANNUITY_y': 15801.22125, 'AMT_APPLICATION': 120978.0, 'AMT_CREDIT_y': 124837.875, 'AMT_DOWN_PAYMENT': 11587.5, 'AMT_GOODS_PRICE_y': 120978.0, 'WEEKDAY_APPR_PROCESS_START_y': 2.75, 'HOUR_APPR_PROCESS_START_y': 12.25, 'FLAG_LAST_APPL_PER_CONTRACT': 0.0, 'NFLAG_LAST_APPL_IN_DAY': 1.0, 'RATE_DOWN_PAYMENT': 0.1316497451749993, 'RATE_INTEREST_PRIMARY': 0.0, 'RATE_INTEREST_PRIVILEGED': 0.0, 'NAME_CASH_LOAN_PURPOSE': 0.5, 'NAME_CONTRACT_STATUS': 0.5, 'DAYS_DECISION': -1138.0, 'NAME_PAYMENT_TYPE': 0.0, 'CODE_REJECT_REASON': 2.0, 'NAME_TYPE_SUITE_y': 3.25, 'NAME_CLIENT_TYPE': 1.25, 'NAME_GOODS_CATEGORY': 5.5, 'NAME_PORTFOLIO': 1.0, 'NAME_PRODUCT_TYPE': 1.0, 'CHANNEL_TYPE': 0.0, 'SELLERPLACE_AREA': 132.25, 'NAME_SELLER_INDUSTRY': 0.5, 'CNT_PAYMENT': 10.5, 'NAME_YIELD_GROUP': 0.75, 'PRODUCT_COMBINATION': 8.25, 'DAYS_FIRST_DRAWING': 365243.0, 'DAYS_FIRST_DUE': -1472.0, 'DAYS_LAST_DUE_1ST_VERSION': -1142.0, 'DAYS_LAST_DUE': -1142.0, 'DAYS_TERMINATION': -1128.0, 'NFLAG_INSURED_ON_APPROVAL': 0.0, 'nb_app': 4.0} }\n"
     ]
    }
   ],
   "source": [
    "payload  = x_train.iloc[0].to_dict()\n",
    "print ('{ \"payload\": ', payload, \"}\")"
   ]
  },
  {
   "cell_type": "code",
   "execution_count": 57,
   "id": "508f0d1f",
   "metadata": {},
   "outputs": [
    {
     "data": {
      "text/plain": [
       "{'Prediction: ': array([0], dtype=int8), 'Probability: ': array([0.12784927])}"
      ]
     },
     "execution_count": 57,
     "metadata": {},
     "output_type": "execute_result"
    }
   ],
   "source": [
    "req = requests.Request()\n",
    "req.json = {\"payload\":payload}\n",
    "y_req = req\n",
    "score(ETC, y_req)"
   ]
  },
  {
   "cell_type": "code",
   "execution_count": 58,
   "id": "b40db2b3",
   "metadata": {
    "scrolled": true
   },
   "outputs": [
    {
     "name": "stdout",
     "output_type": "stream",
     "text": [
      "Calculating build time metrics\n",
      "\n",
      "Progress: ██████████████████████████████████████████████████████████████████████ 100.0%\n"
     ]
    },
    {
     "data": {
      "application/vnd.jupyter.widget-view+json": {
       "model_id": "ecc8535cd6ff4139afd2fb1b18dfd356",
       "version_major": 2,
       "version_minor": 0
      },
      "text/plain": [
       "VBox(children=(HTML(value='<style>.grad_1{background: #2468a4;} .grad_2{ color:white; background: #2468a4;}</s…"
      ]
     },
     "metadata": {},
     "output_type": "display_data"
    }
   ],
   "source": [
    "## registering the model in Fosfor.\n",
    "model_reg = register_model(ETC,\n",
    "               score, \n",
    "               name=\"Credit_Risk_ExtraTree_Classifier\", \n",
    "               description=\"Credit Risk ExtraTree Classification Model\",\n",
    "               flavour=MLModelFlavours.sklearn,\n",
    "               model_type=\"classification\",\n",
    "               init_script=\"pip install snowflake-ml-python==1.0.11\",\n",
    "               y_true=y_train,\n",
    "               y_pred=y_pred,\n",
    "               prob=y_prob,\n",
    "               features=x_train.columns,\n",
    "               input_type=\"json\", \n",
    "               explain_ai=True,\n",
    "               x_train=x_train, \n",
    "               x_test=x_train, \n",
    "               y_train=y_train.tolist(),\n",
    "               y_test=y_train.tolist(),\n",
    "               feature_names=x_train.columns.tolist(),\n",
    "               original_features=x_train.columns.tolist(),\n",
    "               feature_ids=x_train.columns,\n",
    "               kyd=True, kyd_score = True)"
   ]
  },
  {
   "cell_type": "code",
   "execution_count": 59,
   "id": "6f43526f",
   "metadata": {},
   "outputs": [],
   "source": [
    "with open('/data/Output/CreditRisk_ETclassifier_v1.pkl', 'wb') as f:  # open a text file\n",
    "    pickle.dump(ETC, f) # serialize the list"
   ]
  },
  {
   "cell_type": "code",
   "execution_count": 60,
   "id": "b99735ab",
   "metadata": {},
   "outputs": [],
   "source": [
    "with open('model_artifacts/CreditRisk_ETclassifier_v1.pkl', 'wb') as f:  # open a text file\n",
    "    pickle.dump(ETC, f) # serialize the list"
   ]
  },
  {
   "cell_type": "markdown",
   "id": "11ce7ac8",
   "metadata": {},
   "source": [
    "# CATBoost Classifier"
   ]
  },
  {
   "cell_type": "code",
   "execution_count": 61,
   "id": "e374b078",
   "metadata": {},
   "outputs": [
    {
     "name": "stdout",
     "output_type": "stream",
     "text": [
      "0:\ttotal: 74.6ms\tremaining: 14.8s\n",
      "1:\ttotal: 97ms\tremaining: 9.6s\n",
      "2:\ttotal: 123ms\tremaining: 8.04s\n",
      "3:\ttotal: 146ms\tremaining: 7.17s\n",
      "4:\ttotal: 171ms\tremaining: 6.67s\n",
      "5:\ttotal: 195ms\tremaining: 6.29s\n",
      "6:\ttotal: 220ms\tremaining: 6.06s\n",
      "7:\ttotal: 242ms\tremaining: 5.82s\n",
      "8:\ttotal: 268ms\tremaining: 5.69s\n",
      "9:\ttotal: 291ms\tremaining: 5.52s\n",
      "10:\ttotal: 313ms\tremaining: 5.38s\n",
      "11:\ttotal: 336ms\tremaining: 5.26s\n",
      "12:\ttotal: 359ms\tremaining: 5.16s\n",
      "13:\ttotal: 381ms\tremaining: 5.06s\n",
      "14:\ttotal: 408ms\tremaining: 5.04s\n",
      "15:\ttotal: 433ms\tremaining: 4.98s\n",
      "16:\ttotal: 455ms\tremaining: 4.9s\n",
      "17:\ttotal: 480ms\tremaining: 4.86s\n",
      "18:\ttotal: 504ms\tremaining: 4.8s\n",
      "19:\ttotal: 536ms\tremaining: 4.83s\n",
      "20:\ttotal: 560ms\tremaining: 4.78s\n",
      "21:\ttotal: 591ms\tremaining: 4.78s\n",
      "22:\ttotal: 620ms\tremaining: 4.77s\n",
      "23:\ttotal: 648ms\tremaining: 4.75s\n",
      "24:\ttotal: 675ms\tremaining: 4.73s\n",
      "25:\ttotal: 705ms\tremaining: 4.72s\n",
      "26:\ttotal: 731ms\tremaining: 4.69s\n",
      "27:\ttotal: 756ms\tremaining: 4.64s\n",
      "28:\ttotal: 778ms\tremaining: 4.59s\n",
      "29:\ttotal: 799ms\tremaining: 4.53s\n",
      "30:\ttotal: 821ms\tremaining: 4.47s\n",
      "31:\ttotal: 845ms\tremaining: 4.43s\n",
      "32:\ttotal: 867ms\tremaining: 4.39s\n",
      "33:\ttotal: 889ms\tremaining: 4.34s\n",
      "34:\ttotal: 912ms\tremaining: 4.3s\n",
      "35:\ttotal: 939ms\tremaining: 4.28s\n",
      "36:\ttotal: 962ms\tremaining: 4.24s\n",
      "37:\ttotal: 987ms\tremaining: 4.21s\n",
      "38:\ttotal: 1.02s\tremaining: 4.2s\n",
      "39:\ttotal: 1.04s\tremaining: 4.17s\n",
      "40:\ttotal: 1.07s\tremaining: 4.16s\n",
      "41:\ttotal: 1.1s\tremaining: 4.14s\n",
      "42:\ttotal: 1.13s\tremaining: 4.11s\n",
      "43:\ttotal: 1.15s\tremaining: 4.08s\n",
      "44:\ttotal: 1.17s\tremaining: 4.04s\n",
      "45:\ttotal: 1.2s\tremaining: 4.01s\n",
      "46:\ttotal: 1.22s\tremaining: 3.97s\n",
      "47:\ttotal: 1.24s\tremaining: 3.94s\n",
      "48:\ttotal: 1.27s\tremaining: 3.91s\n",
      "49:\ttotal: 1.29s\tremaining: 3.88s\n",
      "50:\ttotal: 1.32s\tremaining: 3.87s\n",
      "51:\ttotal: 1.35s\tremaining: 3.84s\n",
      "52:\ttotal: 1.38s\tremaining: 3.82s\n",
      "53:\ttotal: 1.4s\tremaining: 3.8s\n",
      "54:\ttotal: 1.43s\tremaining: 3.78s\n",
      "55:\ttotal: 1.46s\tremaining: 3.75s\n",
      "56:\ttotal: 1.48s\tremaining: 3.72s\n",
      "57:\ttotal: 1.5s\tremaining: 3.68s\n",
      "58:\ttotal: 1.53s\tremaining: 3.65s\n",
      "59:\ttotal: 1.55s\tremaining: 3.62s\n",
      "60:\ttotal: 1.57s\tremaining: 3.59s\n",
      "61:\ttotal: 1.6s\tremaining: 3.56s\n",
      "62:\ttotal: 1.62s\tremaining: 3.53s\n",
      "63:\ttotal: 1.65s\tremaining: 3.5s\n",
      "64:\ttotal: 1.67s\tremaining: 3.47s\n",
      "65:\ttotal: 1.69s\tremaining: 3.44s\n",
      "66:\ttotal: 1.72s\tremaining: 3.41s\n",
      "67:\ttotal: 1.74s\tremaining: 3.38s\n",
      "68:\ttotal: 1.77s\tremaining: 3.36s\n",
      "69:\ttotal: 1.8s\tremaining: 3.34s\n",
      "70:\ttotal: 1.83s\tremaining: 3.32s\n",
      "71:\ttotal: 1.85s\tremaining: 3.29s\n",
      "72:\ttotal: 1.88s\tremaining: 3.27s\n",
      "73:\ttotal: 1.91s\tremaining: 3.25s\n",
      "74:\ttotal: 1.96s\tremaining: 3.27s\n",
      "75:\ttotal: 1.98s\tremaining: 3.23s\n",
      "76:\ttotal: 2.01s\tremaining: 3.21s\n",
      "77:\ttotal: 2.05s\tremaining: 3.2s\n",
      "78:\ttotal: 2.08s\tremaining: 3.18s\n",
      "79:\ttotal: 2.11s\tremaining: 3.16s\n",
      "80:\ttotal: 2.14s\tremaining: 3.14s\n",
      "81:\ttotal: 2.17s\tremaining: 3.12s\n",
      "82:\ttotal: 2.2s\tremaining: 3.1s\n",
      "83:\ttotal: 2.23s\tremaining: 3.08s\n",
      "84:\ttotal: 2.26s\tremaining: 3.06s\n",
      "85:\ttotal: 2.29s\tremaining: 3.04s\n",
      "86:\ttotal: 2.32s\tremaining: 3.01s\n",
      "87:\ttotal: 2.34s\tremaining: 2.98s\n",
      "88:\ttotal: 2.37s\tremaining: 2.95s\n",
      "89:\ttotal: 2.39s\tremaining: 2.92s\n",
      "90:\ttotal: 2.42s\tremaining: 2.89s\n",
      "91:\ttotal: 2.44s\tremaining: 2.87s\n",
      "92:\ttotal: 2.47s\tremaining: 2.84s\n",
      "93:\ttotal: 2.49s\tremaining: 2.81s\n",
      "94:\ttotal: 2.52s\tremaining: 2.78s\n",
      "95:\ttotal: 2.54s\tremaining: 2.75s\n",
      "96:\ttotal: 2.56s\tremaining: 2.72s\n",
      "97:\ttotal: 2.59s\tremaining: 2.69s\n",
      "98:\ttotal: 2.61s\tremaining: 2.66s\n",
      "99:\ttotal: 2.63s\tremaining: 2.63s\n",
      "100:\ttotal: 2.66s\tremaining: 2.61s\n",
      "101:\ttotal: 2.69s\tremaining: 2.58s\n",
      "102:\ttotal: 2.72s\tremaining: 2.56s\n",
      "103:\ttotal: 2.74s\tremaining: 2.53s\n",
      "104:\ttotal: 2.77s\tremaining: 2.51s\n",
      "105:\ttotal: 2.79s\tremaining: 2.48s\n",
      "106:\ttotal: 2.82s\tremaining: 2.45s\n",
      "107:\ttotal: 2.84s\tremaining: 2.42s\n",
      "108:\ttotal: 2.87s\tremaining: 2.4s\n",
      "109:\ttotal: 2.9s\tremaining: 2.37s\n",
      "110:\ttotal: 2.93s\tremaining: 2.35s\n",
      "111:\ttotal: 2.96s\tremaining: 2.33s\n",
      "112:\ttotal: 2.99s\tremaining: 2.3s\n",
      "113:\ttotal: 3.01s\tremaining: 2.27s\n",
      "114:\ttotal: 3.04s\tremaining: 2.24s\n",
      "115:\ttotal: 3.06s\tremaining: 2.21s\n",
      "116:\ttotal: 3.08s\tremaining: 2.18s\n",
      "117:\ttotal: 3.1s\tremaining: 2.16s\n",
      "118:\ttotal: 3.13s\tremaining: 2.13s\n",
      "119:\ttotal: 3.15s\tremaining: 2.1s\n",
      "120:\ttotal: 3.17s\tremaining: 2.07s\n",
      "121:\ttotal: 3.2s\tremaining: 2.04s\n",
      "122:\ttotal: 3.22s\tremaining: 2.02s\n",
      "123:\ttotal: 3.25s\tremaining: 1.99s\n",
      "124:\ttotal: 3.28s\tremaining: 1.97s\n",
      "125:\ttotal: 3.31s\tremaining: 1.94s\n",
      "126:\ttotal: 3.34s\tremaining: 1.92s\n",
      "127:\ttotal: 3.37s\tremaining: 1.9s\n",
      "128:\ttotal: 3.4s\tremaining: 1.87s\n",
      "129:\ttotal: 3.43s\tremaining: 1.84s\n",
      "130:\ttotal: 3.46s\tremaining: 1.82s\n",
      "131:\ttotal: 3.48s\tremaining: 1.79s\n",
      "132:\ttotal: 3.51s\tremaining: 1.77s\n",
      "133:\ttotal: 3.54s\tremaining: 1.74s\n",
      "134:\ttotal: 3.57s\tremaining: 1.72s\n",
      "135:\ttotal: 3.6s\tremaining: 1.69s\n",
      "136:\ttotal: 3.62s\tremaining: 1.67s\n",
      "137:\ttotal: 3.65s\tremaining: 1.64s\n",
      "138:\ttotal: 3.68s\tremaining: 1.61s\n",
      "139:\ttotal: 3.71s\tremaining: 1.59s\n",
      "140:\ttotal: 3.73s\tremaining: 1.56s\n",
      "141:\ttotal: 3.76s\tremaining: 1.53s\n",
      "142:\ttotal: 3.78s\tremaining: 1.51s\n",
      "143:\ttotal: 3.8s\tremaining: 1.48s\n",
      "144:\ttotal: 3.83s\tremaining: 1.45s\n",
      "145:\ttotal: 3.85s\tremaining: 1.42s\n",
      "146:\ttotal: 3.87s\tremaining: 1.4s\n",
      "147:\ttotal: 3.9s\tremaining: 1.37s\n",
      "148:\ttotal: 3.92s\tremaining: 1.34s\n",
      "149:\ttotal: 3.94s\tremaining: 1.31s\n",
      "150:\ttotal: 3.97s\tremaining: 1.29s\n",
      "151:\ttotal: 3.99s\tremaining: 1.26s\n",
      "152:\ttotal: 4.02s\tremaining: 1.24s\n",
      "153:\ttotal: 4.05s\tremaining: 1.21s\n",
      "154:\ttotal: 4.08s\tremaining: 1.18s\n",
      "155:\ttotal: 4.1s\tremaining: 1.16s\n",
      "156:\ttotal: 4.13s\tremaining: 1.13s\n",
      "157:\ttotal: 4.17s\tremaining: 1.11s\n",
      "158:\ttotal: 4.2s\tremaining: 1.08s\n",
      "159:\ttotal: 4.23s\tremaining: 1.06s\n",
      "160:\ttotal: 4.26s\tremaining: 1.03s\n",
      "161:\ttotal: 4.29s\tremaining: 1.01s\n",
      "162:\ttotal: 4.32s\tremaining: 981ms\n",
      "163:\ttotal: 4.35s\tremaining: 954ms\n",
      "164:\ttotal: 4.37s\tremaining: 928ms\n",
      "165:\ttotal: 4.41s\tremaining: 903ms\n",
      "166:\ttotal: 4.44s\tremaining: 877ms\n",
      "167:\ttotal: 4.46s\tremaining: 850ms\n",
      "168:\ttotal: 4.49s\tremaining: 823ms\n",
      "169:\ttotal: 4.51s\tremaining: 795ms\n",
      "170:\ttotal: 4.53s\tremaining: 768ms\n",
      "171:\ttotal: 4.55s\tremaining: 741ms\n",
      "172:\ttotal: 4.58s\tremaining: 714ms\n",
      "173:\ttotal: 4.6s\tremaining: 688ms\n",
      "174:\ttotal: 4.62s\tremaining: 661ms\n",
      "175:\ttotal: 4.65s\tremaining: 634ms\n",
      "176:\ttotal: 4.67s\tremaining: 607ms\n",
      "177:\ttotal: 4.69s\tremaining: 580ms\n",
      "178:\ttotal: 4.71s\tremaining: 553ms\n",
      "179:\ttotal: 4.74s\tremaining: 526ms\n",
      "180:\ttotal: 4.76s\tremaining: 500ms\n",
      "181:\ttotal: 4.79s\tremaining: 474ms\n",
      "182:\ttotal: 4.81s\tremaining: 447ms\n",
      "183:\ttotal: 4.84s\tremaining: 421ms\n",
      "184:\ttotal: 4.86s\tremaining: 394ms\n",
      "185:\ttotal: 4.88s\tremaining: 368ms\n",
      "186:\ttotal: 4.91s\tremaining: 341ms\n",
      "187:\ttotal: 4.93s\tremaining: 315ms\n",
      "188:\ttotal: 4.96s\tremaining: 288ms\n",
      "189:\ttotal: 4.98s\tremaining: 262ms\n",
      "190:\ttotal: 5.01s\tremaining: 236ms\n",
      "191:\ttotal: 5.04s\tremaining: 210ms\n",
      "192:\ttotal: 5.06s\tremaining: 184ms\n",
      "193:\ttotal: 5.08s\tremaining: 157ms\n",
      "194:\ttotal: 5.11s\tremaining: 131ms\n",
      "195:\ttotal: 5.13s\tremaining: 105ms\n",
      "196:\ttotal: 5.16s\tremaining: 78.6ms\n",
      "197:\ttotal: 5.18s\tremaining: 52.4ms\n",
      "198:\ttotal: 5.21s\tremaining: 26.2ms\n",
      "199:\ttotal: 5.24s\tremaining: 0us\n"
     ]
    },
    {
     "data": {
      "text/plain": [
       "<catboost.core.CatBoostClassifier at 0x7f0995ac5fa0>"
      ]
     },
     "execution_count": 61,
     "metadata": {},
     "output_type": "execute_result"
    }
   ],
   "source": [
    "CBC = CatBoostClassifier(**catboost_params)\n",
    "CBC.fit(x_train, y_train)"
   ]
  },
  {
   "cell_type": "code",
   "execution_count": 62,
   "id": "8794e860",
   "metadata": {},
   "outputs": [],
   "source": [
    "y_pred = CBC.predict(x_train)\n",
    "y_prob = CBC.predict_proba(x_train)[:,1]"
   ]
  },
  {
   "cell_type": "code",
   "execution_count": 63,
   "id": "064e3c7c",
   "metadata": {},
   "outputs": [
    {
     "data": {
      "text/plain": [
       "array([0, 1, 0, ..., 0, 0, 1])"
      ]
     },
     "execution_count": 63,
     "metadata": {},
     "output_type": "execute_result"
    }
   ],
   "source": [
    "y_pred"
   ]
  },
  {
   "cell_type": "code",
   "execution_count": 64,
   "id": "0f73dc56",
   "metadata": {},
   "outputs": [
    {
     "data": {
      "text/plain": [
       "array([0.48134981, 0.59034187, 0.11299618, ..., 0.06110293, 0.07483319,\n",
       "       0.60933042])"
      ]
     },
     "execution_count": 64,
     "metadata": {},
     "output_type": "execute_result"
    }
   ],
   "source": [
    "y_prob"
   ]
  },
  {
   "cell_type": "code",
   "execution_count": 65,
   "id": "5ea82d26",
   "metadata": {},
   "outputs": [],
   "source": [
    "@scoring_func\n",
    "def score(model, request):\n",
    "    payload_dict = request.json[\"payload\"]\n",
    "    data = pd.DataFrame(payload_dict,index=[0])\n",
    "    y_pred = model.predict(data)\n",
    "    y_prob = model.predict_proba(data)[:,1]\n",
    "    temp_dict = {\"Prediction: \": np.round(y_pred), \"Probability: \": y_prob }\n",
    "    return temp_dict"
   ]
  },
  {
   "cell_type": "code",
   "execution_count": 66,
   "id": "8583889e",
   "metadata": {},
   "outputs": [
    {
     "name": "stdout",
     "output_type": "stream",
     "text": [
      "{ \"payload\":  {'NAME_CONTRACT_TYPE_x': 0.0, 'CODE_GENDER': 0.0, 'FLAG_OWN_CAR': 0.0, 'FLAG_OWN_REALTY': 0.0, 'CNT_CHILDREN': 2.0, 'AMT_INCOME_TOTAL': 450000.0, 'AMT_CREDIT_x': 450000.0, 'AMT_ANNUITY_x': 20979.0, 'AMT_GOODS_PRICE_x': 450000.0, 'NAME_TYPE_SUITE_x': 0.0, 'NAME_INCOME_TYPE': 0.0, 'NAME_EDUCATION_TYPE': 0.0, 'NAME_FAMILY_STATUS': 0.0, 'NAME_HOUSING_TYPE': 0.0, 'REGION_POPULATION_RELATIVE': 0.00733, 'DAYS_BIRTH': -10860.0, 'DAYS_EMPLOYED': -215.0, 'DAYS_REGISTRATION': -4606.0, 'DAYS_ID_PUBLISH': -3485.0, 'OWN_CAR_AGE': 6.0, 'FLAG_MOBIL': 1.0, 'FLAG_EMP_PHONE': 1.0, 'FLAG_WORK_PHONE': 0.0, 'FLAG_CONT_MOBILE': 1.0, 'FLAG_PHONE': 0.0, 'FLAG_EMAIL': 0.0, 'OCCUPATION_TYPE': 0.0, 'CNT_FAM_MEMBERS': 4.0, 'REGION_RATING_CLIENT': 2.0, 'REGION_RATING_CLIENT_W_CITY': 2.0, 'WEEKDAY_APPR_PROCESS_START_x': 0.0, 'HOUR_APPR_PROCESS_START_x': 10.0, 'REG_REGION_NOT_LIVE_REGION': 1.0, 'REG_REGION_NOT_WORK_REGION': 1.0, 'LIVE_REGION_NOT_WORK_REGION': 0.0, 'REG_CITY_NOT_LIVE_CITY': 1.0, 'REG_CITY_NOT_WORK_CITY': 1.0, 'LIVE_CITY_NOT_WORK_CITY': 1.0, 'ORGANIZATION_TYPE': 0.0, 'EXT_SOURCE_1': 0.0, 'EXT_SOURCE_2': 0.0, 'EXT_SOURCE_3': 0.4956658291397297, 'APARTMENTS_AVG': 0.0, 'BASEMENTAREA_AVG': 0.0, 'YEARS_BEGINEXPLUATATION_AVG': 0.0, 'YEARS_BUILD_AVG': 0.0, 'COMMONAREA_AVG': 0.0, 'ELEVATORS_AVG': 0.0, 'ENTRANCES_AVG': 0.0, 'FLOORSMAX_AVG': 0.0, 'FLOORSMIN_AVG': 0.0, 'LANDAREA_AVG': 0.0, 'LIVINGAPARTMENTS_AVG': 0.0, 'LIVINGAREA_AVG': 0.0, 'NONLIVINGAPARTMENTS_AVG': 0.0, 'NONLIVINGAREA_AVG': 0.0, 'APARTMENTS_MODE': 0.0, 'BASEMENTAREA_MODE': 0.0, 'YEARS_BEGINEXPLUATATION_MODE': 0.0, 'YEARS_BUILD_MODE': 0.0, 'COMMONAREA_MODE': 0.0, 'ELEVATORS_MODE': 0.0, 'ENTRANCES_MODE': 0.0, 'FLOORSMAX_MODE': 0.0, 'FLOORSMIN_MODE': 0.0, 'LANDAREA_MODE': 0.0, 'LIVINGAPARTMENTS_MODE': 0.0, 'LIVINGAREA_MODE': 0.0, 'NONLIVINGAPARTMENTS_MODE': 0.0, 'NONLIVINGAREA_MODE': 0.0, 'APARTMENTS_MEDI': 0.0, 'BASEMENTAREA_MEDI': 0.0, 'YEARS_BEGINEXPLUATATION_MEDI': 0.0, 'YEARS_BUILD_MEDI': 0.0, 'COMMONAREA_MEDI': 0.0, 'ELEVATORS_MEDI': 0.0, 'ENTRANCES_MEDI': 0.0, 'FLOORSMAX_MEDI': 0.0, 'FLOORSMIN_MEDI': 0.0, 'LANDAREA_MEDI': 0.0, 'LIVINGAPARTMENTS_MEDI': 0.0, 'LIVINGAREA_MEDI': 0.0, 'NONLIVINGAPARTMENTS_MEDI': 0.0, 'NONLIVINGAREA_MEDI': 0.0, 'FONDKAPREMONT_MODE': 0.0, 'HOUSETYPE_MODE': 0.0, 'TOTALAREA_MODE': 0.0, 'WALLSMATERIAL_MODE': 0.0, 'EMERGENCYSTATE_MODE': 0.0, 'OBS_30_CNT_SOCIAL_CIRCLE': 0.0, 'DEF_30_CNT_SOCIAL_CIRCLE': 0.0, 'OBS_60_CNT_SOCIAL_CIRCLE': 0.0, 'DEF_60_CNT_SOCIAL_CIRCLE': 0.0, 'DAYS_LAST_PHONE_CHANGE': -1929.0, 'FLAG_DOCUMENT_2': 0.0, 'FLAG_DOCUMENT_3': 0.0, 'FLAG_DOCUMENT_4': 0.0, 'FLAG_DOCUMENT_5': 1.0, 'FLAG_DOCUMENT_6': 0.0, 'FLAG_DOCUMENT_7': 0.0, 'FLAG_DOCUMENT_8': 0.0, 'FLAG_DOCUMENT_9': 0.0, 'FLAG_DOCUMENT_10': 0.0, 'FLAG_DOCUMENT_11': 0.0, 'FLAG_DOCUMENT_12': 0.0, 'FLAG_DOCUMENT_13': 0.0, 'FLAG_DOCUMENT_14': 0.0, 'FLAG_DOCUMENT_15': 0.0, 'FLAG_DOCUMENT_16': 0.0, 'FLAG_DOCUMENT_17': 0.0, 'FLAG_DOCUMENT_18': 0.0, 'FLAG_DOCUMENT_19': 0.0, 'FLAG_DOCUMENT_20': 0.0, 'FLAG_DOCUMENT_21': 0.0, 'AMT_REQ_CREDIT_BUREAU_HOUR': 0.0, 'AMT_REQ_CREDIT_BUREAU_DAY': 0.0, 'AMT_REQ_CREDIT_BUREAU_WEEK': 0.0, 'AMT_REQ_CREDIT_BUREAU_MON': 0.0, 'AMT_REQ_CREDIT_BUREAU_QRT': 0.0, 'AMT_REQ_CREDIT_BUREAU_YEAR': 1.0, 'NAME_CONTRACT_TYPE_y': 0.5, 'AMT_ANNUITY_y': 15801.22125, 'AMT_APPLICATION': 120978.0, 'AMT_CREDIT_y': 124837.875, 'AMT_DOWN_PAYMENT': 11587.5, 'AMT_GOODS_PRICE_y': 120978.0, 'WEEKDAY_APPR_PROCESS_START_y': 2.75, 'HOUR_APPR_PROCESS_START_y': 12.25, 'FLAG_LAST_APPL_PER_CONTRACT': 0.0, 'NFLAG_LAST_APPL_IN_DAY': 1.0, 'RATE_DOWN_PAYMENT': 0.1316497451749993, 'RATE_INTEREST_PRIMARY': 0.0, 'RATE_INTEREST_PRIVILEGED': 0.0, 'NAME_CASH_LOAN_PURPOSE': 0.5, 'NAME_CONTRACT_STATUS': 0.5, 'DAYS_DECISION': -1138.0, 'NAME_PAYMENT_TYPE': 0.0, 'CODE_REJECT_REASON': 2.0, 'NAME_TYPE_SUITE_y': 3.25, 'NAME_CLIENT_TYPE': 1.25, 'NAME_GOODS_CATEGORY': 5.5, 'NAME_PORTFOLIO': 1.0, 'NAME_PRODUCT_TYPE': 1.0, 'CHANNEL_TYPE': 0.0, 'SELLERPLACE_AREA': 132.25, 'NAME_SELLER_INDUSTRY': 0.5, 'CNT_PAYMENT': 10.5, 'NAME_YIELD_GROUP': 0.75, 'PRODUCT_COMBINATION': 8.25, 'DAYS_FIRST_DRAWING': 365243.0, 'DAYS_FIRST_DUE': -1472.0, 'DAYS_LAST_DUE_1ST_VERSION': -1142.0, 'DAYS_LAST_DUE': -1142.0, 'DAYS_TERMINATION': -1128.0, 'NFLAG_INSURED_ON_APPROVAL': 0.0, 'nb_app': 4.0} }\n"
     ]
    }
   ],
   "source": [
    "payload  = x_train.iloc[0].to_dict()\n",
    "print ('{ \"payload\": ', payload, \"}\")"
   ]
  },
  {
   "cell_type": "code",
   "execution_count": 67,
   "id": "2ec03f0a",
   "metadata": {},
   "outputs": [
    {
     "data": {
      "text/plain": [
       "{'Prediction: ': array([0]), 'Probability: ': array([0.48134981])}"
      ]
     },
     "execution_count": 67,
     "metadata": {},
     "output_type": "execute_result"
    }
   ],
   "source": [
    "req = requests.Request()\n",
    "req.json = {\"payload\":payload}\n",
    "y_req = req\n",
    "score(CBC, y_req)"
   ]
  },
  {
   "cell_type": "code",
   "execution_count": 68,
   "id": "e1f69e47",
   "metadata": {},
   "outputs": [
    {
     "name": "stdout",
     "output_type": "stream",
     "text": [
      "Calculating build time metrics\n",
      "\n",
      "Progress: ██████████████████████████████████████████████████████████████████████ 100.0%\n"
     ]
    },
    {
     "data": {
      "application/vnd.jupyter.widget-view+json": {
       "model_id": "6b62f84e562c473f9a3c766aba055a0f",
       "version_major": 2,
       "version_minor": 0
      },
      "text/plain": [
       "VBox(children=(HTML(value='<style>.grad_1{background: #2468a4;} .grad_2{ color:white; background: #2468a4;}</s…"
      ]
     },
     "metadata": {},
     "output_type": "display_data"
    }
   ],
   "source": [
    "## registering the model in Fosfor.\n",
    "model_reg = register_model(CBC,\n",
    "               score, \n",
    "               name=\"Credit_Risk_CATBoost_Classifier\", \n",
    "               description=\"Credit Risk CatBoost Classification Model\",\n",
    "               flavour=MLModelFlavours.sklearn,\n",
    "               model_type=\"classification\",\n",
    "               init_script=\"pip install snowflake-ml-python==1.0.11\",\n",
    "               y_true=y_train,\n",
    "               y_pred=y_pred,\n",
    "               prob=y_prob,\n",
    "               features=x_train.columns,\n",
    "               input_type=\"json\", \n",
    "               explain_ai=True,\n",
    "               x_train=x_train, \n",
    "               x_test=x_train, \n",
    "               y_train=y_train.tolist(),\n",
    "               y_test=y_train.tolist(),\n",
    "               feature_names=x_train.columns.tolist(),\n",
    "               original_features=x_train.columns.tolist(),\n",
    "               feature_ids=x_train.columns,\n",
    "               kyd=True, kyd_score = True)"
   ]
  },
  {
   "cell_type": "code",
   "execution_count": 69,
   "id": "6179acd1",
   "metadata": {},
   "outputs": [],
   "source": [
    "with open('/data/Output/CreditRisk_CatBoostclassifier_v1.pkl', 'wb') as f:  # open a text file\n",
    "    pickle.dump(CBC, f) # serialize the list"
   ]
  },
  {
   "cell_type": "code",
   "execution_count": 70,
   "id": "acc23d5c",
   "metadata": {},
   "outputs": [],
   "source": [
    "with open('model_artifacts/CreditRisk_CatBoostclassifier_v1.pkl', 'wb') as f:  # open a text file\n",
    "    pickle.dump(CBC, f) # serialize the list"
   ]
  },
  {
   "cell_type": "markdown",
   "id": "8b5ee9bf",
   "metadata": {},
   "source": [
    "# Version 1 of Stacking Classifier"
   ]
  },
  {
   "cell_type": "code",
   "execution_count": 71,
   "id": "f9de51e9",
   "metadata": {},
   "outputs": [],
   "source": [
    "x_train_XGB = gbdt.predict(xgb.DMatrix(x_train))\n",
    "x_train_RFC = RFC.predict_proba(x_train)[:,1]\n",
    "x_train_ETC = ETC.predict_proba(x_train)[:,1]\n",
    "x_train_CBC = CBC.predict_proba(x_train)[:,1]"
   ]
  },
  {
   "cell_type": "code",
   "execution_count": 72,
   "id": "b8874b70",
   "metadata": {},
   "outputs": [],
   "source": [
    "x_test_XGB = gbdt.predict(xgb.DMatrix(x_test))\n",
    "x_test_RFC = RFC.predict_proba(x_test)[:,1]\n",
    "x_test_ETC = ETC.predict_proba(x_test)[:,1]\n",
    "x_test_CBC = CBC.predict_proba(x_test)[:,1]"
   ]
  },
  {
   "cell_type": "code",
   "execution_count": 73,
   "id": "f8883f7b",
   "metadata": {},
   "outputs": [],
   "source": [
    "x_train_XGBT = x_train_XGB.reshape(-1,1)\n",
    "x_train_RFCT = x_train_RFC.reshape(-1,1)\n",
    "x_train_ETCT = x_train_ETC.reshape(-1,1)\n",
    "x_train_CBCT = x_train_CBC.reshape(-1,1)"
   ]
  },
  {
   "cell_type": "code",
   "execution_count": 74,
   "id": "29974030",
   "metadata": {},
   "outputs": [],
   "source": [
    "x_train_stk = np.concatenate((x_train_XGBT, x_train_RFCT, x_train_ETCT, x_train_CBCT),axis=1)"
   ]
  },
  {
   "cell_type": "code",
   "execution_count": 75,
   "id": "5de8ff75",
   "metadata": {},
   "outputs": [
    {
     "data": {
      "text/plain": [
       "(307511, 4)"
      ]
     },
     "execution_count": 75,
     "metadata": {},
     "output_type": "execute_result"
    }
   ],
   "source": [
    "x_train_stk.shape"
   ]
  },
  {
   "cell_type": "code",
   "execution_count": 76,
   "id": "e4bdb968",
   "metadata": {},
   "outputs": [],
   "source": [
    "x_test_XGBT = x_test_XGB.reshape(-1,1)\n",
    "x_test_RFCT = x_test_RFC.reshape(-1,1)\n",
    "x_test_ETCT = x_test_ETC.reshape(-1,1)\n",
    "x_test_CBCT = x_test_CBC.reshape(-1,1)"
   ]
  },
  {
   "cell_type": "code",
   "execution_count": 77,
   "id": "34abf5f0",
   "metadata": {},
   "outputs": [
    {
     "data": {
      "text/plain": [
       "(48744, 4)"
      ]
     },
     "execution_count": 77,
     "metadata": {},
     "output_type": "execute_result"
    }
   ],
   "source": [
    "x_test_stk = np.concatenate((x_test_XGBT, x_test_RFCT, x_test_ETCT, x_test_CBCT),axis=1)\n",
    "x_test_stk.shape"
   ]
  },
  {
   "cell_type": "code",
   "execution_count": 78,
   "id": "ac9a9b67",
   "metadata": {},
   "outputs": [
    {
     "data": {
      "text/html": [
       "<style>#sk-container-id-3 {color: black;background-color: white;}#sk-container-id-3 pre{padding: 0;}#sk-container-id-3 div.sk-toggleable {background-color: white;}#sk-container-id-3 label.sk-toggleable__label {cursor: pointer;display: block;width: 100%;margin-bottom: 0;padding: 0.3em;box-sizing: border-box;text-align: center;}#sk-container-id-3 label.sk-toggleable__label-arrow:before {content: \"▸\";float: left;margin-right: 0.25em;color: #696969;}#sk-container-id-3 label.sk-toggleable__label-arrow:hover:before {color: black;}#sk-container-id-3 div.sk-estimator:hover label.sk-toggleable__label-arrow:before {color: black;}#sk-container-id-3 div.sk-toggleable__content {max-height: 0;max-width: 0;overflow: hidden;text-align: left;background-color: #f0f8ff;}#sk-container-id-3 div.sk-toggleable__content pre {margin: 0.2em;color: black;border-radius: 0.25em;background-color: #f0f8ff;}#sk-container-id-3 input.sk-toggleable__control:checked~div.sk-toggleable__content {max-height: 200px;max-width: 100%;overflow: auto;}#sk-container-id-3 input.sk-toggleable__control:checked~label.sk-toggleable__label-arrow:before {content: \"▾\";}#sk-container-id-3 div.sk-estimator input.sk-toggleable__control:checked~label.sk-toggleable__label {background-color: #d4ebff;}#sk-container-id-3 div.sk-label input.sk-toggleable__control:checked~label.sk-toggleable__label {background-color: #d4ebff;}#sk-container-id-3 input.sk-hidden--visually {border: 0;clip: rect(1px 1px 1px 1px);clip: rect(1px, 1px, 1px, 1px);height: 1px;margin: -1px;overflow: hidden;padding: 0;position: absolute;width: 1px;}#sk-container-id-3 div.sk-estimator {font-family: monospace;background-color: #f0f8ff;border: 1px dotted black;border-radius: 0.25em;box-sizing: border-box;margin-bottom: 0.5em;}#sk-container-id-3 div.sk-estimator:hover {background-color: #d4ebff;}#sk-container-id-3 div.sk-parallel-item::after {content: \"\";width: 100%;border-bottom: 1px solid gray;flex-grow: 1;}#sk-container-id-3 div.sk-label:hover label.sk-toggleable__label {background-color: #d4ebff;}#sk-container-id-3 div.sk-serial::before {content: \"\";position: absolute;border-left: 1px solid gray;box-sizing: border-box;top: 0;bottom: 0;left: 50%;z-index: 0;}#sk-container-id-3 div.sk-serial {display: flex;flex-direction: column;align-items: center;background-color: white;padding-right: 0.2em;padding-left: 0.2em;position: relative;}#sk-container-id-3 div.sk-item {position: relative;z-index: 1;}#sk-container-id-3 div.sk-parallel {display: flex;align-items: stretch;justify-content: center;background-color: white;position: relative;}#sk-container-id-3 div.sk-item::before, #sk-container-id-3 div.sk-parallel-item::before {content: \"\";position: absolute;border-left: 1px solid gray;box-sizing: border-box;top: 0;bottom: 0;left: 50%;z-index: -1;}#sk-container-id-3 div.sk-parallel-item {display: flex;flex-direction: column;z-index: 1;position: relative;background-color: white;}#sk-container-id-3 div.sk-parallel-item:first-child::after {align-self: flex-end;width: 50%;}#sk-container-id-3 div.sk-parallel-item:last-child::after {align-self: flex-start;width: 50%;}#sk-container-id-3 div.sk-parallel-item:only-child::after {width: 0;}#sk-container-id-3 div.sk-dashed-wrapped {border: 1px dashed gray;margin: 0 0.4em 0.5em 0.4em;box-sizing: border-box;padding-bottom: 0.4em;background-color: white;}#sk-container-id-3 div.sk-label label {font-family: monospace;font-weight: bold;display: inline-block;line-height: 1.2em;}#sk-container-id-3 div.sk-label-container {text-align: center;}#sk-container-id-3 div.sk-container {/* jupyter's `normalize.less` sets `[hidden] { display: none; }` but bootstrap.min.css set `[hidden] { display: none !important; }` so we also need the `!important` here to be able to override the default hidden behavior on the sphinx rendered scikit-learn.org. See: https://github.com/scikit-learn/scikit-learn/issues/21755 */display: inline-block !important;position: relative;}#sk-container-id-3 div.sk-text-repr-fallback {display: none;}</style><div id=\"sk-container-id-3\" class=\"sk-top-container\"><div class=\"sk-text-repr-fallback\"><pre>RandomForestClassifier()</pre><b>In a Jupyter environment, please rerun this cell to show the HTML representation or trust the notebook. <br />On GitHub, the HTML representation is unable to render, please try loading this page with nbviewer.org.</b></div><div class=\"sk-container\" hidden><div class=\"sk-item\"><div class=\"sk-estimator sk-toggleable\"><input class=\"sk-toggleable__control sk-hidden--visually\" id=\"sk-estimator-id-3\" type=\"checkbox\" checked><label for=\"sk-estimator-id-3\" class=\"sk-toggleable__label sk-toggleable__label-arrow\">RandomForestClassifier</label><div class=\"sk-toggleable__content\"><pre>RandomForestClassifier()</pre></div></div></div></div></div>"
      ],
      "text/plain": [
       "RandomForestClassifier()"
      ]
     },
     "execution_count": 78,
     "metadata": {},
     "output_type": "execute_result"
    }
   ],
   "source": [
    "RFC_Stack = RandomForestClassifier()\n",
    "RFC_Stack.fit(x_train_stk,y_train)"
   ]
  },
  {
   "cell_type": "code",
   "execution_count": 79,
   "id": "6f3aa01f",
   "metadata": {},
   "outputs": [],
   "source": [
    "y_pred_stk = RFC_Stack.predict(x_train_stk)\n",
    "y_prob_stk = RFC_Stack.predict_proba(x_train_stk)[:,1]"
   ]
  },
  {
   "cell_type": "code",
   "execution_count": 80,
   "id": "a24f7eac",
   "metadata": {},
   "outputs": [],
   "source": [
    "ytest_pred_stk = RFC_Stack.predict(x_test_stk)\n",
    "ytest_prob_stk = RFC_Stack.predict_proba(x_test_stk)[:,1]"
   ]
  },
  {
   "cell_type": "code",
   "execution_count": 81,
   "id": "2bacd8eb",
   "metadata": {},
   "outputs": [
    {
     "data": {
      "text/plain": [
       "array([0, 1, 0, ..., 0, 0, 0], dtype=int8)"
      ]
     },
     "execution_count": 81,
     "metadata": {},
     "output_type": "execute_result"
    }
   ],
   "source": [
    "y_pred_stk"
   ]
  },
  {
   "cell_type": "code",
   "execution_count": 82,
   "id": "88f62f18",
   "metadata": {},
   "outputs": [
    {
     "data": {
      "text/plain": [
       "array([0.07, 0.92, 0.03, ..., 0.  , 0.  , 0.02])"
      ]
     },
     "execution_count": 82,
     "metadata": {},
     "output_type": "execute_result"
    }
   ],
   "source": [
    "y_prob_stk"
   ]
  },
  {
   "cell_type": "code",
   "execution_count": 83,
   "id": "76efbe10",
   "metadata": {},
   "outputs": [],
   "source": [
    "@scoring_func\n",
    "def score(model, request):\n",
    "    payload_dict = request.json[\"payload\"]\n",
    "    data = pd.DataFrame(payload_dict,index=[0])\n",
    "    \n",
    "    data_XGB = gbdt.predict(xgb.DMatrix(data))\n",
    "    data_RFC = RFC.predict_proba(data)[:,1]\n",
    "    data_ETC = ETC.predict_proba(data)[:,1]\n",
    "    data_CBC = CBC.predict_proba(data)[:,1]\n",
    "    \n",
    "    data_XGBT = data_XGB.reshape(-1,1)\n",
    "    data_RFCT = data_RFC.reshape(-1,1)\n",
    "    data_ETCT = data_ETC.reshape(-1,1)\n",
    "    data_CBCT = data_CBC.reshape(-1,1)\n",
    "    \n",
    "    data = np.concatenate((data_XGBT, data_RFCT, data_ETCT, data_CBCT), axis=1)\n",
    "    \n",
    "    y_pred = model.predict(data)\n",
    "    y_prob = model.predict_proba(data)[:,1]\n",
    "    temp_dict = {\"Prediction: \": np.round(y_pred), \"Probability: \": y_prob }\n",
    "    return temp_dict"
   ]
  },
  {
   "cell_type": "code",
   "execution_count": 84,
   "id": "c1fbcb01",
   "metadata": {},
   "outputs": [
    {
     "name": "stdout",
     "output_type": "stream",
     "text": [
      "{ \"payload\":  {'NAME_CONTRACT_TYPE_x': 0.0, 'CODE_GENDER': 0.0, 'FLAG_OWN_CAR': 0.0, 'FLAG_OWN_REALTY': 0.0, 'CNT_CHILDREN': 2.0, 'AMT_INCOME_TOTAL': 450000.0, 'AMT_CREDIT_x': 450000.0, 'AMT_ANNUITY_x': 20979.0, 'AMT_GOODS_PRICE_x': 450000.0, 'NAME_TYPE_SUITE_x': 0.0, 'NAME_INCOME_TYPE': 0.0, 'NAME_EDUCATION_TYPE': 0.0, 'NAME_FAMILY_STATUS': 0.0, 'NAME_HOUSING_TYPE': 0.0, 'REGION_POPULATION_RELATIVE': 0.00733, 'DAYS_BIRTH': -10860.0, 'DAYS_EMPLOYED': -215.0, 'DAYS_REGISTRATION': -4606.0, 'DAYS_ID_PUBLISH': -3485.0, 'OWN_CAR_AGE': 6.0, 'FLAG_MOBIL': 1.0, 'FLAG_EMP_PHONE': 1.0, 'FLAG_WORK_PHONE': 0.0, 'FLAG_CONT_MOBILE': 1.0, 'FLAG_PHONE': 0.0, 'FLAG_EMAIL': 0.0, 'OCCUPATION_TYPE': 0.0, 'CNT_FAM_MEMBERS': 4.0, 'REGION_RATING_CLIENT': 2.0, 'REGION_RATING_CLIENT_W_CITY': 2.0, 'WEEKDAY_APPR_PROCESS_START_x': 0.0, 'HOUR_APPR_PROCESS_START_x': 10.0, 'REG_REGION_NOT_LIVE_REGION': 1.0, 'REG_REGION_NOT_WORK_REGION': 1.0, 'LIVE_REGION_NOT_WORK_REGION': 0.0, 'REG_CITY_NOT_LIVE_CITY': 1.0, 'REG_CITY_NOT_WORK_CITY': 1.0, 'LIVE_CITY_NOT_WORK_CITY': 1.0, 'ORGANIZATION_TYPE': 0.0, 'EXT_SOURCE_1': 0.0, 'EXT_SOURCE_2': 0.0, 'EXT_SOURCE_3': 0.4956658291397297, 'APARTMENTS_AVG': 0.0, 'BASEMENTAREA_AVG': 0.0, 'YEARS_BEGINEXPLUATATION_AVG': 0.0, 'YEARS_BUILD_AVG': 0.0, 'COMMONAREA_AVG': 0.0, 'ELEVATORS_AVG': 0.0, 'ENTRANCES_AVG': 0.0, 'FLOORSMAX_AVG': 0.0, 'FLOORSMIN_AVG': 0.0, 'LANDAREA_AVG': 0.0, 'LIVINGAPARTMENTS_AVG': 0.0, 'LIVINGAREA_AVG': 0.0, 'NONLIVINGAPARTMENTS_AVG': 0.0, 'NONLIVINGAREA_AVG': 0.0, 'APARTMENTS_MODE': 0.0, 'BASEMENTAREA_MODE': 0.0, 'YEARS_BEGINEXPLUATATION_MODE': 0.0, 'YEARS_BUILD_MODE': 0.0, 'COMMONAREA_MODE': 0.0, 'ELEVATORS_MODE': 0.0, 'ENTRANCES_MODE': 0.0, 'FLOORSMAX_MODE': 0.0, 'FLOORSMIN_MODE': 0.0, 'LANDAREA_MODE': 0.0, 'LIVINGAPARTMENTS_MODE': 0.0, 'LIVINGAREA_MODE': 0.0, 'NONLIVINGAPARTMENTS_MODE': 0.0, 'NONLIVINGAREA_MODE': 0.0, 'APARTMENTS_MEDI': 0.0, 'BASEMENTAREA_MEDI': 0.0, 'YEARS_BEGINEXPLUATATION_MEDI': 0.0, 'YEARS_BUILD_MEDI': 0.0, 'COMMONAREA_MEDI': 0.0, 'ELEVATORS_MEDI': 0.0, 'ENTRANCES_MEDI': 0.0, 'FLOORSMAX_MEDI': 0.0, 'FLOORSMIN_MEDI': 0.0, 'LANDAREA_MEDI': 0.0, 'LIVINGAPARTMENTS_MEDI': 0.0, 'LIVINGAREA_MEDI': 0.0, 'NONLIVINGAPARTMENTS_MEDI': 0.0, 'NONLIVINGAREA_MEDI': 0.0, 'FONDKAPREMONT_MODE': 0.0, 'HOUSETYPE_MODE': 0.0, 'TOTALAREA_MODE': 0.0, 'WALLSMATERIAL_MODE': 0.0, 'EMERGENCYSTATE_MODE': 0.0, 'OBS_30_CNT_SOCIAL_CIRCLE': 0.0, 'DEF_30_CNT_SOCIAL_CIRCLE': 0.0, 'OBS_60_CNT_SOCIAL_CIRCLE': 0.0, 'DEF_60_CNT_SOCIAL_CIRCLE': 0.0, 'DAYS_LAST_PHONE_CHANGE': -1929.0, 'FLAG_DOCUMENT_2': 0.0, 'FLAG_DOCUMENT_3': 0.0, 'FLAG_DOCUMENT_4': 0.0, 'FLAG_DOCUMENT_5': 1.0, 'FLAG_DOCUMENT_6': 0.0, 'FLAG_DOCUMENT_7': 0.0, 'FLAG_DOCUMENT_8': 0.0, 'FLAG_DOCUMENT_9': 0.0, 'FLAG_DOCUMENT_10': 0.0, 'FLAG_DOCUMENT_11': 0.0, 'FLAG_DOCUMENT_12': 0.0, 'FLAG_DOCUMENT_13': 0.0, 'FLAG_DOCUMENT_14': 0.0, 'FLAG_DOCUMENT_15': 0.0, 'FLAG_DOCUMENT_16': 0.0, 'FLAG_DOCUMENT_17': 0.0, 'FLAG_DOCUMENT_18': 0.0, 'FLAG_DOCUMENT_19': 0.0, 'FLAG_DOCUMENT_20': 0.0, 'FLAG_DOCUMENT_21': 0.0, 'AMT_REQ_CREDIT_BUREAU_HOUR': 0.0, 'AMT_REQ_CREDIT_BUREAU_DAY': 0.0, 'AMT_REQ_CREDIT_BUREAU_WEEK': 0.0, 'AMT_REQ_CREDIT_BUREAU_MON': 0.0, 'AMT_REQ_CREDIT_BUREAU_QRT': 0.0, 'AMT_REQ_CREDIT_BUREAU_YEAR': 1.0, 'NAME_CONTRACT_TYPE_y': 0.5, 'AMT_ANNUITY_y': 15801.22125, 'AMT_APPLICATION': 120978.0, 'AMT_CREDIT_y': 124837.875, 'AMT_DOWN_PAYMENT': 11587.5, 'AMT_GOODS_PRICE_y': 120978.0, 'WEEKDAY_APPR_PROCESS_START_y': 2.75, 'HOUR_APPR_PROCESS_START_y': 12.25, 'FLAG_LAST_APPL_PER_CONTRACT': 0.0, 'NFLAG_LAST_APPL_IN_DAY': 1.0, 'RATE_DOWN_PAYMENT': 0.1316497451749993, 'RATE_INTEREST_PRIMARY': 0.0, 'RATE_INTEREST_PRIVILEGED': 0.0, 'NAME_CASH_LOAN_PURPOSE': 0.5, 'NAME_CONTRACT_STATUS': 0.5, 'DAYS_DECISION': -1138.0, 'NAME_PAYMENT_TYPE': 0.0, 'CODE_REJECT_REASON': 2.0, 'NAME_TYPE_SUITE_y': 3.25, 'NAME_CLIENT_TYPE': 1.25, 'NAME_GOODS_CATEGORY': 5.5, 'NAME_PORTFOLIO': 1.0, 'NAME_PRODUCT_TYPE': 1.0, 'CHANNEL_TYPE': 0.0, 'SELLERPLACE_AREA': 132.25, 'NAME_SELLER_INDUSTRY': 0.5, 'CNT_PAYMENT': 10.5, 'NAME_YIELD_GROUP': 0.75, 'PRODUCT_COMBINATION': 8.25, 'DAYS_FIRST_DRAWING': 365243.0, 'DAYS_FIRST_DUE': -1472.0, 'DAYS_LAST_DUE_1ST_VERSION': -1142.0, 'DAYS_LAST_DUE': -1142.0, 'DAYS_TERMINATION': -1128.0, 'NFLAG_INSURED_ON_APPROVAL': 0.0, 'nb_app': 4.0} }\n"
     ]
    }
   ],
   "source": [
    "payload  = x_train.iloc[0].to_dict()\n",
    "print ('{ \"payload\": ', payload, \"}\")"
   ]
  },
  {
   "cell_type": "code",
   "execution_count": 85,
   "id": "d891d770",
   "metadata": {},
   "outputs": [
    {
     "data": {
      "text/plain": [
       "{'Prediction: ': array([0], dtype=int8), 'Probability: ': array([0.07])}"
      ]
     },
     "execution_count": 85,
     "metadata": {},
     "output_type": "execute_result"
    }
   ],
   "source": [
    "req = requests.Request()\n",
    "req.json = {\"payload\":payload}\n",
    "y_req = req\n",
    "score(RFC_Stack, y_req)"
   ]
  },
  {
   "cell_type": "code",
   "execution_count": 86,
   "id": "8b9ab563",
   "metadata": {},
   "outputs": [
    {
     "name": "stdout",
     "output_type": "stream",
     "text": [
      "Calculating build time metrics\n",
      "\n",
      "Progress: ██████████████████████████████████████████████████████████████████████ 100.0%\n"
     ]
    },
    {
     "data": {
      "application/vnd.jupyter.widget-view+json": {
       "model_id": "1674d67c2138406781fdc5f07e249a0a",
       "version_major": 2,
       "version_minor": 0
      },
      "text/plain": [
       "VBox(children=(HTML(value='<style>.grad_1{background: #2468a4;} .grad_2{ color:white; background: #2468a4;}</s…"
      ]
     },
     "metadata": {},
     "output_type": "display_data"
    }
   ],
   "source": [
    "## registering the model in Fosfor.\n",
    "model_reg = register_model(RFC_Stack,\n",
    "               score, \n",
    "               name=\"Credit_Risk_StackedRF_Classifier\", \n",
    "               description=\"Credit Risk Stacked RF Classification Model\",\n",
    "               flavour=MLModelFlavours.sklearn,\n",
    "               model_type=\"classification\",\n",
    "               init_script=\"pip install snowflake-ml-python==1.0.11\",\n",
    "               y_true=y_train,\n",
    "               y_pred=y_pred,\n",
    "               prob=y_prob,\n",
    "               features=x_train.columns,\n",
    "               input_type=\"json\", \n",
    "               explain_ai=True,\n",
    "               x_train=x_train, \n",
    "               x_test=x_train, \n",
    "               y_train=y_train.tolist(),\n",
    "               y_test=y_train.tolist(),\n",
    "               feature_names=x_train.columns.tolist(),\n",
    "               original_features=x_train.columns.tolist(),\n",
    "               feature_ids=x_train.columns,\n",
    "               kyd=True, kyd_score = True)"
   ]
  },
  {
   "cell_type": "code",
   "execution_count": 87,
   "id": "e9ffb188",
   "metadata": {},
   "outputs": [],
   "source": [
    "with open('/data/Output/CreditRisk_StackedRFclassifier_v1.pkl', 'wb') as f:  # open a text file\n",
    "    pickle.dump(RFC_Stack, f) # serialize the list"
   ]
  },
  {
   "cell_type": "code",
   "execution_count": 88,
   "id": "04f8d862",
   "metadata": {},
   "outputs": [],
   "source": [
    "with open('model_artifacts/CreditRisk_StackedRFclassifier_v1.pkl', 'wb') as f:  # open a text file\n",
    "    pickle.dump(RFC_Stack, f) # serialize the list"
   ]
  },
  {
   "cell_type": "markdown",
   "id": "32881dd6",
   "metadata": {},
   "source": [
    "# Version 2 of Stacking Classifier"
   ]
  },
  {
   "cell_type": "code",
   "execution_count": 89,
   "id": "63323bd6",
   "metadata": {},
   "outputs": [
    {
     "data": {
      "text/plain": [
       "array([0.26, 0.84, 0.01, ..., 0.  , 0.  , 0.04])"
      ]
     },
     "execution_count": 89,
     "metadata": {},
     "output_type": "execute_result"
    }
   ],
   "source": [
    "x_train_stk = np.concatenate((x_train_RFCT, x_train_ETCT, x_train_CBCT),axis=1)\n",
    "x_test_stk = np.concatenate(( x_test_RFCT, x_test_ETCT, x_test_CBCT),axis=1)\n",
    "\n",
    "RFC_Stack = RandomForestClassifier()\n",
    "RFC_Stack.fit(x_train_stk,y_train)\n",
    "\n",
    "y_pred_stk = RFC_Stack.predict(x_train_stk)\n",
    "y_prob_stk = RFC_Stack.predict_proba(x_train_stk)[:,1]\n",
    "\n",
    "ytest_pred_stk = RFC_Stack.predict(x_test_stk)\n",
    "ytest_prob_stk = RFC_Stack.predict_proba(x_test_stk)[:,1]\n",
    "\n",
    "y_pred_stk\n",
    "y_prob_stk"
   ]
  },
  {
   "cell_type": "code",
   "execution_count": 90,
   "id": "7a629b03",
   "metadata": {},
   "outputs": [],
   "source": [
    "@scoring_func\n",
    "def score(model, request):\n",
    "    payload_dict = request.json[\"payload\"]\n",
    "    data = pd.DataFrame(payload_dict,index=[0])\n",
    "    \n",
    "    #data_XGB = gbdt.predict(xgb.DMatrix(data))\n",
    "    data_RFC = RFC.predict_proba(data)[:,1]\n",
    "    data_ETC = ETC.predict_proba(data)[:,1]\n",
    "    data_CBC = CBC.predict_proba(data)[:,1]\n",
    "    \n",
    "    #data_XGBT = data_XGB.reshape(-1,1)\n",
    "    data_RFCT = data_RFC.reshape(-1,1)\n",
    "    data_ETCT = data_ETC.reshape(-1,1)\n",
    "    data_CBCT = data_CBC.reshape(-1,1)\n",
    "    \n",
    "    #data = np.concatenate((data_XGBT, data_RFCT, data_ETCT, data_CBCT), axis=1)\n",
    "    data = np.concatenate((data_RFCT, data_ETCT, data_CBCT), axis=1)\n",
    "    \n",
    "    y_pred = model.predict(data)\n",
    "    y_prob = model.predict_proba(data)[:,1]\n",
    "    temp_dict = {\"Prediction: \": np.round(y_pred), \"Probability: \": y_prob }\n",
    "    return temp_dict"
   ]
  },
  {
   "cell_type": "code",
   "execution_count": 91,
   "id": "6bb3a2ee",
   "metadata": {},
   "outputs": [
    {
     "name": "stdout",
     "output_type": "stream",
     "text": [
      "Calculating build time metrics\n",
      "\n",
      "Progress: ██████████████████████████████████████████████████████████████████████ 100.0%\n"
     ]
    },
    {
     "data": {
      "application/vnd.jupyter.widget-view+json": {
       "model_id": "8bb1572008b54828bff3f48eb3ab022d",
       "version_major": 2,
       "version_minor": 0
      },
      "text/plain": [
       "VBox(children=(HTML(value='<style>.grad_1{background: #2468a4;} .grad_2{ color:white; background: #2468a4;}</s…"
      ]
     },
     "metadata": {},
     "output_type": "display_data"
    }
   ],
   "source": [
    "## registering the model in Fosfor with correct output (y_pred_stk, y_prob_stk.\n",
    "model_reg = register_model(RFC_Stack,\n",
    "               score, \n",
    "               name=\"Credit_Risk_StackedRF_Classifier\", \n",
    "               description=\"Credit Risk Stacked RF Classification Model\",\n",
    "               flavour=MLModelFlavours.sklearn,\n",
    "               model_type=\"classification\",\n",
    "               init_script=\"pip install snowflake-ml-python==1.0.11\",\n",
    "               y_true=y_train,\n",
    "               y_pred=y_pred_stk,\n",
    "               prob=y_prob_stk,\n",
    "               features=x_train.columns,\n",
    "               input_type=\"json\", \n",
    "               explain_ai=True,\n",
    "               x_train=x_train, \n",
    "               x_test=x_train, \n",
    "               y_train=y_train.tolist(),\n",
    "               y_test=y_train.tolist(),\n",
    "               feature_names=x_train.columns.tolist(),\n",
    "               original_features=x_train.columns.tolist(),\n",
    "               feature_ids=x_train.columns,\n",
    "               kyd=True, kyd_score = True)"
   ]
  },
  {
   "cell_type": "code",
   "execution_count": 94,
   "id": "c4872330",
   "metadata": {},
   "outputs": [],
   "source": [
    "with open('/data/Output/CreditRisk_StackedRFclassifier_v2.pkl', 'wb') as f:  # open a text file\n",
    "    pickle.dump(RFC_Stack, f) # serialize the list"
   ]
  },
  {
   "cell_type": "code",
   "execution_count": 95,
   "id": "76a8cee6",
   "metadata": {},
   "outputs": [],
   "source": [
    "with open('model_artifacts/CreditRisk_StackedRFclassifier_v2.pkl', 'wb') as f:  # open a text file\n",
    "    pickle.dump(RFC_Stack, f) # serialize the list"
   ]
  },
  {
   "cell_type": "markdown",
   "id": "a4076d63",
   "metadata": {},
   "source": [
    "# Create Sample Dataframe/Table for Monitoring Setup "
   ]
  },
  {
   "cell_type": "code",
   "execution_count": 96,
   "id": "9f0a9fc3",
   "metadata": {},
   "outputs": [
    {
     "data": {
      "text/plain": [
       "((307511, 156), (307511,), (307511,), (307511,))"
      ]
     },
     "execution_count": 96,
     "metadata": {},
     "output_type": "execute_result"
    }
   ],
   "source": [
    "x_train.shape, y_train.shape, y_pred_stk.shape, y_prob_stk.shape"
   ]
  },
  {
   "cell_type": "code",
   "execution_count": 97,
   "id": "8d67b509",
   "metadata": {
    "scrolled": true
   },
   "outputs": [
    {
     "data": {
      "text/plain": [
       "((48744, 156), (48744,), (48744,))"
      ]
     },
     "execution_count": 97,
     "metadata": {},
     "output_type": "execute_result"
    }
   ],
   "source": [
    "x_test.shape ,  ytest_pred_stk.shape, ytest_prob_stk.shape"
   ]
  },
  {
   "cell_type": "code",
   "execution_count": 98,
   "id": "c59e5800",
   "metadata": {
    "scrolled": true
   },
   "outputs": [
    {
     "data": {
      "text/plain": [
       "(pandas.core.frame.DataFrame,\n",
       " pandas.core.series.Series,\n",
       " numpy.ndarray,\n",
       " numpy.ndarray)"
      ]
     },
     "execution_count": 98,
     "metadata": {},
     "output_type": "execute_result"
    }
   ],
   "source": [
    "type(x_train), type(y_train), type(y_pred_stk), type(y_prob_stk)"
   ]
  },
  {
   "cell_type": "code",
   "execution_count": 99,
   "id": "ec4c3e27",
   "metadata": {},
   "outputs": [],
   "source": [
    "df_pred_stk = pd.DataFrame(y_pred_stk, columns=['Prediction'])"
   ]
  },
  {
   "cell_type": "code",
   "execution_count": 100,
   "id": "ab859c3e",
   "metadata": {},
   "outputs": [],
   "source": [
    "df_prob_stk = pd.DataFrame(y_prob_stk, columns=['Probability'])"
   ]
  },
  {
   "cell_type": "code",
   "execution_count": 101,
   "id": "599c9b14",
   "metadata": {},
   "outputs": [],
   "source": [
    "df_train = pd.DataFrame(y_train, columns=['TARGET'])"
   ]
  },
  {
   "cell_type": "code",
   "execution_count": 102,
   "id": "37566685",
   "metadata": {},
   "outputs": [],
   "source": [
    "temp_df = pd.concat([x_train, df_train, df_pred_stk, df_prob_stk], axis=1)"
   ]
  },
  {
   "cell_type": "code",
   "execution_count": 103,
   "id": "3918ed4a",
   "metadata": {},
   "outputs": [],
   "source": [
    "temp_df.to_csv('/data/Output/application_train_output.csv')"
   ]
  },
  {
   "cell_type": "code",
   "execution_count": 104,
   "id": "c8b25721",
   "metadata": {},
   "outputs": [],
   "source": [
    "temp_df = pd.read_csv('/data/Output/application_train_output.csv')"
   ]
  },
  {
   "cell_type": "code",
   "execution_count": 105,
   "id": "c26f53f5",
   "metadata": {},
   "outputs": [],
   "source": [
    "temp_df_1 = temp_df.sample(frac = 0.7)\n",
    "temp_df_2 = temp_df.drop(temp_df_1.index)"
   ]
  },
  {
   "cell_type": "code",
   "execution_count": 106,
   "id": "9d8ac34c",
   "metadata": {},
   "outputs": [
    {
     "name": "stdout",
     "output_type": "stream",
     "text": [
      "(307511, 160)\n",
      "(215258, 160)\n",
      "(92253, 160)\n"
     ]
    }
   ],
   "source": [
    "print (temp_df.shape)\n",
    "print (temp_df_1.shape)\n",
    "print (temp_df_2.shape)"
   ]
  },
  {
   "cell_type": "code",
   "execution_count": 107,
   "id": "f78dcb2d",
   "metadata": {},
   "outputs": [
    {
     "data": {
      "text/plain": [
       "pandas.core.frame.DataFrame"
      ]
     },
     "execution_count": 107,
     "metadata": {},
     "output_type": "execute_result"
    }
   ],
   "source": [
    "type(temp_df_1)"
   ]
  },
  {
   "cell_type": "code",
   "execution_count": 15,
   "id": "ab2a0221",
   "metadata": {},
   "outputs": [],
   "source": [
    "df_model=session.createDataFrame(\n",
    "        temp_df_1.values.tolist(),\n",
    "        schema=temp_df_1.columns.tolist())\n",
    "df_model.write.mode(\"overwrite\").save_as_table(\"FDC_Banking_FS.PUBLIC.CRA_APPLICATION_OUTPUT_BATCH1\")"
   ]
  },
  {
   "cell_type": "code",
   "execution_count": 16,
   "id": "ec564a48",
   "metadata": {},
   "outputs": [],
   "source": [
    "df_model=session.createDataFrame(\n",
    "        temp_df_2.values.tolist(),\n",
    "        schema=temp_df_2.columns.tolist())\n",
    "df_model.write.mode(\"overwrite\").save_as_table(\"FDC_Banking_FS.PUBLIC.CRA_APPLICATION_OUTPUT_BATCH2\")"
   ]
  }
 ],
 "metadata": {
  "kernelspec": {
   "display_name": "Python 3",
   "language": "python",
   "name": "python3"
  },
  "language_info": {
   "codemirror_mode": {
    "name": "ipython",
    "version": 3
   },
   "file_extension": ".py",
   "mimetype": "text/x-python",
   "name": "python",
   "nbconvert_exporter": "python",
   "pygments_lexer": "ipython3",
   "version": "3.8.18"
  }
 },
 "nbformat": 4,
 "nbformat_minor": 5
}
