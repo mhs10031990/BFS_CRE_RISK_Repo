{
 "cells": [
  {
   "cell_type": "markdown",
   "id": "632503b3",
   "metadata": {},
   "source": [
    "# Use Credit Risk Analytics Notebook template"
   ]
  },
  {
   "cell_type": "markdown",
   "id": "614d8e24",
   "metadata": {},
   "source": [
    "### Packages needed to run this notebook if running with inbuilt snowpark 3.8 template\n",
    "##### !pip install --q \"snowflake-connector-python[pandas]\"\n",
    "##### !sudo pip install --q  snowflake-ml-python==1.0.11 -U\n",
    "##### !pip install --upgrade --q snowflake-snowpark-python==1.9.0\n",
    "##### !pip install --upgrade --q numpy==1.24.3\n",
    "##### !pip install --upgrade --q pandas==1.5.3\n",
    "##### !pip install fosforio"
   ]
  },
  {
   "cell_type": "code",
   "execution_count": 1,
   "id": "4871a0ed",
   "metadata": {},
   "outputs": [],
   "source": [
    "#Snowpark lib\n",
    "from snowflake.snowpark import Session\n",
    "\n",
    "# Data Science Libs\n",
    "import numpy as np\n",
    "import pandas as pd\n",
    "\n",
    "# create_temp_table warning suppresion\n",
    "import warnings; warnings.simplefilter('ignore')\n",
    "\n",
    "#ConfigParser to read ini file\n",
    "import configparser"
   ]
  },
  {
   "cell_type": "markdown",
   "id": "c59822ac",
   "metadata": {},
   "source": [
    "# How to use Notebook Variables declared in customized template"
   ]
  },
  {
   "cell_type": "code",
   "execution_count": 2,
   "id": "488e8de0",
   "metadata": {},
   "outputs": [
    {
     "name": "stdout",
     "output_type": "stream",
     "text": [
      "PrPr\n"
     ]
    }
   ],
   "source": [
    "import os\n",
    "print (os.getenv('notebook_environment'))"
   ]
  },
  {
   "cell_type": "code",
   "execution_count": 3,
   "id": "b518662d",
   "metadata": {
    "scrolled": true
   },
   "outputs": [
    {
     "name": "stdout",
     "output_type": "stream",
     "text": [
      "credit_risk_analytics\n"
     ]
    }
   ],
   "source": [
    "print (os.getenv('notebook_template'))"
   ]
  },
  {
   "cell_type": "markdown",
   "id": "70ec341a",
   "metadata": {},
   "source": [
    "# How to use Project Parameters declared under Notebooks section"
   ]
  },
  {
   "cell_type": "code",
   "execution_count": 4,
   "id": "5e3246d4",
   "metadata": {},
   "outputs": [
    {
     "name": "stdout",
     "output_type": "stream",
     "text": [
      "ug94937.us-east4.gcp\n"
     ]
    }
   ],
   "source": [
    "print (os.getenv('Snowflake_Account'))"
   ]
  },
  {
   "cell_type": "code",
   "execution_count": 5,
   "id": "d92394d7",
   "metadata": {},
   "outputs": [
    {
     "name": "stdout",
     "output_type": "stream",
     "text": [
      "MANISH\n"
     ]
    }
   ],
   "source": [
    "print (os.getenv('Snowflake_user'))"
   ]
  },
  {
   "cell_type": "markdown",
   "id": "b1aaba03",
   "metadata": {},
   "source": [
    "# Different ways to achieve Snowflake Connection"
   ]
  },
  {
   "cell_type": "markdown",
   "id": "6c5f49da",
   "metadata": {},
   "source": [
    "## 1. Code to establish connection using Config Parser and .ini file"
   ]
  },
  {
   "cell_type": "code",
   "execution_count": 14,
   "id": "8a5fa270",
   "metadata": {},
   "outputs": [
    {
     "data": {
      "text/plain": [
       "['/notebooks/notebooks/Config/snowflake_connection.ini']"
      ]
     },
     "execution_count": 14,
     "metadata": {},
     "output_type": "execute_result"
    }
   ],
   "source": [
    "config = configparser.ConfigParser()\n",
    "config.read(\"/notebooks/notebooks/Config/snowflake_connection.ini\")"
   ]
  },
  {
   "cell_type": "code",
   "execution_count": 15,
   "id": "d933cdd5",
   "metadata": {},
   "outputs": [],
   "source": [
    "connection_parameters = {\n",
    "    \"user\": f'{config[\"Snowflake\"][\"user\"]}',\n",
    "    \"password\": os.getenv('Snowflake_password'),\n",
    "    \"account\": f'{config[\"Snowflake\"][\"account\"]}',\n",
    "    \"WAREHOUSE\": f'{config[\"Snowflake\"][\"WAREHOUSE\"]}',\n",
    "    \"DATABASE\": f'{config[\"Snowflake\"][\"DATABASE\"]}',\n",
    "    \"SCHEMA\": f'{config[\"Snowflake\"][\"SCHEMA\"]}'\n",
    "}"
   ]
  },
  {
   "cell_type": "code",
   "execution_count": 16,
   "id": "18e767bd",
   "metadata": {},
   "outputs": [
    {
     "name": "stdout",
     "output_type": "stream",
     "text": [
      "connection successful!\n"
     ]
    }
   ],
   "source": [
    "def snowflake_connector(conn):\n",
    "    try:\n",
    "        session = Session.builder.configs(conn).create()\n",
    "        print(\"connection successful!\")\n",
    "    except:\n",
    "        raise ValueError(\"error while connecting with db\")\n",
    "    return session\n",
    "\n",
    "session = snowflake_connector(connection_parameters)"
   ]
  },
  {
   "cell_type": "code",
   "execution_count": 18,
   "id": "c19cce94",
   "metadata": {},
   "outputs": [],
   "source": [
    "df = session.table(\"CRA_CREDIT_CARD_BALANCE_DETAILS\")"
   ]
  },
  {
   "cell_type": "code",
   "execution_count": 19,
   "id": "3af9c5da",
   "metadata": {},
   "outputs": [],
   "source": [
    "df = df.to_pandas()"
   ]
  },
  {
   "cell_type": "code",
   "execution_count": 20,
   "id": "e8617158",
   "metadata": {
    "scrolled": true
   },
   "outputs": [
    {
     "data": {
      "text/html": [
       "<div>\n",
       "<style scoped>\n",
       "    .dataframe tbody tr th:only-of-type {\n",
       "        vertical-align: middle;\n",
       "    }\n",
       "\n",
       "    .dataframe tbody tr th {\n",
       "        vertical-align: top;\n",
       "    }\n",
       "\n",
       "    .dataframe thead th {\n",
       "        text-align: right;\n",
       "    }\n",
       "</style>\n",
       "<table border=\"1\" class=\"dataframe\">\n",
       "  <thead>\n",
       "    <tr style=\"text-align: right;\">\n",
       "      <th></th>\n",
       "      <th>SK_ID_PREV</th>\n",
       "      <th>SK_ID_CURR</th>\n",
       "      <th>MONTHS_BALANCE</th>\n",
       "      <th>AMT_BALANCE</th>\n",
       "      <th>AMT_CREDIT_LIMIT_ACTUAL</th>\n",
       "      <th>AMT_DRAWINGS_ATM_CURRENT</th>\n",
       "      <th>AMT_DRAWINGS_CURRENT</th>\n",
       "      <th>AMT_DRAWINGS_OTHER_CURRENT</th>\n",
       "      <th>AMT_DRAWINGS_POS_CURRENT</th>\n",
       "      <th>AMT_INST_MIN_REGULARITY</th>\n",
       "      <th>...</th>\n",
       "      <th>CNT_DRAWINGS_ATM_CURRENT</th>\n",
       "      <th>CNT_DRAWINGS_CURRENT</th>\n",
       "      <th>CNT_DRAWINGS_OTHER_CURRENT</th>\n",
       "      <th>CNT_DRAWINGS_POS_CURRENT</th>\n",
       "      <th>CNT_INSTALMENT_MATURE_CUM</th>\n",
       "      <th>NAME_CONTRACT_STATUS</th>\n",
       "      <th>SK_DPD</th>\n",
       "      <th>SK_DPD_DEF</th>\n",
       "      <th>CREATED_BY</th>\n",
       "      <th>CREATED_AT</th>\n",
       "    </tr>\n",
       "  </thead>\n",
       "  <tbody>\n",
       "    <tr>\n",
       "      <th>0</th>\n",
       "      <td>1406681</td>\n",
       "      <td>166393</td>\n",
       "      <td>-65</td>\n",
       "      <td>67.50</td>\n",
       "      <td>67500</td>\n",
       "      <td>0.0</td>\n",
       "      <td>0.0</td>\n",
       "      <td>0.0</td>\n",
       "      <td>0.0</td>\n",
       "      <td>67.5</td>\n",
       "      <td>...</td>\n",
       "      <td>0.0</td>\n",
       "      <td>0</td>\n",
       "      <td>0.0</td>\n",
       "      <td>0.0</td>\n",
       "      <td>13.0</td>\n",
       "      <td>Active</td>\n",
       "      <td>0</td>\n",
       "      <td>0</td>\n",
       "      <td>FDC_User</td>\n",
       "      <td>2024-05-23 23:02:27.674000-07:00</td>\n",
       "    </tr>\n",
       "    <tr>\n",
       "      <th>1</th>\n",
       "      <td>2238515</td>\n",
       "      <td>170074</td>\n",
       "      <td>-55</td>\n",
       "      <td>68499.99</td>\n",
       "      <td>135000</td>\n",
       "      <td>0.0</td>\n",
       "      <td>0.0</td>\n",
       "      <td>0.0</td>\n",
       "      <td>0.0</td>\n",
       "      <td>8100.0</td>\n",
       "      <td>...</td>\n",
       "      <td>0.0</td>\n",
       "      <td>0</td>\n",
       "      <td>0.0</td>\n",
       "      <td>0.0</td>\n",
       "      <td>29.0</td>\n",
       "      <td>Active</td>\n",
       "      <td>0</td>\n",
       "      <td>0</td>\n",
       "      <td>FDC_User</td>\n",
       "      <td>2024-05-23 23:02:27.674000-07:00</td>\n",
       "    </tr>\n",
       "    <tr>\n",
       "      <th>2</th>\n",
       "      <td>1875201</td>\n",
       "      <td>430424</td>\n",
       "      <td>-63</td>\n",
       "      <td>0.00</td>\n",
       "      <td>90000</td>\n",
       "      <td>0.0</td>\n",
       "      <td>0.0</td>\n",
       "      <td>0.0</td>\n",
       "      <td>0.0</td>\n",
       "      <td>0.0</td>\n",
       "      <td>...</td>\n",
       "      <td>0.0</td>\n",
       "      <td>0</td>\n",
       "      <td>0.0</td>\n",
       "      <td>0.0</td>\n",
       "      <td>24.0</td>\n",
       "      <td>Active</td>\n",
       "      <td>0</td>\n",
       "      <td>0</td>\n",
       "      <td>FDC_User</td>\n",
       "      <td>2024-05-23 23:02:27.674000-07:00</td>\n",
       "    </tr>\n",
       "    <tr>\n",
       "      <th>3</th>\n",
       "      <td>2641581</td>\n",
       "      <td>134182</td>\n",
       "      <td>-58</td>\n",
       "      <td>0.00</td>\n",
       "      <td>0</td>\n",
       "      <td>0.0</td>\n",
       "      <td>0.0</td>\n",
       "      <td>0.0</td>\n",
       "      <td>0.0</td>\n",
       "      <td>0.0</td>\n",
       "      <td>...</td>\n",
       "      <td>0.0</td>\n",
       "      <td>0</td>\n",
       "      <td>0.0</td>\n",
       "      <td>0.0</td>\n",
       "      <td>24.0</td>\n",
       "      <td>Active</td>\n",
       "      <td>0</td>\n",
       "      <td>0</td>\n",
       "      <td>FDC_User</td>\n",
       "      <td>2024-05-23 23:02:27.674000-07:00</td>\n",
       "    </tr>\n",
       "    <tr>\n",
       "      <th>4</th>\n",
       "      <td>1304987</td>\n",
       "      <td>177889</td>\n",
       "      <td>-57</td>\n",
       "      <td>193248.99</td>\n",
       "      <td>180000</td>\n",
       "      <td>2250.0</td>\n",
       "      <td>2475.0</td>\n",
       "      <td>0.0</td>\n",
       "      <td>225.0</td>\n",
       "      <td>9000.0</td>\n",
       "      <td>...</td>\n",
       "      <td>1.0</td>\n",
       "      <td>2</td>\n",
       "      <td>0.0</td>\n",
       "      <td>1.0</td>\n",
       "      <td>32.0</td>\n",
       "      <td>Active</td>\n",
       "      <td>1</td>\n",
       "      <td>1</td>\n",
       "      <td>FDC_User</td>\n",
       "      <td>2024-05-23 23:02:27.674000-07:00</td>\n",
       "    </tr>\n",
       "  </tbody>\n",
       "</table>\n",
       "<p>5 rows × 25 columns</p>\n",
       "</div>"
      ],
      "text/plain": [
       "   SK_ID_PREV  SK_ID_CURR  MONTHS_BALANCE  AMT_BALANCE   \n",
       "0     1406681      166393             -65        67.50  \\\n",
       "1     2238515      170074             -55     68499.99   \n",
       "2     1875201      430424             -63         0.00   \n",
       "3     2641581      134182             -58         0.00   \n",
       "4     1304987      177889             -57    193248.99   \n",
       "\n",
       "   AMT_CREDIT_LIMIT_ACTUAL  AMT_DRAWINGS_ATM_CURRENT  AMT_DRAWINGS_CURRENT   \n",
       "0                    67500                       0.0                   0.0  \\\n",
       "1                   135000                       0.0                   0.0   \n",
       "2                    90000                       0.0                   0.0   \n",
       "3                        0                       0.0                   0.0   \n",
       "4                   180000                    2250.0                2475.0   \n",
       "\n",
       "   AMT_DRAWINGS_OTHER_CURRENT  AMT_DRAWINGS_POS_CURRENT   \n",
       "0                         0.0                       0.0  \\\n",
       "1                         0.0                       0.0   \n",
       "2                         0.0                       0.0   \n",
       "3                         0.0                       0.0   \n",
       "4                         0.0                     225.0   \n",
       "\n",
       "   AMT_INST_MIN_REGULARITY  ...  CNT_DRAWINGS_ATM_CURRENT   \n",
       "0                     67.5  ...                       0.0  \\\n",
       "1                   8100.0  ...                       0.0   \n",
       "2                      0.0  ...                       0.0   \n",
       "3                      0.0  ...                       0.0   \n",
       "4                   9000.0  ...                       1.0   \n",
       "\n",
       "   CNT_DRAWINGS_CURRENT  CNT_DRAWINGS_OTHER_CURRENT  CNT_DRAWINGS_POS_CURRENT   \n",
       "0                     0                         0.0                       0.0  \\\n",
       "1                     0                         0.0                       0.0   \n",
       "2                     0                         0.0                       0.0   \n",
       "3                     0                         0.0                       0.0   \n",
       "4                     2                         0.0                       1.0   \n",
       "\n",
       "   CNT_INSTALMENT_MATURE_CUM  NAME_CONTRACT_STATUS  SK_DPD  SK_DPD_DEF   \n",
       "0                       13.0                Active       0           0  \\\n",
       "1                       29.0                Active       0           0   \n",
       "2                       24.0                Active       0           0   \n",
       "3                       24.0                Active       0           0   \n",
       "4                       32.0                Active       1           1   \n",
       "\n",
       "   CREATED_BY                       CREATED_AT  \n",
       "0    FDC_User 2024-05-23 23:02:27.674000-07:00  \n",
       "1    FDC_User 2024-05-23 23:02:27.674000-07:00  \n",
       "2    FDC_User 2024-05-23 23:02:27.674000-07:00  \n",
       "3    FDC_User 2024-05-23 23:02:27.674000-07:00  \n",
       "4    FDC_User 2024-05-23 23:02:27.674000-07:00  \n",
       "\n",
       "[5 rows x 25 columns]"
      ]
     },
     "execution_count": 20,
     "metadata": {},
     "output_type": "execute_result"
    }
   ],
   "source": [
    "df.head()"
   ]
  },
  {
   "cell_type": "code",
   "execution_count": 21,
   "id": "4add7f39",
   "metadata": {},
   "outputs": [
    {
     "data": {
      "text/plain": [
       "(3840312, 25)"
      ]
     },
     "execution_count": 21,
     "metadata": {},
     "output_type": "execute_result"
    }
   ],
   "source": [
    "df.shape"
   ]
  },
  {
   "cell_type": "markdown",
   "id": "b7b890d6",
   "metadata": {},
   "source": [
    "# 2 Using Inbuilt FosforIO package"
   ]
  },
  {
   "cell_type": "code",
   "execution_count": 22,
   "id": "6bdd46a1",
   "metadata": {},
   "outputs": [
    {
     "name": "stdout",
     "output_type": "stream",
     "text": [
      "Connection manager service url initialised to http://fdc-project-manager:80/project-manager\n",
      "If you need to update its value then update the variable CONNECTION_MANAGER_BASE_URL in os env.\n"
     ]
    }
   ],
   "source": [
    "from fosforio import snowflake"
   ]
  },
  {
   "cell_type": "code",
   "execution_count": 23,
   "id": "4e4447aa",
   "metadata": {},
   "outputs": [
    {
     "name": "stdout",
     "output_type": "stream",
     "text": [
      "User name picked from OS env: manishh.singh@fosfor.com\n",
      "Fetching connections created by manishh.singh@fosfor.com user\n",
      "Connection names fetched ['FDC_SNOWFLAKE', 'FDC_SNOWFLAKE', 'FDC_SNOWFLAKE', 'FDC_Insurance_Snowflake', 'FDC_Banking_FS_Snowflake'], created by manishh.singh@fosfor.com\n",
      "Exception occurred in getting snowflake connection: 'connectionSources'\n"
     ]
    }
   ],
   "source": [
    "# To get snowflake connection object with a default snowflake connection created by the user, if available.\n",
    "snowflake.get_connection()\n",
    "\n",
    "# To get snowflake connection object with a specific connection name\n",
    "#snowflake.get_connection(connection_name=\"FDC_Insurance_Snowflake\")"
   ]
  },
  {
   "cell_type": "code",
   "execution_count": 24,
   "id": "1c44083b",
   "metadata": {},
   "outputs": [],
   "source": [
    "# To read a specific dataset published from a snowflake connection\n",
    "df = snowflake.get_dataframe(\"CRA_CREDIT_CARD_BALANCE_DETAILS\")"
   ]
  },
  {
   "cell_type": "code",
   "execution_count": 25,
   "id": "3a276ff8",
   "metadata": {},
   "outputs": [
    {
     "data": {
      "text/html": [
       "<div>\n",
       "<style scoped>\n",
       "    .dataframe tbody tr th:only-of-type {\n",
       "        vertical-align: middle;\n",
       "    }\n",
       "\n",
       "    .dataframe tbody tr th {\n",
       "        vertical-align: top;\n",
       "    }\n",
       "\n",
       "    .dataframe thead th {\n",
       "        text-align: right;\n",
       "    }\n",
       "</style>\n",
       "<table border=\"1\" class=\"dataframe\">\n",
       "  <thead>\n",
       "    <tr style=\"text-align: right;\">\n",
       "      <th></th>\n",
       "      <th>SK_ID_PREV</th>\n",
       "      <th>SK_ID_CURR</th>\n",
       "      <th>MONTHS_BALANCE</th>\n",
       "      <th>AMT_BALANCE</th>\n",
       "      <th>AMT_CREDIT_LIMIT_ACTUAL</th>\n",
       "      <th>AMT_DRAWINGS_ATM_CURRENT</th>\n",
       "      <th>AMT_DRAWINGS_CURRENT</th>\n",
       "      <th>AMT_DRAWINGS_OTHER_CURRENT</th>\n",
       "      <th>AMT_DRAWINGS_POS_CURRENT</th>\n",
       "      <th>AMT_INST_MIN_REGULARITY</th>\n",
       "      <th>...</th>\n",
       "      <th>CNT_DRAWINGS_ATM_CURRENT</th>\n",
       "      <th>CNT_DRAWINGS_CURRENT</th>\n",
       "      <th>CNT_DRAWINGS_OTHER_CURRENT</th>\n",
       "      <th>CNT_DRAWINGS_POS_CURRENT</th>\n",
       "      <th>CNT_INSTALMENT_MATURE_CUM</th>\n",
       "      <th>NAME_CONTRACT_STATUS</th>\n",
       "      <th>SK_DPD</th>\n",
       "      <th>SK_DPD_DEF</th>\n",
       "      <th>CREATED_BY</th>\n",
       "      <th>CREATED_AT</th>\n",
       "    </tr>\n",
       "  </thead>\n",
       "  <tbody>\n",
       "    <tr>\n",
       "      <th>0</th>\n",
       "      <td>1406681</td>\n",
       "      <td>166393</td>\n",
       "      <td>-65</td>\n",
       "      <td>67.50</td>\n",
       "      <td>67500</td>\n",
       "      <td>0.0</td>\n",
       "      <td>0.0</td>\n",
       "      <td>0.0</td>\n",
       "      <td>0.0</td>\n",
       "      <td>67.5</td>\n",
       "      <td>...</td>\n",
       "      <td>0.0</td>\n",
       "      <td>0</td>\n",
       "      <td>0.0</td>\n",
       "      <td>0.0</td>\n",
       "      <td>13.0</td>\n",
       "      <td>Active</td>\n",
       "      <td>0</td>\n",
       "      <td>0</td>\n",
       "      <td>FDC_User</td>\n",
       "      <td>2024-05-23 23:02:27.674000-07:00</td>\n",
       "    </tr>\n",
       "    <tr>\n",
       "      <th>1</th>\n",
       "      <td>2238515</td>\n",
       "      <td>170074</td>\n",
       "      <td>-55</td>\n",
       "      <td>68499.99</td>\n",
       "      <td>135000</td>\n",
       "      <td>0.0</td>\n",
       "      <td>0.0</td>\n",
       "      <td>0.0</td>\n",
       "      <td>0.0</td>\n",
       "      <td>8100.0</td>\n",
       "      <td>...</td>\n",
       "      <td>0.0</td>\n",
       "      <td>0</td>\n",
       "      <td>0.0</td>\n",
       "      <td>0.0</td>\n",
       "      <td>29.0</td>\n",
       "      <td>Active</td>\n",
       "      <td>0</td>\n",
       "      <td>0</td>\n",
       "      <td>FDC_User</td>\n",
       "      <td>2024-05-23 23:02:27.674000-07:00</td>\n",
       "    </tr>\n",
       "    <tr>\n",
       "      <th>2</th>\n",
       "      <td>1875201</td>\n",
       "      <td>430424</td>\n",
       "      <td>-63</td>\n",
       "      <td>0.00</td>\n",
       "      <td>90000</td>\n",
       "      <td>0.0</td>\n",
       "      <td>0.0</td>\n",
       "      <td>0.0</td>\n",
       "      <td>0.0</td>\n",
       "      <td>0.0</td>\n",
       "      <td>...</td>\n",
       "      <td>0.0</td>\n",
       "      <td>0</td>\n",
       "      <td>0.0</td>\n",
       "      <td>0.0</td>\n",
       "      <td>24.0</td>\n",
       "      <td>Active</td>\n",
       "      <td>0</td>\n",
       "      <td>0</td>\n",
       "      <td>FDC_User</td>\n",
       "      <td>2024-05-23 23:02:27.674000-07:00</td>\n",
       "    </tr>\n",
       "    <tr>\n",
       "      <th>3</th>\n",
       "      <td>2641581</td>\n",
       "      <td>134182</td>\n",
       "      <td>-58</td>\n",
       "      <td>0.00</td>\n",
       "      <td>0</td>\n",
       "      <td>0.0</td>\n",
       "      <td>0.0</td>\n",
       "      <td>0.0</td>\n",
       "      <td>0.0</td>\n",
       "      <td>0.0</td>\n",
       "      <td>...</td>\n",
       "      <td>0.0</td>\n",
       "      <td>0</td>\n",
       "      <td>0.0</td>\n",
       "      <td>0.0</td>\n",
       "      <td>24.0</td>\n",
       "      <td>Active</td>\n",
       "      <td>0</td>\n",
       "      <td>0</td>\n",
       "      <td>FDC_User</td>\n",
       "      <td>2024-05-23 23:02:27.674000-07:00</td>\n",
       "    </tr>\n",
       "    <tr>\n",
       "      <th>4</th>\n",
       "      <td>1304987</td>\n",
       "      <td>177889</td>\n",
       "      <td>-57</td>\n",
       "      <td>193248.99</td>\n",
       "      <td>180000</td>\n",
       "      <td>2250.0</td>\n",
       "      <td>2475.0</td>\n",
       "      <td>0.0</td>\n",
       "      <td>225.0</td>\n",
       "      <td>9000.0</td>\n",
       "      <td>...</td>\n",
       "      <td>1.0</td>\n",
       "      <td>2</td>\n",
       "      <td>0.0</td>\n",
       "      <td>1.0</td>\n",
       "      <td>32.0</td>\n",
       "      <td>Active</td>\n",
       "      <td>1</td>\n",
       "      <td>1</td>\n",
       "      <td>FDC_User</td>\n",
       "      <td>2024-05-23 23:02:27.674000-07:00</td>\n",
       "    </tr>\n",
       "  </tbody>\n",
       "</table>\n",
       "<p>5 rows × 25 columns</p>\n",
       "</div>"
      ],
      "text/plain": [
       "   SK_ID_PREV  SK_ID_CURR  MONTHS_BALANCE  AMT_BALANCE   \n",
       "0     1406681      166393             -65        67.50  \\\n",
       "1     2238515      170074             -55     68499.99   \n",
       "2     1875201      430424             -63         0.00   \n",
       "3     2641581      134182             -58         0.00   \n",
       "4     1304987      177889             -57    193248.99   \n",
       "\n",
       "   AMT_CREDIT_LIMIT_ACTUAL  AMT_DRAWINGS_ATM_CURRENT  AMT_DRAWINGS_CURRENT   \n",
       "0                    67500                       0.0                   0.0  \\\n",
       "1                   135000                       0.0                   0.0   \n",
       "2                    90000                       0.0                   0.0   \n",
       "3                        0                       0.0                   0.0   \n",
       "4                   180000                    2250.0                2475.0   \n",
       "\n",
       "   AMT_DRAWINGS_OTHER_CURRENT  AMT_DRAWINGS_POS_CURRENT   \n",
       "0                         0.0                       0.0  \\\n",
       "1                         0.0                       0.0   \n",
       "2                         0.0                       0.0   \n",
       "3                         0.0                       0.0   \n",
       "4                         0.0                     225.0   \n",
       "\n",
       "   AMT_INST_MIN_REGULARITY  ...  CNT_DRAWINGS_ATM_CURRENT   \n",
       "0                     67.5  ...                       0.0  \\\n",
       "1                   8100.0  ...                       0.0   \n",
       "2                      0.0  ...                       0.0   \n",
       "3                      0.0  ...                       0.0   \n",
       "4                   9000.0  ...                       1.0   \n",
       "\n",
       "   CNT_DRAWINGS_CURRENT  CNT_DRAWINGS_OTHER_CURRENT  CNT_DRAWINGS_POS_CURRENT   \n",
       "0                     0                         0.0                       0.0  \\\n",
       "1                     0                         0.0                       0.0   \n",
       "2                     0                         0.0                       0.0   \n",
       "3                     0                         0.0                       0.0   \n",
       "4                     2                         0.0                       1.0   \n",
       "\n",
       "   CNT_INSTALMENT_MATURE_CUM  NAME_CONTRACT_STATUS  SK_DPD  SK_DPD_DEF   \n",
       "0                       13.0                Active       0           0  \\\n",
       "1                       29.0                Active       0           0   \n",
       "2                       24.0                Active       0           0   \n",
       "3                       24.0                Active       0           0   \n",
       "4                       32.0                Active       1           1   \n",
       "\n",
       "   CREATED_BY                       CREATED_AT  \n",
       "0    FDC_User 2024-05-23 23:02:27.674000-07:00  \n",
       "1    FDC_User 2024-05-23 23:02:27.674000-07:00  \n",
       "2    FDC_User 2024-05-23 23:02:27.674000-07:00  \n",
       "3    FDC_User 2024-05-23 23:02:27.674000-07:00  \n",
       "4    FDC_User 2024-05-23 23:02:27.674000-07:00  \n",
       "\n",
       "[5 rows x 25 columns]"
      ]
     },
     "execution_count": 25,
     "metadata": {},
     "output_type": "execute_result"
    }
   ],
   "source": [
    "df.head()"
   ]
  },
  {
   "cell_type": "markdown",
   "id": "0c921177",
   "metadata": {},
   "source": [
    "# 3 Using Snowflake Snowpark"
   ]
  },
  {
   "cell_type": "code",
   "execution_count": 26,
   "id": "0d2beeeb",
   "metadata": {},
   "outputs": [],
   "source": [
    "#Import all snowflake connection details from Template or Project variables.\n",
    "\n",
    "db_user = os.getenv('Snowflake_user')\n",
    "db_password =  os.getenv('Snowflake_password')\n",
    "db_account = os.getenv('Snowflake_Account')\n",
    "db_database =  os.getenv('Snowflake_Database')\n",
    "db_role = os.getenv('Snowflake_user')\n",
    "db_warehouse = os.getenv('Snowflake_Warehouse')\n",
    "db_schema = os.getenv('Snowflake_Schema')"
   ]
  },
  {
   "cell_type": "code",
   "execution_count": 27,
   "id": "7514813d",
   "metadata": {},
   "outputs": [],
   "source": [
    "from snowflake.snowpark.session import Session\n",
    "connection_params = {\n",
    "    'user': db_user,\n",
    "    'password': db_password,\n",
    "    'account': db_account,\n",
    "    'warehouse': db_warehouse,\n",
    "    'database': db_database,\n",
    "    'schema': db_schema,\n",
    "    'role': db_role\n",
    "}\n",
    "session = Session.builder.configs(connection_params).create()"
   ]
  },
  {
   "cell_type": "code",
   "execution_count": 28,
   "id": "d3d71a2a",
   "metadata": {},
   "outputs": [],
   "source": [
    "session.sql('use warehouse FOSFOR_SOLUTIONS_WH;').collect()\n",
    "session.sql('use database FDC_B;').collect()\n",
    "session.sql('use schema FDC_Insurance.PUBLIC;').collect()\n",
    "\n",
    "df_customer = session.table('FDC_Insurance.PUBLIC.CUSTOMER_MASTER').to_pandas()"
   ]
  },
  {
   "cell_type": "code",
   "execution_count": 26,
   "id": "732702db",
   "metadata": {},
   "outputs": [
    {
     "data": {
      "text/html": [
       "<div>\n",
       "<style scoped>\n",
       "    .dataframe tbody tr th:only-of-type {\n",
       "        vertical-align: middle;\n",
       "    }\n",
       "\n",
       "    .dataframe tbody tr th {\n",
       "        vertical-align: top;\n",
       "    }\n",
       "\n",
       "    .dataframe thead th {\n",
       "        text-align: right;\n",
       "    }\n",
       "</style>\n",
       "<table border=\"1\" class=\"dataframe\">\n",
       "  <thead>\n",
       "    <tr style=\"text-align: right;\">\n",
       "      <th></th>\n",
       "      <th>CREATED_BY</th>\n",
       "      <th>SEX</th>\n",
       "      <th>AGE</th>\n",
       "      <th>CUSTOMER_ID</th>\n",
       "      <th>OCCUPATION</th>\n",
       "      <th>EDUCATION_LEVEL</th>\n",
       "      <th>REGISTRATION_DATE</th>\n",
       "      <th>CREATED_AT</th>\n",
       "      <th>HOBBIES</th>\n",
       "      <th>ZIP_CODE</th>\n",
       "    </tr>\n",
       "  </thead>\n",
       "  <tbody>\n",
       "    <tr>\n",
       "      <th>0</th>\n",
       "      <td>FDC_User</td>\n",
       "      <td>FEMALE</td>\n",
       "      <td>66</td>\n",
       "      <td>afb9970e-8f33-4daf-839f-51c846d8d9d2</td>\n",
       "      <td>craft-repair</td>\n",
       "      <td>High School</td>\n",
       "      <td>2020-07-12</td>\n",
       "      <td>2024-05-20 22:33:50.289</td>\n",
       "      <td>golf</td>\n",
       "      <td>468104</td>\n",
       "    </tr>\n",
       "    <tr>\n",
       "      <th>1</th>\n",
       "      <td>FDC_User</td>\n",
       "      <td>FEMALE</td>\n",
       "      <td>46</td>\n",
       "      <td>c3018b4e-d38e-420a-a214-5399fa420980</td>\n",
       "      <td>prof-specialty</td>\n",
       "      <td>College</td>\n",
       "      <td>1999-05-12</td>\n",
       "      <td>2024-05-20 22:33:50.289</td>\n",
       "      <td>kayaking</td>\n",
       "      <td>447979</td>\n",
       "    </tr>\n",
       "    <tr>\n",
       "      <th>2</th>\n",
       "      <td>FDC_User</td>\n",
       "      <td>FEMALE</td>\n",
       "      <td>22</td>\n",
       "      <td>cf901c46-ac4d-48d2-9bc5-edc63006d52a</td>\n",
       "      <td>protective-serv</td>\n",
       "      <td>Masters</td>\n",
       "      <td>2022-02-12</td>\n",
       "      <td>2024-05-20 22:33:50.289</td>\n",
       "      <td>sleeping</td>\n",
       "      <td>437580</td>\n",
       "    </tr>\n",
       "    <tr>\n",
       "      <th>3</th>\n",
       "      <td>FDC_User</td>\n",
       "      <td>MALE</td>\n",
       "      <td>67</td>\n",
       "      <td>e541e439-5693-48a7-80e9-e67eb13d19f1</td>\n",
       "      <td>handlers-cleaners</td>\n",
       "      <td>College</td>\n",
       "      <td>2007-08-12</td>\n",
       "      <td>2024-05-20 22:33:50.289</td>\n",
       "      <td>board-games</td>\n",
       "      <td>466238</td>\n",
       "    </tr>\n",
       "    <tr>\n",
       "      <th>4</th>\n",
       "      <td>FDC_User</td>\n",
       "      <td>FEMALE</td>\n",
       "      <td>30</td>\n",
       "      <td>abf3c664-bb80-4bb9-983d-6d8ba461ab74</td>\n",
       "      <td>machine-op-inspct</td>\n",
       "      <td>Masters</td>\n",
       "      <td>2013-01-12</td>\n",
       "      <td>2024-05-20 22:33:50.289</td>\n",
       "      <td>exercise</td>\n",
       "      <td>606487</td>\n",
       "    </tr>\n",
       "  </tbody>\n",
       "</table>\n",
       "</div>"
      ],
      "text/plain": [
       "  CREATED_BY     SEX  AGE                           CUSTOMER_ID   \n",
       "0   FDC_User  FEMALE   66  afb9970e-8f33-4daf-839f-51c846d8d9d2  \\\n",
       "1   FDC_User  FEMALE   46  c3018b4e-d38e-420a-a214-5399fa420980   \n",
       "2   FDC_User  FEMALE   22  cf901c46-ac4d-48d2-9bc5-edc63006d52a   \n",
       "3   FDC_User    MALE   67  e541e439-5693-48a7-80e9-e67eb13d19f1   \n",
       "4   FDC_User  FEMALE   30  abf3c664-bb80-4bb9-983d-6d8ba461ab74   \n",
       "\n",
       "          OCCUPATION EDUCATION_LEVEL REGISTRATION_DATE   \n",
       "0       craft-repair     High School        2020-07-12  \\\n",
       "1     prof-specialty         College        1999-05-12   \n",
       "2    protective-serv         Masters        2022-02-12   \n",
       "3  handlers-cleaners         College        2007-08-12   \n",
       "4  machine-op-inspct         Masters        2013-01-12   \n",
       "\n",
       "               CREATED_AT      HOBBIES  ZIP_CODE  \n",
       "0 2024-05-20 22:33:50.289         golf    468104  \n",
       "1 2024-05-20 22:33:50.289     kayaking    447979  \n",
       "2 2024-05-20 22:33:50.289     sleeping    437580  \n",
       "3 2024-05-20 22:33:50.289  board-games    466238  \n",
       "4 2024-05-20 22:33:50.289     exercise    606487  "
      ]
     },
     "execution_count": 26,
     "metadata": {},
     "output_type": "execute_result"
    }
   ],
   "source": [
    "df_customer.head()"
   ]
  }
 ],
 "metadata": {
  "kernelspec": {
   "display_name": "Python 3",
   "language": "python",
   "name": "python3"
  },
  "language_info": {
   "codemirror_mode": {
    "name": "ipython",
    "version": 3
   },
   "file_extension": ".py",
   "mimetype": "text/x-python",
   "name": "python",
   "nbconvert_exporter": "python",
   "pygments_lexer": "ipython3",
   "version": "3.8.18"
  }
 },
 "nbformat": 4,
 "nbformat_minor": 5
}
